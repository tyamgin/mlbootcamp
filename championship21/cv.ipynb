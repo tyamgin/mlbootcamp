{
 "cells": [
  {
   "cell_type": "code",
   "execution_count": 1,
   "metadata": {},
   "outputs": [
    {
     "name": "stderr",
     "output_type": "stream",
     "text": [
      "/usr/local/lib/python3.7/site-packages/lightgbm/__init__.py:46: UserWarning: Starting from version 2.2.1, the library file in distribution wheels for macOS is built by the Apple Clang (Xcode_8.3.3) compiler.\n",
      "This means that in case of installing LightGBM from PyPI via the ``pip install lightgbm`` command, you don't need to install the gcc compiler anymore.\n",
      "Instead of that, you need to install the OpenMP library, which is required for running LightGBM on the system with the Apple Clang compiler.\n",
      "You can install the OpenMP library by the following command: ``brew install libomp``.\n",
      "  \"You can install the OpenMP library by the following command: ``brew install libomp``.\", UserWarning)\n",
      "Using TensorFlow backend.\n"
     ]
    }
   ],
   "source": [
    "%run header.ipynb"
   ]
  },
  {
   "cell_type": "code",
   "execution_count": 2,
   "metadata": {},
   "outputs": [
    {
     "data": {
      "text/plain": [
       "0"
      ]
     },
     "execution_count": 2,
     "metadata": {},
     "output_type": "execute_result"
    }
   ],
   "source": [
    "class MyModel:\n",
    "    verbose = 0\n",
    "    def __init__(self, params={}):\n",
    "        self.params = params\n",
    "    def fit(self, train, train_answers):\n",
    "        pass\n",
    "    def predict(self, X):\n",
    "        return None\n",
    "\n",
    "dummy_model = MyModel()\n",
    "dummy_model.verbose"
   ]
  },
  {
   "cell_type": "code",
   "execution_count": 3,
   "metadata": {},
   "outputs": [],
   "source": [
    "def area(box):\n",
    "    return (box[2] - box[0]) * (box[3] - box[1])\n",
    "\n",
    "def intersection_over_union(boxes):\n",
    "    assert(len(boxes) == 8)\n",
    "    boxA = boxes[:4]\n",
    "    boxB = boxes[4:]\n",
    "    \n",
    "    boxAArea = area(boxA)\n",
    "    boxBArea = area(boxB)\n",
    "    \n",
    "    if (boxAArea == 0 or boxBArea == 0):\n",
    "        return 0\n",
    "        \n",
    "    xA = max(boxA[0], boxB[0])\n",
    "    yA = max(boxA[1], boxB[1])\n",
    "    xB = min(boxA[2], boxB[2])\n",
    "    yB = min(boxA[3], boxB[3])\n",
    "\n",
    "    interArea = max(0, xB - xA) * max(0, yB - yA)\n",
    "\n",
    "    \n",
    "    iou = interArea / float(boxAArea + boxBArea - interArea)\n",
    "    return iou\n",
    "\n",
    "def get_score(actual, pred):\n",
    "    return pred.merge(actual, on=[\"itemId\"])[['Xmin', 'Ymin', 'Xmax', 'Ymax', 'Xmin_true',\\\n",
    "      'Ymin_true', 'Xmax_true', 'Ymax_true']].apply(lambda x: intersection_over_union(x.values), axis=1).mean()\n",
    "\n",
    "def cross_validation(model, data, answers, n_folds=5, n_iters=5, seed=2707, verbose=1, split_by='itemId'):\n",
    "    scores = []\n",
    "    if split_by:\n",
    "        ids = data[split_by].unique()\n",
    "    else:\n",
    "        ids = np.arange(data.shape[0])\n",
    "        \n",
    "    for iter in range(n_iters):\n",
    "        kf = KFold(n_splits=n_folds, random_state=seed+iter, shuffle=True)\n",
    "        print(kf)\n",
    "        fold = 0\n",
    "        for train_index, test_index in kf.split(ids):\n",
    "            fold += 1\n",
    "            if verbose >= 2:\n",
    "                print('Prepare data: %s' % datetime.datetime.now())\n",
    "                \n",
    "            if split_by:\n",
    "                data_train = data[data[split_by].isin(ids[train_index])]\n",
    "                data_test = data[data[split_by].isin(ids[test_index])]\n",
    "            else:\n",
    "                data_train = data.iloc[train_index,:]\n",
    "                data_test = data.iloc[test_index,:]\n",
    "\n",
    "            if verbose >= 2:\n",
    "                print('Fit: %s' % datetime.datetime.now())\n",
    "            model.fit(data_train, answers[answers.itemId.isin(data_train.itemId)])\n",
    "            if verbose >= 2:\n",
    "                print('Predict: %s' % datetime.datetime.now())\n",
    "\n",
    "            pred = model.predict(data_test)\n",
    "            score = get_score(answers[answers.itemId.isin(data_test.itemId)], pred)\n",
    "            scores.append(score)\n",
    "\n",
    "            #if verbose >= 1:\n",
    "            print('%2d -%2d : %1.4f, mean=%1.4f' % (iter, fold, score, np.mean(scores)))\n",
    "    return np.mean(scores)"
   ]
  },
  {
   "cell_type": "code",
   "execution_count": null,
   "metadata": {},
   "outputs": [],
   "source": []
  }
 ],
 "metadata": {
  "kernelspec": {
   "display_name": "Python 3",
   "language": "python",
   "name": "python3"
  },
  "language_info": {
   "codemirror_mode": {
    "name": "ipython",
    "version": 3
   },
   "file_extension": ".py",
   "mimetype": "text/x-python",
   "name": "python",
   "nbconvert_exporter": "python",
   "pygments_lexer": "ipython3",
   "version": "3.7.2"
  }
 },
 "nbformat": 4,
 "nbformat_minor": 2
}
