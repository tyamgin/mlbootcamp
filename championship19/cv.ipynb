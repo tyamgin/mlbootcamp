{
 "cells": [
  {
   "cell_type": "code",
   "execution_count": 1,
   "metadata": {},
   "outputs": [],
   "source": [
    "import numpy as np\n",
    "import pandas as pd\n",
    "from sklearn.model_selection import train_test_split\n",
    "from sklearn.model_selection import KFold\n",
    "from sklearn.metrics import roc_auc_score\n",
    "import datetime\n",
    "import mroc\n",
    "import math"
   ]
  },
  {
   "cell_type": "code",
   "execution_count": 49,
   "metadata": {},
   "outputs": [
    {
     "data": {
      "text/plain": [
       "0"
      ]
     },
     "execution_count": 49,
     "metadata": {},
     "output_type": "execute_result"
    }
   ],
   "source": [
    "class MyModel:\n",
    "    verbose = 0\n",
    "    def fit(self, data):\n",
    "        pass\n",
    "    def predict(self, X):\n",
    "        return np.repeat(0.5, X.shape[0])\n",
    "dummy_model = MyModel()\n",
    "dummy_model.verbose"
   ]
  },
  {
   "cell_type": "code",
   "execution_count": 52,
   "metadata": {},
   "outputs": [
    {
     "name": "stdout",
     "output_type": "stream",
     "text": [
      "0\n"
     ]
    }
   ],
   "source": [
    "class MyModel1(MyModel):\n",
    "    def func(self):\n",
    "        print(self.verbose)\n",
    "dummy_model1 = MyModel1()\n",
    "dummy_model1.func()"
   ]
  },
  {
   "cell_type": "code",
   "execution_count": 37,
   "metadata": {},
   "outputs": [],
   "source": [
    "def auc_true(test, pred):\n",
    "    return mroc.mean_roc_auc(test.instanceId_userId.values, test.label.values, pred)"
   ]
  },
  {
   "cell_type": "code",
   "execution_count": 71,
   "metadata": {},
   "outputs": [],
   "source": [
    "def cross_validation(model, data, n_folds=5, n_iters=5, seed=2707, verbose=1):\n",
    "    scores = []\n",
    "    user_ids = data['instanceId_userId'].unique()\n",
    "    for iter in range(n_iters):\n",
    "        kf = KFold(n_splits=n_folds, random_state=seed+iter, shuffle=True)\n",
    "        print(kf)\n",
    "        fold = 0\n",
    "        for train_index, test_index in kf.split(user_ids):\n",
    "            fold += 1\n",
    "            if verbose >= 2:\n",
    "                print('Prepare data: %s' % datetime.datetime.now())\n",
    "            data_train = data[data.instanceId_userId.isin(user_ids[train_index])]\n",
    "            data_test = data[data.instanceId_userId.isin(user_ids[test_index])]\n",
    "\n",
    "            if verbose >= 2:\n",
    "                print('Fit: %s' % datetime.datetime.now())\n",
    "            model.fit(data_train)\n",
    "            if verbose >= 2:\n",
    "                print('Predict: %s' % datetime.datetime.now())\n",
    "            pred = model.predict(data_test.drop('label', 1))\n",
    "            if verbose >= 2:\n",
    "                print('Auc: %s' % datetime.datetime.now())\n",
    "            score = auc_true(data_test, pred)\n",
    "            scores.append(score)\n",
    "            #if verbose >= 1:\n",
    "            print('%2d -%2d : %1.4f, mean=%1.4f' % (iter, fold, score, np.mean(scores)))"
   ]
  },
  {
   "cell_type": "code",
   "execution_count": 33,
   "metadata": {},
   "outputs": [
    {
     "data": {
      "text/html": [
       "<div>\n",
       "<style scoped>\n",
       "    .dataframe tbody tr th:only-of-type {\n",
       "        vertical-align: middle;\n",
       "    }\n",
       "\n",
       "    .dataframe tbody tr th {\n",
       "        vertical-align: top;\n",
       "    }\n",
       "\n",
       "    .dataframe thead th {\n",
       "        text-align: right;\n",
       "    }\n",
       "</style>\n",
       "<table border=\"1\" class=\"dataframe\">\n",
       "  <thead>\n",
       "    <tr style=\"text-align: right;\">\n",
       "      <th></th>\n",
       "      <th>instanceId_userId</th>\n",
       "      <th>b</th>\n",
       "      <th>label</th>\n",
       "    </tr>\n",
       "  </thead>\n",
       "  <tbody>\n",
       "    <tr>\n",
       "      <th>0</th>\n",
       "      <td>1</td>\n",
       "      <td>2</td>\n",
       "      <td>0</td>\n",
       "    </tr>\n",
       "    <tr>\n",
       "      <th>1</th>\n",
       "      <td>3</td>\n",
       "      <td>4</td>\n",
       "      <td>1</td>\n",
       "    </tr>\n",
       "    <tr>\n",
       "      <th>2</th>\n",
       "      <td>1</td>\n",
       "      <td>2</td>\n",
       "      <td>1</td>\n",
       "    </tr>\n",
       "    <tr>\n",
       "      <th>3</th>\n",
       "      <td>3</td>\n",
       "      <td>4</td>\n",
       "      <td>1</td>\n",
       "    </tr>\n",
       "    <tr>\n",
       "      <th>4</th>\n",
       "      <td>11</td>\n",
       "      <td>12</td>\n",
       "      <td>0</td>\n",
       "    </tr>\n",
       "    <tr>\n",
       "      <th>5</th>\n",
       "      <td>13</td>\n",
       "      <td>14</td>\n",
       "      <td>1</td>\n",
       "    </tr>\n",
       "    <tr>\n",
       "      <th>6</th>\n",
       "      <td>2</td>\n",
       "      <td>3</td>\n",
       "      <td>0</td>\n",
       "    </tr>\n",
       "    <tr>\n",
       "      <th>7</th>\n",
       "      <td>4</td>\n",
       "      <td>5</td>\n",
       "      <td>0</td>\n",
       "    </tr>\n",
       "  </tbody>\n",
       "</table>\n",
       "</div>"
      ],
      "text/plain": [
       "   instanceId_userId   b  label\n",
       "0                  1   2      0\n",
       "1                  3   4      1\n",
       "2                  1   2      1\n",
       "3                  3   4      1\n",
       "4                 11  12      0\n",
       "5                 13  14      1\n",
       "6                  2   3      0\n",
       "7                  4   5      0"
      ]
     },
     "execution_count": 33,
     "metadata": {},
     "output_type": "execute_result"
    }
   ],
   "source": [
    "X = np.array([[1, 2], [3, 4], [1, 2], [3, 4], [11, 12], [13, 14], [2, 3], [4, 5]])\n",
    "y = np.array([0, 1, 1, 1, 0, 1, 0, 0])\n",
    "data = pd.DataFrame(X, columns=['instanceId_userId', 'b'])\n",
    "data['label'] = y\n",
    "data"
   ]
  },
  {
   "cell_type": "code",
   "execution_count": 34,
   "metadata": {},
   "outputs": [
    {
     "name": "stdout",
     "output_type": "stream",
     "text": [
      "KFold(n_splits=3, random_state=2707, shuffle=True)\n",
      "Prepare data: 2019-02-20 22:38:39.887536\n",
      "Fit: 2019-02-20 22:38:39.893116\n",
      "Predict: 2019-02-20 22:38:39.893417\n",
      "Auc: 2019-02-20 22:38:39.894238\n",
      "[array([11,  2]), array([0, 0]), array([0.5, 0.5])]\n",
      " 0 - 1 : nan, mean=nan\n",
      "Prepare data: 2019-02-20 22:38:39.896880\n",
      "Fit: 2019-02-20 22:38:39.899935\n",
      "Predict: 2019-02-20 22:38:39.900014\n",
      "Auc: 2019-02-20 22:38:39.900826\n",
      "[array([1, 3, 1, 3]), array([0, 1, 1, 1]), array([0.5, 0.5, 0.5, 0.5])]\n",
      " 0 - 2 : 0.5000, mean=nan\n",
      "Prepare data: 2019-02-20 22:38:39.902909\n",
      "Fit: 2019-02-20 22:38:39.904595\n",
      "Predict: 2019-02-20 22:38:39.904669\n",
      "Auc: 2019-02-20 22:38:39.905394\n",
      "[array([13,  4]), array([1, 0]), array([0.5, 0.5])]\n",
      " 0 - 3 : nan, mean=nan\n"
     ]
    }
   ],
   "source": [
    "#cross_validation(MyModel, data, n_folds=3, n_iters=1)"
   ]
  },
  {
   "cell_type": "code",
   "execution_count": 36,
   "metadata": {},
   "outputs": [
    {
     "name": "stdout",
     "output_type": "stream",
     "text": [
      "KFold(n_splits=3, random_state=2707, shuffle=True)\n",
      "Prepare data: 2019-02-20 22:38:55.203491\n",
      "Fit: 2019-02-20 22:38:55.207606\n",
      "Predict: 2019-02-20 22:38:55.207762\n",
      "Auc: 2019-02-20 22:38:55.209564\n",
      "[array([11,  2]), array([0, 0]), array([0.5, 0.5])]\n",
      " 0 - 1 : nan, mean=nan\n",
      "Prepare data: 2019-02-20 22:38:55.210607\n",
      "Fit: 2019-02-20 22:38:55.213408\n",
      "Predict: 2019-02-20 22:38:55.213497\n",
      "Auc: 2019-02-20 22:38:55.215610\n",
      "[array([1, 1, 3, 3]), array([0, 1, 1, 1]), array([0.5, 0.5, 0.5, 0.5])]\n",
      " 0 - 2 : 0.5000, mean=nan\n",
      "Prepare data: 2019-02-20 22:38:55.217106\n",
      "Fit: 2019-02-20 22:38:55.220113\n",
      "Predict: 2019-02-20 22:38:55.220198\n",
      "Auc: 2019-02-20 22:38:55.221823\n",
      "[array([13,  4]), array([1, 0]), array([0.5, 0.5])]\n",
      " 0 - 3 : nan, mean=nan\n"
     ]
    }
   ],
   "source": [
    "#cross_validation(MyModel, data, n_folds=3, n_iters=1)"
   ]
  },
  {
   "cell_type": "code",
   "execution_count": 65,
   "metadata": {},
   "outputs": [],
   "source": [
    "a = np.array([1,2,3])\n",
    "b = np.array([2,3,4])"
   ]
  },
  {
   "cell_type": "code",
   "execution_count": 66,
   "metadata": {},
   "outputs": [
    {
     "data": {
      "text/plain": [
       "2.5"
      ]
     },
     "execution_count": 66,
     "metadata": {},
     "output_type": "execute_result"
    }
   ],
   "source": [
    "np.mean([a, b])"
   ]
  },
  {
   "cell_type": "code",
   "execution_count": 70,
   "metadata": {},
   "outputs": [
    {
     "data": {
      "text/plain": [
       "array([1.5, 2.5, 3.5])"
      ]
     },
     "execution_count": 70,
     "metadata": {},
     "output_type": "execute_result"
    }
   ],
   "source": [
    "np.add.reduce([a, b]) / 2"
   ]
  },
  {
   "cell_type": "code",
   "execution_count": null,
   "metadata": {},
   "outputs": [],
   "source": []
  }
 ],
 "metadata": {
  "kernelspec": {
   "display_name": "Python 3",
   "language": "python",
   "name": "python3"
  },
  "language_info": {
   "codemirror_mode": {
    "name": "ipython",
    "version": 3
   },
   "file_extension": ".py",
   "mimetype": "text/x-python",
   "name": "python",
   "nbconvert_exporter": "python",
   "pygments_lexer": "ipython3",
   "version": "3.7.2"
  }
 },
 "nbformat": 4,
 "nbformat_minor": 2
}
