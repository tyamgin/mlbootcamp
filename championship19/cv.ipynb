{
 "cells": [
  {
   "cell_type": "code",
   "execution_count": 111,
   "metadata": {},
   "outputs": [],
   "source": [
    "import numpy as np\n",
    "import pandas as pd\n",
    "from sklearn.model_selection import train_test_split\n",
    "from sklearn.model_selection import KFold\n",
    "from sklearn.metrics import roc_auc_score\n",
    "import datetime"
   ]
  },
  {
   "cell_type": "code",
   "execution_count": 84,
   "metadata": {},
   "outputs": [],
   "source": [
    "class MyModel:\n",
    "    def fit(self, data):\n",
    "        pass\n",
    "    def predict(self, X):\n",
    "        return np.repeat(0.5, X.shape[0])"
   ]
  },
  {
   "cell_type": "code",
   "execution_count": 109,
   "metadata": {},
   "outputs": [],
   "source": [
    "def auc_raw(labels, scores):\n",
    "    # This is important! AUC can be computed only when both positive and negative examples are\n",
    "    # available\n",
    "    if len(labels) > sum(labels) > 0:\n",
    "        return roc_auc_score(labels, scores)\n",
    "\n",
    "    return float('NaN')"
   ]
  },
  {
   "cell_type": "code",
   "execution_count": 110,
   "metadata": {},
   "outputs": [],
   "source": [
    "def auc_true(test, pred):\n",
    "    test = test.assign(pred=pred)\n",
    "    return test.groupby(\"instanceId_userId\")\\\n",
    "        .apply(lambda y: auc_raw(y.label.values, y.pred.values))\\\n",
    "        .dropna().mean()"
   ]
  },
  {
   "cell_type": "code",
   "execution_count": 103,
   "metadata": {},
   "outputs": [],
   "source": [
    "def cross_validation(model_class, data, n_folds=5, n_iters=5, seed=2707):\n",
    "    scores = []\n",
    "    user_ids = data['instanceId_userId'].unique()\n",
    "    for iter in range(n_iters):\n",
    "        kf = KFold(n_splits=n_folds, random_state=seed+iter, shuffle=True)\n",
    "        print(kf)\n",
    "        fold = 0\n",
    "        for train_index, test_index in kf.split(user_ids):\n",
    "            fold += 1\n",
    "            #print([user_ids[train_index], user_ids[test_index]])\n",
    "            print('Prepare data: %s' % datetime.datetime.now())\n",
    "            data_train = data[data['instanceId_userId'].isin(user_ids[train_index])]\n",
    "            data_test = data[data['instanceId_userId'].isin(user_ids[test_index])]\n",
    "\n",
    "            model = model_class()\n",
    "            print('Fit: %s' % datetime.datetime.now())\n",
    "            model.fit(data_train)\n",
    "            print('Predict: %s' % datetime.datetime.now())\n",
    "            pred = model.predict(data_test.drop('label', 1))\n",
    "            print('Auc: %s' % datetime.datetime.now())\n",
    "            score = auc_true(data_test, pred)\n",
    "            scores.append(score)\n",
    "            print('%2d -%2d : %1.4f, mean=%1.4f' % (iter, fold, score, np.mean(scores)))"
   ]
  },
  {
   "cell_type": "code",
   "execution_count": 104,
   "metadata": {},
   "outputs": [],
   "source": [
    "X = np.array([[1, 2], [3, 4], [1, 2], [3, 4], [11, 12], [13, 14], [2, 3], [4, 5]])\n",
    "y = np.array([0, 1, 1, 1, 0, 1, 0, 0])\n",
    "data = pd.DataFrame(X, columns=['instanceId_userId', 'b'])\n",
    "data['label'] = y\n",
    "#data"
   ]
  },
  {
   "cell_type": "code",
   "execution_count": 105,
   "metadata": {},
   "outputs": [],
   "source": [
    "#cross_validation(MyModel, data, n_folds=3, n_iters=1)"
   ]
  },
  {
   "cell_type": "code",
   "execution_count": 106,
   "metadata": {},
   "outputs": [],
   "source": [
    "#for i in KFold(n_splits=3, random_state=2707, shuffle=True).split([1,2,3,4,5,6]):\n",
    "#    print(i)"
   ]
  },
  {
   "cell_type": "code",
   "execution_count": 107,
   "metadata": {},
   "outputs": [],
   "source": [
    "#data[data['a'] == 3]"
   ]
  },
  {
   "cell_type": "code",
   "execution_count": 108,
   "metadata": {},
   "outputs": [],
   "source": [
    "#roc_auc_score([0,0], [1, 1])"
   ]
  }
 ],
 "metadata": {
  "kernelspec": {
   "display_name": "Python 3",
   "language": "python",
   "name": "python3"
  },
  "language_info": {
   "codemirror_mode": {
    "name": "ipython",
    "version": 3
   },
   "file_extension": ".py",
   "mimetype": "text/x-python",
   "name": "python",
   "nbconvert_exporter": "python",
   "pygments_lexer": "ipython3",
   "version": "3.7.2"
  }
 },
 "nbformat": 4,
 "nbformat_minor": 2
}
