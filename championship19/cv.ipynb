{
 "cells": [
  {
   "cell_type": "code",
   "execution_count": null,
   "metadata": {},
   "outputs": [],
   "source": [
    "%run /Users/tyamgin/Projects/mlbootcamp/championship19/header.ipynb"
   ]
  },
  {
   "cell_type": "code",
   "execution_count": 2,
   "metadata": {},
   "outputs": [
    {
     "data": {
      "text/plain": [
       "0"
      ]
     },
     "execution_count": 2,
     "metadata": {},
     "output_type": "execute_result"
    }
   ],
   "source": [
    "class MyModel:\n",
    "    verbose = 0\n",
    "    def __init__(self, params={}):\n",
    "        self.params = params\n",
    "    def get_X(self, data):\n",
    "        del_cols = ['objectId', 'instanceId_userId', 'metadata_ownerId', 'metadata_authorId', 'instanceId_objectId',\n",
    "                    'label', 'membership_statusUpdateDate',\n",
    "                    'clicked', 'viewed', 'disliked', 'reshared', 'ignored', 'commented', 'complaint', 'unliked',\n",
    "                    'audit_timestamp', 'metadata_createdAt']\n",
    "        return data.drop([c for c in del_cols if c in data.columns], 1)\n",
    "    def fit(self, data):\n",
    "        pass\n",
    "    def predict(self, X):\n",
    "        return np.repeat(0.5, X.shape[0])\n",
    "\n",
    "dummy_model = MyModel()\n",
    "dummy_model.verbose"
   ]
  },
  {
   "cell_type": "code",
   "execution_count": 7,
   "metadata": {},
   "outputs": [],
   "source": [
    "class MeanModel(MyModel):\n",
    "    def __init__(self, models, coefs):\n",
    "        self.models = models\n",
    "        self.coefs = coefs\n",
    "    def fit(self, data):\n",
    "        for m in self.models:\n",
    "            m.fit(data)\n",
    "    def predict(self, X):\n",
    "        sum = np.repeat(0.0, X.shape[0])\n",
    "        for m, c in zip(self.models, self.coefs):\n",
    "            sum += m.predict(X) * c\n",
    "        return sum "
   ]
  },
  {
   "cell_type": "code",
   "execution_count": null,
   "metadata": {},
   "outputs": [],
   "source": [
    "def predict_to_submit(X, proba):\n",
    "    X = X.assign(weight=-proba)\n",
    "    scores = X[['instanceId_userId', 'objectId', 'weight']] \\\n",
    "            .groupby(['instanceId_userId','objectId']).mean()\n",
    "    result = scores.sort_values(by=['instanceId_userId', 'weight']).reset_index()\n",
    "    return result.groupby(\"instanceId_userId\")['objectId'].apply(list)"
   ]
  },
  {
   "cell_type": "code",
   "execution_count": 37,
   "metadata": {},
   "outputs": [],
   "source": [
    "def auc_true(test, pred):\n",
    "    return mroc.mean_roc_auc(test.instanceId_userId.values, test.label.values, pred)\n"
   ]
  },
  {
   "cell_type": "code",
   "execution_count": 1,
   "metadata": {},
   "outputs": [],
   "source": [
    "def cross_validation(model, data, n_folds=5, n_iters=5, seed=2707, verbose=1, split_by='instanceId_userId'):\n",
    "    scores = []\n",
    "    if split_by:\n",
    "        user_ids = data[split_by].unique()\n",
    "    else:\n",
    "        user_ids = np.arange(data.shape[0])\n",
    "    for iter in range(n_iters):\n",
    "        kf = KFold(n_splits=n_folds, random_state=seed+iter, shuffle=True)\n",
    "        print(kf)\n",
    "        fold = 0\n",
    "        for train_index, test_index in kf.split(user_ids):\n",
    "            fold += 1\n",
    "            if verbose >= 2:\n",
    "                print('Prepare data: %s' % datetime.datetime.now())\n",
    "                \n",
    "            if split_by:\n",
    "                data_train = data[data[split_by].isin(user_ids[train_index])]\n",
    "                data_test = data[data[split_by].isin(user_ids[test_index])]\n",
    "            else:\n",
    "                data_train = data.iloc[train_index,:]\n",
    "                data_test = data.iloc[test_index,:]\n",
    "\n",
    "            if verbose >= 2:\n",
    "                print('Fit: %s' % datetime.datetime.now())\n",
    "            model.fit(data_train)\n",
    "            if verbose >= 2:\n",
    "                print('Predict: %s' % datetime.datetime.now())\n",
    "\n",
    "            pred = model.predict(data_test.drop('label', 1))\n",
    "            if verbose >= 2:\n",
    "                print('Auc: %s' % datetime.datetime.now())\n",
    "            score = auc_true(data_test, pred)\n",
    "            scores.append(score)\n",
    "\n",
    "            #if verbose >= 1:\n",
    "            print('%2d -%2d : %1.4f, mean=%1.4f' % (iter, fold, score, np.mean(scores)))\n",
    "    return np.mean(scores)"
   ]
  },
  {
   "cell_type": "code",
   "execution_count": 20,
   "metadata": {},
   "outputs": [],
   "source": [
    "_feature_selection_last_result = []\n",
    "def feature_selection(train, model, start_features, required_columns):\n",
    "    get_score = lambda feats: cross_validation(model, train[feats + required_columns], n_iters=1, verbose=1, seed=430)\n",
    "\n",
    "    best_score = get_score(start_features)\n",
    "    best_features = start_features\n",
    "    print('Start with score=%.6f: %s' % (best_score, ','.join(best_features)))\n",
    "    for i in range(len(start_features)):\n",
    "        remove_feature = start_features[i]\n",
    "        print('Try to remove %s' % remove_feature)\n",
    "        try_features = [c for c in best_features if c != remove_feature]\n",
    "        try_score = get_score(try_features)\n",
    "        if try_score > best_score:\n",
    "            best_score = try_score\n",
    "            best_features = try_features\n",
    "            global _feature_selection_last_result\n",
    "            _feature_selection_last_result = best_features\n",
    "            print('Found [%s] score=%.6f: %s' % (remove_feature, best_score, ','.join(best_features))) \n"
   ]
  }
 ],
 "metadata": {
  "kernelspec": {
   "display_name": "Python 3",
   "language": "python",
   "name": "python3"
  },
  "language_info": {
   "codemirror_mode": {
    "name": "ipython",
    "version": 3
   },
   "file_extension": ".py",
   "mimetype": "text/x-python",
   "name": "python",
   "nbconvert_exporter": "python",
   "pygments_lexer": "ipython3",
   "version": "3.7.2"
  }
 },
 "nbformat": 4,
 "nbformat_minor": 2
}
