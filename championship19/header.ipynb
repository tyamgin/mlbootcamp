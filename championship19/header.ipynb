{
 "cells": [
  {
   "cell_type": "code",
   "execution_count": 1,
   "metadata": {},
   "outputs": [
    {
     "name": "stderr",
     "output_type": "stream",
     "text": [
      "/usr/local/lib/python3.7/site-packages/lightgbm/__init__.py:46: UserWarning: Starting from version 2.2.1, the library file in distribution wheels for macOS is built by the Apple Clang (Xcode_8.3.3) compiler.\n",
      "This means that in case of installing LightGBM from PyPI via the ``pip install lightgbm`` command, you don't need to install the gcc compiler anymore.\n",
      "Instead of that, you need to install the OpenMP library, which is required for running LightGBM on the system with the Apple Clang compiler.\n",
      "You can install the OpenMP library by the following command: ``brew install libomp``.\n",
      "  \"You can install the OpenMP library by the following command: ``brew install libomp``.\", UserWarning)\n"
     ]
    }
   ],
   "source": [
    "import pandas as pd\n",
    "from os import walk\n",
    "import pyarrow.parquet as parquet\n",
    "from collections import defaultdict\n",
    "import datetime\n",
    "from gensim.models.doc2vec import Doc2Vec, TaggedDocument\n",
    "from sklearn.linear_model import LogisticRegression\n",
    "from sklearn.naive_bayes import MultinomialNB\n",
    "from sklearn.linear_model import LinearRegression\n",
    "from sklearn.neural_network import MLPClassifier\n",
    "from sklearn.metrics import roc_auc_score\n",
    "import lightgbm as lgb\n",
    "import numpy as np\n",
    "import scipy.spatial.distance\n",
    "import re\n",
    "import math\n",
    "from sklearn.model_selection import train_test_split\n",
    "from sklearn.model_selection import KFold\n",
    "from multiprocessing import Pool, cpu_count\n",
    "import mroc\n",
    "\n",
    "# Where the downloaded data are\n",
    "input_path = '/Users/tyamgin/Projects/mlbootcamp/championship19/data'\n",
    "# Where to store results\n",
    "output_path = '/Users/tyamgin/Projects/mlbootcamp/championship19/res'"
   ]
  },
  {
   "cell_type": "code",
   "execution_count": 2,
   "metadata": {},
   "outputs": [
    {
     "data": {
      "text/plain": [
       "8"
      ]
     },
     "execution_count": 2,
     "metadata": {},
     "output_type": "execute_result"
    }
   ],
   "source": [
    "cpu_count()"
   ]
  },
  {
   "cell_type": "code",
   "execution_count": 18,
   "metadata": {},
   "outputs": [
    {
     "data": {
      "text/plain": [
       "\"texts = pd.DataFrame({'a': [1,2,3,4,5,6,7,8,9], 'b': [0,1,2,3,4,5,6,7,8]})\\n\\nbatch_size = 3\\nbatches = [texts.loc[x:(x + batch_size - 1),] for x in range(0, texts.shape[0], batch_size)]\\nprint('Batches count: %d' % len(batches))\\n\\ndef func(x):\\n    return x\\n\\nwith Pool(int(cpu_count() / 2)) as p:\\n    ret = p.map(func, batches)\\n\\npd.concat(ret)\""
      ]
     },
     "execution_count": 18,
     "metadata": {},
     "output_type": "execute_result"
    }
   ],
   "source": [
    "'''texts = pd.DataFrame({'a': [1,2,3,4,5,6,7,8,9], 'b': [0,1,2,3,4,5,6,7,8]})\n",
    "\n",
    "batch_size = 3\n",
    "batches = [texts.loc[x:(x + batch_size - 1),] for x in range(0, texts.shape[0], batch_size)]\n",
    "print('Batches count: %d' % len(batches))\n",
    "\n",
    "def func(x):\n",
    "    return x\n",
    "\n",
    "with Pool(int(cpu_count() / 2)) as p:\n",
    "    ret = p.map(func, batches)\n",
    "\n",
    "pd.concat(ret)'''"
   ]
  },
  {
   "cell_type": "code",
   "execution_count": null,
   "metadata": {},
   "outputs": [],
   "source": []
  },
  {
   "cell_type": "code",
   "execution_count": null,
   "metadata": {},
   "outputs": [],
   "source": []
  }
 ],
 "metadata": {
  "kernelspec": {
   "display_name": "Python 3",
   "language": "python",
   "name": "python3"
  },
  "language_info": {
   "codemirror_mode": {
    "name": "ipython",
    "version": 3
   },
   "file_extension": ".py",
   "mimetype": "text/x-python",
   "name": "python",
   "nbconvert_exporter": "python",
   "pygments_lexer": "ipython3",
   "version": "3.7.2"
  }
 },
 "nbformat": 4,
 "nbformat_minor": 2
}
