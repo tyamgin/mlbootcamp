{
 "cells": [
  {
   "cell_type": "code",
   "execution_count": 1,
   "metadata": {},
   "outputs": [],
   "source": [
    "import pandas as pandas\n",
    "from os import walk\n",
    "import pyarrow.parquet as parquet\n",
    "\n",
    "# Used to train document embeddings\n",
    "from gensim.models.doc2vec import Doc2Vec, TaggedDocument\n",
    "\n",
    "# Used to train the baseline model\n",
    "from sklearn.linear_model import LogisticRegression\n",
    "import numpy as numpy\n",
    "\n",
    "# Where the downloaded data are\n",
    "input_path = '/Users/tyamgin/Projects/mlbootcamp/championship19/data'\n",
    "# Where to store results\n",
    "output_path = '/Users/tyamgin/Projects/mlbootcamp/championship19/res/'"
   ]
  },
  {
   "cell_type": "code",
   "execution_count": 2,
   "metadata": {},
   "outputs": [
    {
     "name": "stderr",
     "output_type": "stream",
     "text": [
      "/usr/local/lib/python3.7/site-packages/pyarrow/pandas_compat.py:752: FutureWarning: .labels was deprecated in version 0.24.0. Use .codes instead.\n",
      "  labels, = index.labels\n"
     ]
    }
   ],
   "source": [
    "# Get the test texts\n",
    "test_texts = parquet.read_table(input_path + '/texts/textsTest/', \\\n",
    "                                columns = ['objectId','preprocessed']).to_pandas()"
   ]
  },
  {
   "cell_type": "code",
   "execution_count": 3,
   "metadata": {},
   "outputs": [
    {
     "data": {
      "text/html": [
       "<div>\n",
       "<style scoped>\n",
       "    .dataframe tbody tr th:only-of-type {\n",
       "        vertical-align: middle;\n",
       "    }\n",
       "\n",
       "    .dataframe tbody tr th {\n",
       "        vertical-align: top;\n",
       "    }\n",
       "\n",
       "    .dataframe thead th {\n",
       "        text-align: right;\n",
       "    }\n",
       "</style>\n",
       "<table border=\"1\" class=\"dataframe\">\n",
       "  <thead>\n",
       "    <tr style=\"text-align: right;\">\n",
       "      <th></th>\n",
       "      <th>objectId</th>\n",
       "      <th>preprocessed</th>\n",
       "    </tr>\n",
       "  </thead>\n",
       "  <tbody>\n",
       "    <tr>\n",
       "      <th>0</th>\n",
       "      <td>517288</td>\n",
       "      <td>[квартирник, нтв, маргулис, групп, пилот]</td>\n",
       "    </tr>\n",
       "    <tr>\n",
       "      <th>1</th>\n",
       "      <td>9501964</td>\n",
       "      <td>[родител, очен, трогательн, песн, артур, халат]</td>\n",
       "    </tr>\n",
       "    <tr>\n",
       "      <th>2</th>\n",
       "      <td>23007371</td>\n",
       "      <td>[сух, суперджет, откажет, западн, комплект, те...</td>\n",
       "    </tr>\n",
       "    <tr>\n",
       "      <th>3</th>\n",
       "      <td>38353886</td>\n",
       "      <td>[сгорел, сара, гор, хат]</td>\n",
       "    </tr>\n",
       "    <tr>\n",
       "      <th>4</th>\n",
       "      <td>21192138</td>\n",
       "      <td>[живодёр, отруб, лап, собак]</td>\n",
       "    </tr>\n",
       "    <tr>\n",
       "      <th>5</th>\n",
       "      <td>26415073</td>\n",
       "      <td>[ажурн, маков, кулич, так, нежн, воздушн, мяки...</td>\n",
       "    </tr>\n",
       "    <tr>\n",
       "      <th>6</th>\n",
       "      <td>36734526</td>\n",
       "      <td>[друг, уснул, бар, теб, нужн, тащ, дом, очен, ...</td>\n",
       "    </tr>\n",
       "    <tr>\n",
       "      <th>7</th>\n",
       "      <td>8699823</td>\n",
       "      <td>[никифор, ден, дат, год, март, понедельник, др...</td>\n",
       "    </tr>\n",
       "    <tr>\n",
       "      <th>8</th>\n",
       "      <td>12236843</td>\n",
       "      <td>[]</td>\n",
       "    </tr>\n",
       "    <tr>\n",
       "      <th>9</th>\n",
       "      <td>38393782</td>\n",
       "      <td>[днр, лнр, новост, войск, берут, кольц, донбас...</td>\n",
       "    </tr>\n",
       "  </tbody>\n",
       "</table>\n",
       "</div>"
      ],
      "text/plain": [
       "   objectId                                       preprocessed\n",
       "0    517288          [квартирник, нтв, маргулис, групп, пилот]\n",
       "1   9501964    [родител, очен, трогательн, песн, артур, халат]\n",
       "2  23007371  [сух, суперджет, откажет, западн, комплект, те...\n",
       "3  38353886                           [сгорел, сара, гор, хат]\n",
       "4  21192138                       [живодёр, отруб, лап, собак]\n",
       "5  26415073  [ажурн, маков, кулич, так, нежн, воздушн, мяки...\n",
       "6  36734526  [друг, уснул, бар, теб, нужн, тащ, дом, очен, ...\n",
       "7   8699823  [никифор, ден, дат, год, март, понедельник, др...\n",
       "8  12236843                                                 []\n",
       "9  38393782  [днр, лнр, новост, войск, берут, кольц, донбас..."
      ]
     },
     "execution_count": 3,
     "metadata": {},
     "output_type": "execute_result"
    }
   ],
   "source": [
    "test_texts.head(10)"
   ]
  },
  {
   "cell_type": "code",
   "execution_count": 4,
   "metadata": {
    "scrolled": true
   },
   "outputs": [
    {
     "data": {
      "text/plain": [
       "array(['сух', 'суперджет', 'откажет', 'западн', 'комплект',\n",
       "       'технологическ', 'прор', 'росс', 'сух', 'избав', 'западн',\n",
       "       'начинк', 'модернизац', 'лайнер', 'отечествен', 'комплект',\n",
       "       'обойдет', 'млрд', 'рубл', 'распоряжен', 'выделен', 'денег',\n",
       "       'подписа', 'президент', 'росс', 'владимир', 'путин', 'ожида',\n",
       "       'самолет', 'замен', 'як', 'ту', 'парк', 'специальн', 'летн',\n",
       "       'отряд', 'росс', 'устаревш', 'тушек', 'парк', 'миноборон', 'машин',\n",
       "       'намер', 'закуп', 'авиакомпан', 's', 'гражданск', 'перевозок',\n",
       "       'план', 'уменьш', 'ssj', 'кресел', 'внест', 'изменен', 'крыл',\n",
       "       'фюзеляж', 'бортов', 'комплекс', 'авионик', 'наш', 'самолет', 'эт',\n",
       "       'прор', 'самолётостроен', 'бортов', 'оборудован', 'котор', 'сто',\n",
       "       'самолёт', 'та', 'применен', 'динамик', 'самолёт', 'эт', 'прор',\n",
       "       'развива', 'сво', 'проект', 'говор', 'президент', 'за',\n",
       "       'гражданск', 'самолет', 'сух', 'ил', 'тарасенк', 'разрабатыва',\n",
       "       'проект', 'sukhoi', 'superjet', 'стрейч', 'верс', 'год', 'выйдет',\n",
       "       'миров', 'рынок', 'заключа', 'эксперт'], dtype=object)"
      ]
     },
     "execution_count": 4,
     "metadata": {},
     "output_type": "execute_result"
    }
   ],
   "source": [
    "test_texts.preprocessed[2]"
   ]
  },
  {
   "cell_type": "code",
   "execution_count": 5,
   "metadata": {},
   "outputs": [],
   "source": [
    "# Build document embeddings for text documents\n",
    "doc2vec = Doc2Vec(\\\n",
    "                [TaggedDocument(lines,'tag') for lines in test_texts.preprocessed], \\\n",
    "                vector_size=5, window=2, min_count=1, workers=4)"
   ]
  },
  {
   "cell_type": "code",
   "execution_count": 6,
   "metadata": {},
   "outputs": [
    {
     "data": {
      "text/plain": [
       "(667957, 2)"
      ]
     },
     "execution_count": 6,
     "metadata": {},
     "output_type": "execute_result"
    }
   ],
   "source": [
    "test_texts.shape"
   ]
  },
  {
   "cell_type": "code",
   "execution_count": 7,
   "metadata": {},
   "outputs": [],
   "source": [
    "# Read a single day to train model on as Pandas dataframe\n",
    "data = parquet.read_table(input_path + '/textsTrain/date=2018-02-07', \\\n",
    "                          columns = ['instanceId_objectId','feedback']).to_pandas()"
   ]
  },
  {
   "cell_type": "code",
   "execution_count": 8,
   "metadata": {},
   "outputs": [
    {
     "data": {
      "text/html": [
       "<div>\n",
       "<style scoped>\n",
       "    .dataframe tbody tr th:only-of-type {\n",
       "        vertical-align: middle;\n",
       "    }\n",
       "\n",
       "    .dataframe tbody tr th {\n",
       "        vertical-align: top;\n",
       "    }\n",
       "\n",
       "    .dataframe thead th {\n",
       "        text-align: right;\n",
       "    }\n",
       "</style>\n",
       "<table border=\"1\" class=\"dataframe\">\n",
       "  <thead>\n",
       "    <tr style=\"text-align: right;\">\n",
       "      <th></th>\n",
       "      <th>instanceId_objectId</th>\n",
       "      <th>feedback</th>\n",
       "    </tr>\n",
       "  </thead>\n",
       "  <tbody>\n",
       "    <tr>\n",
       "      <th>0</th>\n",
       "      <td>22429313</td>\n",
       "      <td>[Ignored]</td>\n",
       "    </tr>\n",
       "    <tr>\n",
       "      <th>1</th>\n",
       "      <td>14676953</td>\n",
       "      <td>[Ignored]</td>\n",
       "    </tr>\n",
       "    <tr>\n",
       "      <th>2</th>\n",
       "      <td>11562101</td>\n",
       "      <td>[Ignored]</td>\n",
       "    </tr>\n",
       "    <tr>\n",
       "      <th>3</th>\n",
       "      <td>20892119</td>\n",
       "      <td>[Clicked]</td>\n",
       "    </tr>\n",
       "    <tr>\n",
       "      <th>4</th>\n",
       "      <td>16063005</td>\n",
       "      <td>[Ignored]</td>\n",
       "    </tr>\n",
       "    <tr>\n",
       "      <th>5</th>\n",
       "      <td>14576490</td>\n",
       "      <td>[Ignored]</td>\n",
       "    </tr>\n",
       "    <tr>\n",
       "      <th>6</th>\n",
       "      <td>11811947</td>\n",
       "      <td>[Ignored]</td>\n",
       "    </tr>\n",
       "    <tr>\n",
       "      <th>7</th>\n",
       "      <td>1936012</td>\n",
       "      <td>[Liked]</td>\n",
       "    </tr>\n",
       "    <tr>\n",
       "      <th>8</th>\n",
       "      <td>20867189</td>\n",
       "      <td>[Ignored]</td>\n",
       "    </tr>\n",
       "    <tr>\n",
       "      <th>9</th>\n",
       "      <td>28967185</td>\n",
       "      <td>[Ignored]</td>\n",
       "    </tr>\n",
       "  </tbody>\n",
       "</table>\n",
       "</div>"
      ],
      "text/plain": [
       "   instanceId_objectId   feedback\n",
       "0             22429313  [Ignored]\n",
       "1             14676953  [Ignored]\n",
       "2             11562101  [Ignored]\n",
       "3             20892119  [Clicked]\n",
       "4             16063005  [Ignored]\n",
       "5             14576490  [Ignored]\n",
       "6             11811947  [Ignored]\n",
       "7              1936012    [Liked]\n",
       "8             20867189  [Ignored]\n",
       "9             28967185  [Ignored]"
      ]
     },
     "execution_count": 8,
     "metadata": {},
     "output_type": "execute_result"
    }
   ],
   "source": [
    "data.head(10)"
   ]
  },
  {
   "cell_type": "code",
   "execution_count": 9,
   "metadata": {},
   "outputs": [],
   "source": [
    "data.rename(columns = {'instanceId_objectId':'objectId'}, inplace = True)"
   ]
  },
  {
   "cell_type": "code",
   "execution_count": 10,
   "metadata": {},
   "outputs": [
    {
     "data": {
      "text/html": [
       "<div>\n",
       "<style scoped>\n",
       "    .dataframe tbody tr th:only-of-type {\n",
       "        vertical-align: middle;\n",
       "    }\n",
       "\n",
       "    .dataframe tbody tr th {\n",
       "        vertical-align: top;\n",
       "    }\n",
       "\n",
       "    .dataframe thead th {\n",
       "        text-align: right;\n",
       "    }\n",
       "</style>\n",
       "<table border=\"1\" class=\"dataframe\">\n",
       "  <thead>\n",
       "    <tr style=\"text-align: right;\">\n",
       "      <th></th>\n",
       "      <th>objectId</th>\n",
       "      <th>feedback</th>\n",
       "    </tr>\n",
       "  </thead>\n",
       "  <tbody>\n",
       "    <tr>\n",
       "      <th>0</th>\n",
       "      <td>22429313</td>\n",
       "      <td>[Ignored]</td>\n",
       "    </tr>\n",
       "    <tr>\n",
       "      <th>1</th>\n",
       "      <td>14676953</td>\n",
       "      <td>[Ignored]</td>\n",
       "    </tr>\n",
       "    <tr>\n",
       "      <th>2</th>\n",
       "      <td>11562101</td>\n",
       "      <td>[Ignored]</td>\n",
       "    </tr>\n",
       "    <tr>\n",
       "      <th>3</th>\n",
       "      <td>20892119</td>\n",
       "      <td>[Clicked]</td>\n",
       "    </tr>\n",
       "    <tr>\n",
       "      <th>4</th>\n",
       "      <td>16063005</td>\n",
       "      <td>[Ignored]</td>\n",
       "    </tr>\n",
       "    <tr>\n",
       "      <th>5</th>\n",
       "      <td>14576490</td>\n",
       "      <td>[Ignored]</td>\n",
       "    </tr>\n",
       "    <tr>\n",
       "      <th>6</th>\n",
       "      <td>11811947</td>\n",
       "      <td>[Ignored]</td>\n",
       "    </tr>\n",
       "    <tr>\n",
       "      <th>7</th>\n",
       "      <td>1936012</td>\n",
       "      <td>[Liked]</td>\n",
       "    </tr>\n",
       "    <tr>\n",
       "      <th>8</th>\n",
       "      <td>20867189</td>\n",
       "      <td>[Ignored]</td>\n",
       "    </tr>\n",
       "    <tr>\n",
       "      <th>9</th>\n",
       "      <td>28967185</td>\n",
       "      <td>[Ignored]</td>\n",
       "    </tr>\n",
       "  </tbody>\n",
       "</table>\n",
       "</div>"
      ],
      "text/plain": [
       "   objectId   feedback\n",
       "0  22429313  [Ignored]\n",
       "1  14676953  [Ignored]\n",
       "2  11562101  [Ignored]\n",
       "3  20892119  [Clicked]\n",
       "4  16063005  [Ignored]\n",
       "5  14576490  [Ignored]\n",
       "6  11811947  [Ignored]\n",
       "7   1936012    [Liked]\n",
       "8  20867189  [Ignored]\n",
       "9  28967185  [Ignored]"
      ]
     },
     "execution_count": 10,
     "metadata": {},
     "output_type": "execute_result"
    }
   ],
   "source": [
    "data.head(10)"
   ]
  },
  {
   "cell_type": "code",
   "execution_count": 11,
   "metadata": {},
   "outputs": [],
   "source": [
    "data['label'] = data['feedback'].apply(lambda x: 1.0 if(\"Liked\" in x) else 0.0).values"
   ]
  },
  {
   "cell_type": "code",
   "execution_count": 12,
   "metadata": {},
   "outputs": [
    {
     "data": {
      "text/html": [
       "<div>\n",
       "<style scoped>\n",
       "    .dataframe tbody tr th:only-of-type {\n",
       "        vertical-align: middle;\n",
       "    }\n",
       "\n",
       "    .dataframe tbody tr th {\n",
       "        vertical-align: top;\n",
       "    }\n",
       "\n",
       "    .dataframe thead th {\n",
       "        text-align: right;\n",
       "    }\n",
       "</style>\n",
       "<table border=\"1\" class=\"dataframe\">\n",
       "  <thead>\n",
       "    <tr style=\"text-align: right;\">\n",
       "      <th></th>\n",
       "      <th>objectId</th>\n",
       "      <th>feedback</th>\n",
       "      <th>label</th>\n",
       "    </tr>\n",
       "  </thead>\n",
       "  <tbody>\n",
       "    <tr>\n",
       "      <th>0</th>\n",
       "      <td>22429313</td>\n",
       "      <td>[Ignored]</td>\n",
       "      <td>0.0</td>\n",
       "    </tr>\n",
       "    <tr>\n",
       "      <th>1</th>\n",
       "      <td>14676953</td>\n",
       "      <td>[Ignored]</td>\n",
       "      <td>0.0</td>\n",
       "    </tr>\n",
       "    <tr>\n",
       "      <th>2</th>\n",
       "      <td>11562101</td>\n",
       "      <td>[Ignored]</td>\n",
       "      <td>0.0</td>\n",
       "    </tr>\n",
       "    <tr>\n",
       "      <th>3</th>\n",
       "      <td>20892119</td>\n",
       "      <td>[Clicked]</td>\n",
       "      <td>0.0</td>\n",
       "    </tr>\n",
       "    <tr>\n",
       "      <th>4</th>\n",
       "      <td>16063005</td>\n",
       "      <td>[Ignored]</td>\n",
       "      <td>0.0</td>\n",
       "    </tr>\n",
       "    <tr>\n",
       "      <th>5</th>\n",
       "      <td>14576490</td>\n",
       "      <td>[Ignored]</td>\n",
       "      <td>0.0</td>\n",
       "    </tr>\n",
       "    <tr>\n",
       "      <th>6</th>\n",
       "      <td>11811947</td>\n",
       "      <td>[Ignored]</td>\n",
       "      <td>0.0</td>\n",
       "    </tr>\n",
       "    <tr>\n",
       "      <th>7</th>\n",
       "      <td>1936012</td>\n",
       "      <td>[Liked]</td>\n",
       "      <td>1.0</td>\n",
       "    </tr>\n",
       "    <tr>\n",
       "      <th>8</th>\n",
       "      <td>20867189</td>\n",
       "      <td>[Ignored]</td>\n",
       "      <td>0.0</td>\n",
       "    </tr>\n",
       "    <tr>\n",
       "      <th>9</th>\n",
       "      <td>28967185</td>\n",
       "      <td>[Ignored]</td>\n",
       "      <td>0.0</td>\n",
       "    </tr>\n",
       "  </tbody>\n",
       "</table>\n",
       "</div>"
      ],
      "text/plain": [
       "   objectId   feedback  label\n",
       "0  22429313  [Ignored]    0.0\n",
       "1  14676953  [Ignored]    0.0\n",
       "2  11562101  [Ignored]    0.0\n",
       "3  20892119  [Clicked]    0.0\n",
       "4  16063005  [Ignored]    0.0\n",
       "5  14576490  [Ignored]    0.0\n",
       "6  11811947  [Ignored]    0.0\n",
       "7   1936012    [Liked]    1.0\n",
       "8  20867189  [Ignored]    0.0\n",
       "9  28967185  [Ignored]    0.0"
      ]
     },
     "execution_count": 12,
     "metadata": {},
     "output_type": "execute_result"
    }
   ],
   "source": [
    "data.head(10)"
   ]
  },
  {
   "cell_type": "code",
   "execution_count": 13,
   "metadata": {},
   "outputs": [
    {
     "data": {
      "text/html": [
       "<div>\n",
       "<style scoped>\n",
       "    .dataframe tbody tr th:only-of-type {\n",
       "        vertical-align: middle;\n",
       "    }\n",
       "\n",
       "    .dataframe tbody tr th {\n",
       "        vertical-align: top;\n",
       "    }\n",
       "\n",
       "    .dataframe thead th {\n",
       "        text-align: right;\n",
       "    }\n",
       "</style>\n",
       "<table border=\"1\" class=\"dataframe\">\n",
       "  <thead>\n",
       "    <tr style=\"text-align: right;\">\n",
       "      <th></th>\n",
       "      <th>objectId</th>\n",
       "      <th>label</th>\n",
       "    </tr>\n",
       "  </thead>\n",
       "  <tbody>\n",
       "    <tr>\n",
       "      <th>0</th>\n",
       "      <td>22429313</td>\n",
       "      <td>0.0</td>\n",
       "    </tr>\n",
       "    <tr>\n",
       "      <th>1</th>\n",
       "      <td>14676953</td>\n",
       "      <td>0.0</td>\n",
       "    </tr>\n",
       "    <tr>\n",
       "      <th>2</th>\n",
       "      <td>11562101</td>\n",
       "      <td>0.0</td>\n",
       "    </tr>\n",
       "    <tr>\n",
       "      <th>3</th>\n",
       "      <td>20892119</td>\n",
       "      <td>0.0</td>\n",
       "    </tr>\n",
       "    <tr>\n",
       "      <th>4</th>\n",
       "      <td>16063005</td>\n",
       "      <td>0.0</td>\n",
       "    </tr>\n",
       "    <tr>\n",
       "      <th>5</th>\n",
       "      <td>14576490</td>\n",
       "      <td>0.0</td>\n",
       "    </tr>\n",
       "    <tr>\n",
       "      <th>6</th>\n",
       "      <td>11811947</td>\n",
       "      <td>0.0</td>\n",
       "    </tr>\n",
       "    <tr>\n",
       "      <th>7</th>\n",
       "      <td>1936012</td>\n",
       "      <td>1.0</td>\n",
       "    </tr>\n",
       "    <tr>\n",
       "      <th>8</th>\n",
       "      <td>20867189</td>\n",
       "      <td>0.0</td>\n",
       "    </tr>\n",
       "    <tr>\n",
       "      <th>9</th>\n",
       "      <td>28967185</td>\n",
       "      <td>0.0</td>\n",
       "    </tr>\n",
       "  </tbody>\n",
       "</table>\n",
       "</div>"
      ],
      "text/plain": [
       "   objectId  label\n",
       "0  22429313    0.0\n",
       "1  14676953    0.0\n",
       "2  11562101    0.0\n",
       "3  20892119    0.0\n",
       "4  16063005    0.0\n",
       "5  14576490    0.0\n",
       "6  11811947    0.0\n",
       "7   1936012    1.0\n",
       "8  20867189    0.0\n",
       "9  28967185    0.0"
      ]
     },
     "execution_count": 13,
     "metadata": {},
     "output_type": "execute_result"
    }
   ],
   "source": [
    "data = data[['objectId','label']]\n",
    "data.head(10)"
   ]
  },
  {
   "cell_type": "code",
   "execution_count": 14,
   "metadata": {},
   "outputs": [
    {
     "name": "stdout",
     "output_type": "stream",
     "text": [
      "Done with part-00026-1b50c8f5-87db-4a53-9677-17f1113c3f8d-c000.gz.parquet\n",
      "Done with part-00011-1b50c8f5-87db-4a53-9677-17f1113c3f8d-c000.gz.parquet\n",
      "Done with part-00002-1b50c8f5-87db-4a53-9677-17f1113c3f8d-c000.gz.parquet\n",
      "Done with part-00013-1b50c8f5-87db-4a53-9677-17f1113c3f8d-c000.gz.parquet\n",
      "Done with part-00024-1b50c8f5-87db-4a53-9677-17f1113c3f8d-c000.gz.parquet\n",
      "Done with part-00000-1b50c8f5-87db-4a53-9677-17f1113c3f8d-c000.gz.parquet\n",
      "Done with part-00006-1b50c8f5-87db-4a53-9677-17f1113c3f8d-c000.gz.parquet\n",
      "Done with part-00022-1b50c8f5-87db-4a53-9677-17f1113c3f8d-c000.gz.parquet\n",
      "Done with part-00015-1b50c8f5-87db-4a53-9677-17f1113c3f8d-c000.gz.parquet\n",
      "Done with part-00004-1b50c8f5-87db-4a53-9677-17f1113c3f8d-c000.gz.parquet\n",
      "Done with part-00017-1b50c8f5-87db-4a53-9677-17f1113c3f8d-c000.gz.parquet\n",
      "Done with part-00020-1b50c8f5-87db-4a53-9677-17f1113c3f8d-c000.gz.parquet\n",
      "Done with part-00008-1b50c8f5-87db-4a53-9677-17f1113c3f8d-c000.gz.parquet\n",
      "Done with part-00019-1b50c8f5-87db-4a53-9677-17f1113c3f8d-c000.gz.parquet\n",
      "Done with part-00018-1b50c8f5-87db-4a53-9677-17f1113c3f8d-c000.gz.parquet\n",
      "Done with part-00009-1b50c8f5-87db-4a53-9677-17f1113c3f8d-c000.gz.parquet\n",
      "Done with part-00012-1b50c8f5-87db-4a53-9677-17f1113c3f8d-c000.gz.parquet\n",
      "Done with part-00025-1b50c8f5-87db-4a53-9677-17f1113c3f8d-c000.gz.parquet\n",
      "Done with part-00001-1b50c8f5-87db-4a53-9677-17f1113c3f8d-c000.gz.parquet\n",
      "Done with part-00010-1b50c8f5-87db-4a53-9677-17f1113c3f8d-c000.gz.parquet\n",
      "Done with part-00003-1b50c8f5-87db-4a53-9677-17f1113c3f8d-c000.gz.parquet\n",
      "Done with part-00005-1b50c8f5-87db-4a53-9677-17f1113c3f8d-c000.gz.parquet\n",
      "Done with part-00016-1b50c8f5-87db-4a53-9677-17f1113c3f8d-c000.gz.parquet\n",
      "Done with part-00021-1b50c8f5-87db-4a53-9677-17f1113c3f8d-c000.gz.parquet\n",
      "Done with part-00007-1b50c8f5-87db-4a53-9677-17f1113c3f8d-c000.gz.parquet\n",
      "Done with part-00023-1b50c8f5-87db-4a53-9677-17f1113c3f8d-c000.gz.parquet\n",
      "Done with part-00014-1b50c8f5-87db-4a53-9677-17f1113c3f8d-c000.gz.parquet\n"
     ]
    }
   ],
   "source": [
    "parts = []\n",
    "\n",
    "# Get unique object ids\n",
    "ids = data.groupby('objectId').count()\n",
    "\n",
    "# In order to save memory iterate part by part\n",
    "for (dirpath, dirnames, filenames) in walk(input_path + '/texts/textsTrain/'):\n",
    "    for name in filenames:\n",
    "        if name.startswith('part'):\n",
    "            # Read single part\n",
    "            texts = parquet.read_table(input_path + '/texts/textsTrain/' + name, \\\n",
    "                                       columns = ['objectId','preprocessed']).to_pandas()            \n",
    "            # Filter documents we need\n",
    "            joined = ids.join(texts.set_index('objectId'), how='inner', on = 'objectId')\n",
    "            # Evaluate embeddings\n",
    "            joined['embedding'] = joined.preprocessed.apply(doc2vec.infer_vector)\n",
    "            # Memorize\n",
    "            parts.append(joined[['embedding']])\n",
    "            print('Done with ' + name)"
   ]
  },
  {
   "cell_type": "code",
   "execution_count": 20,
   "metadata": {},
   "outputs": [
    {
     "data": {
      "text/html": [
       "<div>\n",
       "<style scoped>\n",
       "    .dataframe tbody tr th:only-of-type {\n",
       "        vertical-align: middle;\n",
       "    }\n",
       "\n",
       "    .dataframe tbody tr th {\n",
       "        vertical-align: top;\n",
       "    }\n",
       "\n",
       "    .dataframe thead th {\n",
       "        text-align: right;\n",
       "    }\n",
       "</style>\n",
       "<table border=\"1\" class=\"dataframe\">\n",
       "  <thead>\n",
       "    <tr style=\"text-align: right;\">\n",
       "      <th></th>\n",
       "      <th>objectId</th>\n",
       "      <th>label</th>\n",
       "      <th>embedding</th>\n",
       "    </tr>\n",
       "  </thead>\n",
       "  <tbody>\n",
       "    <tr>\n",
       "      <th>0</th>\n",
       "      <td>22429313</td>\n",
       "      <td>0.0</td>\n",
       "      <td>[-0.44170317, 1.7940384, 2.5307617, 0.21553585...</td>\n",
       "    </tr>\n",
       "    <tr>\n",
       "      <th>1</th>\n",
       "      <td>14676953</td>\n",
       "      <td>0.0</td>\n",
       "      <td>[-0.10807835, 1.1627201, 1.7504562, 0.24641608...</td>\n",
       "    </tr>\n",
       "    <tr>\n",
       "      <th>2</th>\n",
       "      <td>11562101</td>\n",
       "      <td>0.0</td>\n",
       "      <td>[0.013378491, -0.26066193, 0.78019893, 0.11125...</td>\n",
       "    </tr>\n",
       "    <tr>\n",
       "      <th>3</th>\n",
       "      <td>20892119</td>\n",
       "      <td>0.0</td>\n",
       "      <td>[-0.05681707, 0.17438778, 1.2145396, -0.040171...</td>\n",
       "    </tr>\n",
       "    <tr>\n",
       "      <th>4</th>\n",
       "      <td>16063005</td>\n",
       "      <td>0.0</td>\n",
       "      <td>[-0.35590836, 1.6147468, 3.2192364, 0.06583231...</td>\n",
       "    </tr>\n",
       "    <tr>\n",
       "      <th>5</th>\n",
       "      <td>14576490</td>\n",
       "      <td>0.0</td>\n",
       "      <td>[-0.12549248, 0.097653374, 0.08917581, 0.00392...</td>\n",
       "    </tr>\n",
       "    <tr>\n",
       "      <th>6</th>\n",
       "      <td>11811947</td>\n",
       "      <td>0.0</td>\n",
       "      <td>[0.16296238, 0.024091508, 0.9208572, 0.0075760...</td>\n",
       "    </tr>\n",
       "    <tr>\n",
       "      <th>7</th>\n",
       "      <td>1936012</td>\n",
       "      <td>1.0</td>\n",
       "      <td>[0.07246128, -0.07718521, 0.565532, -0.1438746...</td>\n",
       "    </tr>\n",
       "    <tr>\n",
       "      <th>8</th>\n",
       "      <td>20867189</td>\n",
       "      <td>0.0</td>\n",
       "      <td>[0.010391599, 1.4388258, 1.4911665, -0.2362101...</td>\n",
       "    </tr>\n",
       "    <tr>\n",
       "      <th>9</th>\n",
       "      <td>28967185</td>\n",
       "      <td>0.0</td>\n",
       "      <td>[0.09291192, 0.24640752, 0.003460342, 0.017822...</td>\n",
       "    </tr>\n",
       "  </tbody>\n",
       "</table>\n",
       "</div>"
      ],
      "text/plain": [
       "   objectId  label                                          embedding\n",
       "0  22429313    0.0  [-0.44170317, 1.7940384, 2.5307617, 0.21553585...\n",
       "1  14676953    0.0  [-0.10807835, 1.1627201, 1.7504562, 0.24641608...\n",
       "2  11562101    0.0  [0.013378491, -0.26066193, 0.78019893, 0.11125...\n",
       "3  20892119    0.0  [-0.05681707, 0.17438778, 1.2145396, -0.040171...\n",
       "4  16063005    0.0  [-0.35590836, 1.6147468, 3.2192364, 0.06583231...\n",
       "5  14576490    0.0  [-0.12549248, 0.097653374, 0.08917581, 0.00392...\n",
       "6  11811947    0.0  [0.16296238, 0.024091508, 0.9208572, 0.0075760...\n",
       "7   1936012    1.0  [0.07246128, -0.07718521, 0.565532, -0.1438746...\n",
       "8  20867189    0.0  [0.010391599, 1.4388258, 1.4911665, -0.2362101...\n",
       "9  28967185    0.0  [0.09291192, 0.24640752, 0.003460342, 0.017822..."
      ]
     },
     "execution_count": 20,
     "metadata": {},
     "output_type": "execute_result"
    }
   ],
   "source": [
    "# Combine all the parts\n",
    "train = data.join(pandas.concat(parts), on = 'objectId')\n",
    "train.head(10)"
   ]
  },
  {
   "cell_type": "code",
   "execution_count": 21,
   "metadata": {},
   "outputs": [],
   "source": [
    "# Construct the label (liked objects)\n",
    "y = train['label'].values"
   ]
  },
  {
   "cell_type": "code",
   "execution_count": 22,
   "metadata": {},
   "outputs": [
    {
     "data": {
      "text/plain": [
       "array([0., 0., 0., ..., 1., 0., 1.])"
      ]
     },
     "execution_count": 22,
     "metadata": {},
     "output_type": "execute_result"
    }
   ],
   "source": [
    "y"
   ]
  },
  {
   "cell_type": "code",
   "execution_count": 40,
   "metadata": {},
   "outputs": [],
   "source": [
    "# Extract the most interesting features\n",
    "X = numpy.stack(train['embedding'].values)"
   ]
  },
  {
   "cell_type": "code",
   "execution_count": 41,
   "metadata": {},
   "outputs": [
    {
     "data": {
      "text/plain": [
       "array([[-0.44170317,  1.7940384 ,  2.5307617 ,  0.21553585, -1.8123595 ],\n",
       "       [-0.10807835,  1.1627201 ,  1.7504562 ,  0.24641608, -1.5539731 ],\n",
       "       [ 0.01337849, -0.26066193,  0.78019893,  0.11125397,  0.10340756],\n",
       "       ...,\n",
       "       [ 0.11090618,  0.16961716,  0.25980642, -0.03150712,  0.00698385],\n",
       "       [-0.05458339, -0.09454934,  0.26065007, -0.22154804, -0.0865216 ],\n",
       "       [ 0.02650395,  0.02290959,  0.7163141 , -0.19513054, -0.13866283]],\n",
       "      dtype=float32)"
      ]
     },
     "execution_count": 41,
     "metadata": {},
     "output_type": "execute_result"
    }
   ],
   "source": [
    "X"
   ]
  },
  {
   "cell_type": "code",
   "execution_count": 42,
   "metadata": {},
   "outputs": [
    {
     "data": {
      "text/plain": [
       "array([[-0.07185373, -0.04516869, -0.00781221, -0.67337679,  0.19353822]])"
      ]
     },
     "execution_count": 42,
     "metadata": {},
     "output_type": "execute_result"
    }
   ],
   "source": [
    "# Fit the model and check the weights\n",
    "model = LogisticRegression(random_state=0, solver='lbfgs').fit(X, y)\n",
    "model.coef_"
   ]
  },
  {
   "cell_type": "code",
   "execution_count": 45,
   "metadata": {},
   "outputs": [],
   "source": [
    "proba_result = model.predict_proba(numpy.stack(\\\n",
    "    test_texts.preprocessed.apply(lambda x : doc2vec.infer_vector(x))))"
   ]
  },
  {
   "cell_type": "code",
   "execution_count": 50,
   "metadata": {},
   "outputs": [],
   "source": [
    "test_texts['weight'] = -proba_result[:, 1]"
   ]
  },
  {
   "cell_type": "code",
   "execution_count": 51,
   "metadata": {},
   "outputs": [
    {
     "data": {
      "text/html": [
       "<div>\n",
       "<style scoped>\n",
       "    .dataframe tbody tr th:only-of-type {\n",
       "        vertical-align: middle;\n",
       "    }\n",
       "\n",
       "    .dataframe tbody tr th {\n",
       "        vertical-align: top;\n",
       "    }\n",
       "\n",
       "    .dataframe thead th {\n",
       "        text-align: right;\n",
       "    }\n",
       "</style>\n",
       "<table border=\"1\" class=\"dataframe\">\n",
       "  <thead>\n",
       "    <tr style=\"text-align: right;\">\n",
       "      <th></th>\n",
       "      <th>objectId</th>\n",
       "      <th>preprocessed</th>\n",
       "      <th>weight</th>\n",
       "    </tr>\n",
       "  </thead>\n",
       "  <tbody>\n",
       "    <tr>\n",
       "      <th>0</th>\n",
       "      <td>517288</td>\n",
       "      <td>[квартирник, нтв, маргулис, групп, пилот]</td>\n",
       "      <td>-0.167617</td>\n",
       "    </tr>\n",
       "    <tr>\n",
       "      <th>1</th>\n",
       "      <td>9501964</td>\n",
       "      <td>[родител, очен, трогательн, песн, артур, халат]</td>\n",
       "      <td>-0.184983</td>\n",
       "    </tr>\n",
       "    <tr>\n",
       "      <th>2</th>\n",
       "      <td>23007371</td>\n",
       "      <td>[сух, суперджет, откажет, западн, комплект, те...</td>\n",
       "      <td>-0.177372</td>\n",
       "    </tr>\n",
       "    <tr>\n",
       "      <th>3</th>\n",
       "      <td>38353886</td>\n",
       "      <td>[сгорел, сара, гор, хат]</td>\n",
       "      <td>-0.175593</td>\n",
       "    </tr>\n",
       "    <tr>\n",
       "      <th>4</th>\n",
       "      <td>21192138</td>\n",
       "      <td>[живодёр, отруб, лап, собак]</td>\n",
       "      <td>-0.189251</td>\n",
       "    </tr>\n",
       "    <tr>\n",
       "      <th>5</th>\n",
       "      <td>26415073</td>\n",
       "      <td>[ажурн, маков, кулич, так, нежн, воздушн, мяки...</td>\n",
       "      <td>-0.090058</td>\n",
       "    </tr>\n",
       "    <tr>\n",
       "      <th>6</th>\n",
       "      <td>36734526</td>\n",
       "      <td>[друг, уснул, бар, теб, нужн, тащ, дом, очен, ...</td>\n",
       "      <td>-0.163667</td>\n",
       "    </tr>\n",
       "    <tr>\n",
       "      <th>7</th>\n",
       "      <td>8699823</td>\n",
       "      <td>[никифор, ден, дат, год, март, понедельник, др...</td>\n",
       "      <td>-0.246918</td>\n",
       "    </tr>\n",
       "    <tr>\n",
       "      <th>8</th>\n",
       "      <td>12236843</td>\n",
       "      <td>[]</td>\n",
       "      <td>-0.177239</td>\n",
       "    </tr>\n",
       "    <tr>\n",
       "      <th>9</th>\n",
       "      <td>38393782</td>\n",
       "      <td>[днр, лнр, новост, войск, берут, кольц, донбас...</td>\n",
       "      <td>-0.201176</td>\n",
       "    </tr>\n",
       "  </tbody>\n",
       "</table>\n",
       "</div>"
      ],
      "text/plain": [
       "   objectId                                       preprocessed    weight\n",
       "0    517288          [квартирник, нтв, маргулис, групп, пилот] -0.167617\n",
       "1   9501964    [родител, очен, трогательн, песн, артур, халат] -0.184983\n",
       "2  23007371  [сух, суперджет, откажет, западн, комплект, те... -0.177372\n",
       "3  38353886                           [сгорел, сара, гор, хат] -0.175593\n",
       "4  21192138                       [живодёр, отруб, лап, собак] -0.189251\n",
       "5  26415073  [ажурн, маков, кулич, так, нежн, воздушн, мяки... -0.090058\n",
       "6  36734526  [друг, уснул, бар, теб, нужн, тащ, дом, очен, ... -0.163667\n",
       "7   8699823  [никифор, ден, дат, год, март, понедельник, др... -0.246918\n",
       "8  12236843                                                 [] -0.177239\n",
       "9  38393782  [днр, лнр, новост, войск, берут, кольц, донбас... -0.201176"
      ]
     },
     "execution_count": 51,
     "metadata": {},
     "output_type": "execute_result"
    }
   ],
   "source": [
    "test_texts.head(10)"
   ]
  },
  {
   "cell_type": "code",
   "execution_count": 52,
   "metadata": {},
   "outputs": [
    {
     "data": {
      "text/html": [
       "<div>\n",
       "<style scoped>\n",
       "    .dataframe tbody tr th:only-of-type {\n",
       "        vertical-align: middle;\n",
       "    }\n",
       "\n",
       "    .dataframe tbody tr th {\n",
       "        vertical-align: top;\n",
       "    }\n",
       "\n",
       "    .dataframe thead th {\n",
       "        text-align: right;\n",
       "    }\n",
       "</style>\n",
       "<table border=\"1\" class=\"dataframe\">\n",
       "  <thead>\n",
       "    <tr style=\"text-align: right;\">\n",
       "      <th></th>\n",
       "      <th>instanceId_userId</th>\n",
       "      <th>objectId</th>\n",
       "    </tr>\n",
       "  </thead>\n",
       "  <tbody>\n",
       "    <tr>\n",
       "      <th>0</th>\n",
       "      <td>1006</td>\n",
       "      <td>34577503</td>\n",
       "    </tr>\n",
       "    <tr>\n",
       "      <th>1</th>\n",
       "      <td>1006</td>\n",
       "      <td>37520199</td>\n",
       "    </tr>\n",
       "    <tr>\n",
       "      <th>2</th>\n",
       "      <td>1618</td>\n",
       "      <td>546086</td>\n",
       "    </tr>\n",
       "    <tr>\n",
       "      <th>3</th>\n",
       "      <td>1618</td>\n",
       "      <td>546086</td>\n",
       "    </tr>\n",
       "    <tr>\n",
       "      <th>4</th>\n",
       "      <td>1618</td>\n",
       "      <td>546086</td>\n",
       "    </tr>\n",
       "    <tr>\n",
       "      <th>5</th>\n",
       "      <td>1618</td>\n",
       "      <td>35981492</td>\n",
       "    </tr>\n",
       "    <tr>\n",
       "      <th>6</th>\n",
       "      <td>1618</td>\n",
       "      <td>26764305</td>\n",
       "    </tr>\n",
       "    <tr>\n",
       "      <th>7</th>\n",
       "      <td>1810</td>\n",
       "      <td>958605</td>\n",
       "    </tr>\n",
       "    <tr>\n",
       "      <th>8</th>\n",
       "      <td>1810</td>\n",
       "      <td>20479574</td>\n",
       "    </tr>\n",
       "    <tr>\n",
       "      <th>9</th>\n",
       "      <td>1810</td>\n",
       "      <td>36254478</td>\n",
       "    </tr>\n",
       "  </tbody>\n",
       "</table>\n",
       "</div>"
      ],
      "text/plain": [
       "   instanceId_userId  objectId\n",
       "0               1006  34577503\n",
       "1               1006  37520199\n",
       "2               1618    546086\n",
       "3               1618    546086\n",
       "4               1618    546086\n",
       "5               1618  35981492\n",
       "6               1618  26764305\n",
       "7               1810    958605\n",
       "8               1810  20479574\n",
       "9               1810  36254478"
      ]
     },
     "execution_count": 52,
     "metadata": {},
     "output_type": "execute_result"
    }
   ],
   "source": [
    "# Read the test data\n",
    "test = parquet.read_table(input_path + '/textsTest', \\\n",
    "    columns = ['instanceId_userId','instanceId_objectId']).to_pandas()\n",
    "test.rename(columns = {'instanceId_objectId':'objectId'}, inplace = True)\n",
    "test.head(10)"
   ]
  },
  {
   "cell_type": "code",
   "execution_count": 108,
   "metadata": {},
   "outputs": [
    {
     "data": {
      "text/html": [
       "<div>\n",
       "<style scoped>\n",
       "    .dataframe tbody tr th:only-of-type {\n",
       "        vertical-align: middle;\n",
       "    }\n",
       "\n",
       "    .dataframe tbody tr th {\n",
       "        vertical-align: top;\n",
       "    }\n",
       "\n",
       "    .dataframe thead th {\n",
       "        text-align: right;\n",
       "    }\n",
       "</style>\n",
       "<table border=\"1\" class=\"dataframe\">\n",
       "  <thead>\n",
       "    <tr style=\"text-align: right;\">\n",
       "      <th></th>\n",
       "      <th>objectId</th>\n",
       "      <th>preprocessed</th>\n",
       "      <th>weight</th>\n",
       "    </tr>\n",
       "  </thead>\n",
       "  <tbody>\n",
       "    <tr>\n",
       "      <th>454278</th>\n",
       "      <td>10672856</td>\n",
       "      <td>[помога, инач, поможет, выслуша, её, инач, её,...</td>\n",
       "      <td>-0.188005</td>\n",
       "    </tr>\n",
       "    <tr>\n",
       "      <th>497246</th>\n",
       "      <td>10672856</td>\n",
       "      <td>[помога, инач, поможет, выслуша, её, инач, её,...</td>\n",
       "      <td>-0.160773</td>\n",
       "    </tr>\n",
       "  </tbody>\n",
       "</table>\n",
       "</div>"
      ],
      "text/plain": [
       "        objectId                                       preprocessed    weight\n",
       "454278  10672856  [помога, инач, поможет, выслуша, её, инач, её,... -0.188005\n",
       "497246  10672856  [помога, инач, поможет, выслуша, её, инач, её,... -0.160773"
      ]
     },
     "execution_count": 108,
     "metadata": {},
     "output_type": "execute_result"
    }
   ],
   "source": [
    "test_texts.query('objectId==10672856')"
   ]
  },
  {
   "cell_type": "code",
   "execution_count": 106,
   "metadata": {},
   "outputs": [
    {
     "data": {
      "text/plain": [
       "array(['помога', 'инач', 'поможет', 'выслуша', 'её', 'инач', 'её',\n",
       "       'выслуша', 'бал', 'дар', 'цвет', 'обнима', 'прост', 'буд', 'ряд',\n",
       "       'ряд', 'найдет', 'вмест', 'стира', 'слёзы', 'лиц', 'стира', 'жизн',\n",
       "       'люд', 'котор', 'застав', 'плака', 'отношен', 'будущ', 'продл',\n",
       "       'ровн', 'стольк', 'скольк', 'женщин', 'хват', 'терпен', 'ничт',\n",
       "       'обижа', 'равнодуш', 'мужчин', 'женщин', 'плачет', 'мужчин',\n",
       "       'долж', 'понима', 'слез', 'эт', 'уловк', 'катаклизм', 'миров',\n",
       "       'катастроф', 'взорва', 'вулка', 'рек', 'вышл', 'берег', 'немедлен',\n",
       "       'люб', 'способ', 'останов', 'плачет', 'говор', 'стира', 'слез',\n",
       "       'прост', 'обн', 'поцел', 'рук', 'держ', 'настольк', 'нежн',\n",
       "       'наскольк', 'сможеш', 'тех', 'пор', 'пок', 'тво', 'любов',\n",
       "       'дойдет', 'сердц', 'да', 'сил', 'душ', 'позвол', 'почувствова',\n",
       "       'кажд', 'миг', 'счаст', 'гор', 'жизн', 'смерт', 'земл', 'неб'],\n",
       "      dtype=object)"
      ]
     },
     "execution_count": 106,
     "metadata": {},
     "output_type": "execute_result"
    }
   ],
   "source": [
    "test_texts.query('objectId==10672856').iloc[0].preprocessed"
   ]
  },
  {
   "cell_type": "code",
   "execution_count": 107,
   "metadata": {},
   "outputs": [
    {
     "data": {
      "text/plain": [
       "array(['помога', 'инач', 'поможет', 'выслуша', 'её', 'инач', 'её',\n",
       "       'выслуша', 'бал', 'дар', 'цвет', 'обнима', 'прост', 'буд', 'ряд',\n",
       "       'ряд', 'найдет', 'вмест', 'стира', 'слёзы', 'лиц', 'стира', 'жизн',\n",
       "       'люд', 'котор', 'застав', 'плака', 'отношен', 'будущ', 'продл',\n",
       "       'ровн', 'стольк', 'скольк', 'женщин', 'хват', 'терпен', 'ничт',\n",
       "       'обижа', 'равнодуш', 'мужчин', 'женщин', 'плачет', 'мужчин',\n",
       "       'долж', 'понима', 'слез', 'эт', 'уловк', 'катаклизм', 'миров',\n",
       "       'катастроф', 'взорва', 'вулка', 'рек', 'вышл', 'берег', 'немедлен',\n",
       "       'люб', 'способ', 'останов', 'плачет', 'говор', 'стира', 'слез',\n",
       "       'прост', 'обн', 'поцел', 'рук', 'держ', 'настольк', 'нежн',\n",
       "       'наскольк', 'сможеш', 'тех', 'пор', 'пок', 'тво', 'любов',\n",
       "       'дойдет', 'сердц', 'да', 'сил', 'душ', 'позвол', 'почувствова',\n",
       "       'кажд', 'миг', 'счаст', 'гор', 'жизн', 'смерт', 'земл', 'неб',\n",
       "       'всё', 'связа'], dtype=object)"
      ]
     },
     "execution_count": 107,
     "metadata": {},
     "output_type": "execute_result"
    }
   ],
   "source": [
    "test_texts.query('objectId==10672856').iloc[1].preprocessed"
   ]
  },
  {
   "cell_type": "code",
   "execution_count": 93,
   "metadata": {},
   "outputs": [
    {
     "data": {
      "text/html": [
       "<div>\n",
       "<style scoped>\n",
       "    .dataframe tbody tr th:only-of-type {\n",
       "        vertical-align: middle;\n",
       "    }\n",
       "\n",
       "    .dataframe tbody tr th {\n",
       "        vertical-align: top;\n",
       "    }\n",
       "\n",
       "    .dataframe thead th {\n",
       "        text-align: right;\n",
       "    }\n",
       "</style>\n",
       "<table border=\"1\" class=\"dataframe\">\n",
       "  <thead>\n",
       "    <tr style=\"text-align: right;\">\n",
       "      <th></th>\n",
       "      <th>instanceId_userId</th>\n",
       "      <th>objectId</th>\n",
       "      <th>weight</th>\n",
       "    </tr>\n",
       "  </thead>\n",
       "  <tbody>\n",
       "    <tr>\n",
       "      <th>306033</th>\n",
       "      <td>742</td>\n",
       "      <td>10672856</td>\n",
       "      <td>-0.188005</td>\n",
       "    </tr>\n",
       "    <tr>\n",
       "      <th>306033</th>\n",
       "      <td>742</td>\n",
       "      <td>10672856</td>\n",
       "      <td>-0.160773</td>\n",
       "    </tr>\n",
       "    <tr>\n",
       "      <th>306034</th>\n",
       "      <td>742</td>\n",
       "      <td>10672856</td>\n",
       "      <td>-0.188005</td>\n",
       "    </tr>\n",
       "    <tr>\n",
       "      <th>306034</th>\n",
       "      <td>742</td>\n",
       "      <td>10672856</td>\n",
       "      <td>-0.160773</td>\n",
       "    </tr>\n",
       "  </tbody>\n",
       "</table>\n",
       "</div>"
      ],
      "text/plain": [
       "        instanceId_userId  objectId    weight\n",
       "306033                742  10672856 -0.188005\n",
       "306033                742  10672856 -0.160773\n",
       "306034                742  10672856 -0.188005\n",
       "306034                742  10672856 -0.160773"
      ]
     },
     "execution_count": 93,
     "metadata": {},
     "output_type": "execute_result"
    }
   ],
   "source": [
    "test.join(\\\n",
    "        test_texts[['objectId','weight']].set_index('objectId'), \\\n",
    "        how = 'inner', \\\n",
    "        on = 'objectId') \\\n",
    "    .query('objectId==10672856 & instanceId_userId==742')"
   ]
  },
  {
   "cell_type": "code",
   "execution_count": 112,
   "metadata": {},
   "outputs": [
    {
     "data": {
      "text/html": [
       "<div>\n",
       "<style scoped>\n",
       "    .dataframe tbody tr th:only-of-type {\n",
       "        vertical-align: middle;\n",
       "    }\n",
       "\n",
       "    .dataframe tbody tr th {\n",
       "        vertical-align: top;\n",
       "    }\n",
       "\n",
       "    .dataframe thead th {\n",
       "        text-align: right;\n",
       "    }\n",
       "</style>\n",
       "<table border=\"1\" class=\"dataframe\">\n",
       "  <thead>\n",
       "    <tr style=\"text-align: right;\">\n",
       "      <th></th>\n",
       "      <th></th>\n",
       "      <th>weight</th>\n",
       "    </tr>\n",
       "    <tr>\n",
       "      <th>instanceId_userId</th>\n",
       "      <th>objectId</th>\n",
       "      <th></th>\n",
       "    </tr>\n",
       "  </thead>\n",
       "  <tbody>\n",
       "    <tr>\n",
       "      <th rowspan=\"2\" valign=\"top\">316</th>\n",
       "      <th>17997084</th>\n",
       "      <td>-0.145631</td>\n",
       "    </tr>\n",
       "    <tr>\n",
       "      <th>37758420</th>\n",
       "      <td>-0.146873</td>\n",
       "    </tr>\n",
       "    <tr>\n",
       "      <th rowspan=\"3\" valign=\"top\">631</th>\n",
       "      <th>15478935</th>\n",
       "      <td>-0.160086</td>\n",
       "    </tr>\n",
       "    <tr>\n",
       "      <th>30513650</th>\n",
       "      <td>-0.185748</td>\n",
       "    </tr>\n",
       "    <tr>\n",
       "      <th>38118098</th>\n",
       "      <td>-0.158939</td>\n",
       "    </tr>\n",
       "    <tr>\n",
       "      <th rowspan=\"4\" valign=\"top\">742</th>\n",
       "      <th>10672856</th>\n",
       "      <td>-0.188005</td>\n",
       "    </tr>\n",
       "    <tr>\n",
       "      <th>24302446</th>\n",
       "      <td>-0.162636</td>\n",
       "    </tr>\n",
       "    <tr>\n",
       "      <th>28816291</th>\n",
       "      <td>-0.177682</td>\n",
       "    </tr>\n",
       "    <tr>\n",
       "      <th>34685448</th>\n",
       "      <td>-0.148833</td>\n",
       "    </tr>\n",
       "    <tr>\n",
       "      <th>868</th>\n",
       "      <th>11640701</th>\n",
       "      <td>-0.172537</td>\n",
       "    </tr>\n",
       "  </tbody>\n",
       "</table>\n",
       "</div>"
      ],
      "text/plain": [
       "                              weight\n",
       "instanceId_userId objectId          \n",
       "316               17997084 -0.145631\n",
       "                  37758420 -0.146873\n",
       "631               15478935 -0.160086\n",
       "                  30513650 -0.185748\n",
       "                  38118098 -0.158939\n",
       "742               10672856 -0.188005\n",
       "                  24302446 -0.162636\n",
       "                  28816291 -0.177682\n",
       "                  34685448 -0.148833\n",
       "868               11640701 -0.172537"
      ]
     },
     "execution_count": 112,
     "metadata": {},
     "output_type": "execute_result"
    }
   ],
   "source": [
    "# Join test documents and elliminate possible duplicates\n",
    "scores = test.join(\\\n",
    "    test_texts[['objectId','weight']].set_index('objectId'), \\\n",
    "    how = 'inner', \\\n",
    "    on = 'objectId') \\\n",
    "    .groupby(['instanceId_userId','objectId']).min()\n",
    "scores.head(10)"
   ]
  },
  {
   "cell_type": "code",
   "execution_count": 114,
   "metadata": {},
   "outputs": [
    {
     "data": {
      "text/html": [
       "<div>\n",
       "<style scoped>\n",
       "    .dataframe tbody tr th:only-of-type {\n",
       "        vertical-align: middle;\n",
       "    }\n",
       "\n",
       "    .dataframe tbody tr th {\n",
       "        vertical-align: top;\n",
       "    }\n",
       "\n",
       "    .dataframe thead th {\n",
       "        text-align: right;\n",
       "    }\n",
       "</style>\n",
       "<table border=\"1\" class=\"dataframe\">\n",
       "  <thead>\n",
       "    <tr style=\"text-align: right;\">\n",
       "      <th></th>\n",
       "      <th>instanceId_userId</th>\n",
       "      <th>objectId</th>\n",
       "      <th>weight</th>\n",
       "    </tr>\n",
       "  </thead>\n",
       "  <tbody>\n",
       "    <tr>\n",
       "      <th>0</th>\n",
       "      <td>316</td>\n",
       "      <td>37758420</td>\n",
       "      <td>-0.146873</td>\n",
       "    </tr>\n",
       "    <tr>\n",
       "      <th>1</th>\n",
       "      <td>316</td>\n",
       "      <td>17997084</td>\n",
       "      <td>-0.145631</td>\n",
       "    </tr>\n",
       "    <tr>\n",
       "      <th>2</th>\n",
       "      <td>631</td>\n",
       "      <td>30513650</td>\n",
       "      <td>-0.185748</td>\n",
       "    </tr>\n",
       "    <tr>\n",
       "      <th>3</th>\n",
       "      <td>631</td>\n",
       "      <td>15478935</td>\n",
       "      <td>-0.160086</td>\n",
       "    </tr>\n",
       "    <tr>\n",
       "      <th>4</th>\n",
       "      <td>631</td>\n",
       "      <td>38118098</td>\n",
       "      <td>-0.158939</td>\n",
       "    </tr>\n",
       "    <tr>\n",
       "      <th>5</th>\n",
       "      <td>742</td>\n",
       "      <td>10672856</td>\n",
       "      <td>-0.188005</td>\n",
       "    </tr>\n",
       "    <tr>\n",
       "      <th>6</th>\n",
       "      <td>742</td>\n",
       "      <td>28816291</td>\n",
       "      <td>-0.177682</td>\n",
       "    </tr>\n",
       "    <tr>\n",
       "      <th>7</th>\n",
       "      <td>742</td>\n",
       "      <td>24302446</td>\n",
       "      <td>-0.162636</td>\n",
       "    </tr>\n",
       "    <tr>\n",
       "      <th>8</th>\n",
       "      <td>742</td>\n",
       "      <td>34685448</td>\n",
       "      <td>-0.148833</td>\n",
       "    </tr>\n",
       "    <tr>\n",
       "      <th>9</th>\n",
       "      <td>868</td>\n",
       "      <td>30882080</td>\n",
       "      <td>-0.190935</td>\n",
       "    </tr>\n",
       "  </tbody>\n",
       "</table>\n",
       "</div>"
      ],
      "text/plain": [
       "   instanceId_userId  objectId    weight\n",
       "0                316  37758420 -0.146873\n",
       "1                316  17997084 -0.145631\n",
       "2                631  30513650 -0.185748\n",
       "3                631  15478935 -0.160086\n",
       "4                631  38118098 -0.158939\n",
       "5                742  10672856 -0.188005\n",
       "6                742  28816291 -0.177682\n",
       "7                742  24302446 -0.162636\n",
       "8                742  34685448 -0.148833\n",
       "9                868  30882080 -0.190935"
      ]
     },
     "execution_count": 114,
     "metadata": {},
     "output_type": "execute_result"
    }
   ],
   "source": [
    "#  Sort for each user\n",
    "result = scores.sort_values(by=['instanceId_userId', 'weight']).reset_index()\n",
    "result.head(10)"
   ]
  },
  {
   "cell_type": "code",
   "execution_count": 118,
   "metadata": {},
   "outputs": [
    {
     "data": {
      "text/plain": [
       "instanceId_userId\n",
       "316                                  [37758420, 17997084]\n",
       "631                        [30513650, 15478935, 38118098]\n",
       "742              [10672856, 28816291, 24302446, 34685448]\n",
       "868     [30882080, 30143153, 22115500, 11640701, 29193...\n",
       "979                                   [37950972, 7996257]\n",
       "1006                                 [34577503, 37520199]\n",
       "1276                       [36856262, 31000576, 22812401]\n",
       "1444                                 [36806487, 20963755]\n",
       "1483                                 [38036543, 34991228]\n",
       "1618                         [546086, 35981492, 26764305]\n",
       "Name: objectId, dtype: object"
      ]
     },
     "execution_count": 118,
     "metadata": {},
     "output_type": "execute_result"
    }
   ],
   "source": [
    "# Collect predictions for each user\n",
    "submit = result.groupby(\"instanceId_userId\")['objectId'].apply(list)\n",
    "submit.head(10)"
   ]
  },
  {
   "cell_type": "code",
   "execution_count": 119,
   "metadata": {},
   "outputs": [
    {
     "data": {
      "text/plain": [
       "(1035047, 3)"
      ]
     },
     "execution_count": 119,
     "metadata": {},
     "output_type": "execute_result"
    }
   ],
   "source": [
    "result.shape"
   ]
  },
  {
   "cell_type": "code",
   "execution_count": 121,
   "metadata": {},
   "outputs": [],
   "source": [
    "# Persist the first submit\n",
    "submit.to_csv(output_path + \"/textSubmit.csv.gz\", header = False, compression='gzip')"
   ]
  },
  {
   "cell_type": "code",
   "execution_count": 123,
   "metadata": {},
   "outputs": [
    {
     "data": {
      "text/plain": [
       "objectId\n",
       "300695    [торт, минут, выпечк, вкус, детств, торт, крек...\n",
       "302521                   [чуж, премьер, песн, брав, яросла]\n",
       "302773    [ландорик, блюд, мо, детств, подписыва, видеок...\n",
       "304557                                     [зажига, мужчин]\n",
       "Name: preprocessed, dtype: object"
      ]
     },
     "execution_count": 123,
     "metadata": {},
     "output_type": "execute_result"
    }
   ],
   "source": [
    "joined.preprocessed[1:5]"
   ]
  },
  {
   "cell_type": "code",
   "execution_count": null,
   "metadata": {},
   "outputs": [],
   "source": []
  }
 ],
 "metadata": {
  "kernelspec": {
   "display_name": "Python 3",
   "language": "python",
   "name": "python3"
  },
  "language_info": {
   "codemirror_mode": {
    "name": "ipython",
    "version": 3
   },
   "file_extension": ".py",
   "mimetype": "text/x-python",
   "name": "python",
   "nbconvert_exporter": "python",
   "pygments_lexer": "ipython3",
   "version": "3.7.2"
  }
 },
 "nbformat": 4,
 "nbformat_minor": 2
}
