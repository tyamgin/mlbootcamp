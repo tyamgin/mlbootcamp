{
 "cells": [
  {
   "cell_type": "code",
   "execution_count": 1,
   "metadata": {},
   "outputs": [
    {
     "name": "stdout",
     "output_type": "stream",
     "text": [
      "0\n"
     ]
    },
    {
     "name": "stderr",
     "output_type": "stream",
     "text": [
      "/usr/local/lib/python3.7/site-packages/lightgbm/__init__.py:46: UserWarning: Starting from version 2.2.1, the library file in distribution wheels for macOS is built by the Apple Clang (Xcode_8.3.3) compiler.\n",
      "This means that in case of installing LightGBM from PyPI via the ``pip install lightgbm`` command, you don't need to install the gcc compiler anymore.\n",
      "Instead of that, you need to install the OpenMP library, which is required for running LightGBM on the system with the Apple Clang compiler.\n",
      "You can install the OpenMP library by the following command: ``brew install libomp``.\n",
      "  \"You can install the OpenMP library by the following command: ``brew install libomp``.\", UserWarning)\n"
     ]
    }
   ],
   "source": [
    "%run cv.ipynb"
   ]
  },
  {
   "cell_type": "code",
   "execution_count": 2,
   "metadata": {},
   "outputs": [],
   "source": [
    "train_texts_features = pd.read_pickle(output_path + '/train_text_features3')"
   ]
  },
  {
   "cell_type": "code",
   "execution_count": 85,
   "metadata": {},
   "outputs": [],
   "source": [
    "train_data = pd.read_pickle(output_path + '/train_data')\n",
    "train_data = train_data.join(train_texts_features.set_index('objectId'), how='inner', on='objectId')"
   ]
  },
  {
   "cell_type": "code",
   "execution_count": 86,
   "metadata": {},
   "outputs": [],
   "source": [
    "def predict_to_submit(X, proba):\n",
    "    X = X.assign(weight=-proba)\n",
    "    scores = X[['instanceId_userId', 'objectId', 'weight']] \\\n",
    "            .groupby(['instanceId_userId','objectId']).mean()\n",
    "    result = scores.sort_values(by=['instanceId_userId', 'weight']).reset_index()\n",
    "    # Collect predictions for each user\n",
    "    submit = result.groupby(\"instanceId_userId\")['objectId'].apply(list)\n",
    "    return submit\n",
    "\n",
    "class SimpleModel(MyModel):\n",
    "    def get_X(self, data):\n",
    "        X = data.drop(['objectId', 'instanceId_userId'], 1)\n",
    "        if 'label' in data.columns:\n",
    "            X.drop('label', 1, inplace=True)\n",
    "        if 'emb_cosine_dist' in data.columns:\n",
    "            X.drop('emb_cosine_dist', 1, inplace=True)\n",
    "        return X\n",
    "    def fit(self, data):\n",
    "        X = self.get_X(data)\n",
    "        y = data['label'].values\n",
    "        #self.model = LogisticRegression(random_state=123, solver='lbfgs').fit(X, y)\n",
    "        self.model = MLPClassifier(alpha=.0002, hidden_layer_sizes=(25,), max_iter=150,\n",
    "                                   learning_rate_init=0.001, random_state=322).fit(X, y)\n",
    "    def predict(self, X):\n",
    "        proba_result = self.model.predict_proba(self.get_X(X))\n",
    "        return proba_result[:, 1]\n",
    "    \n",
    "class LgbModel(SimpleModel):\n",
    "    def __init__(self, params):\n",
    "        self.params = params\n",
    "    def fit(self, data):\n",
    "        lgb_train = lgb.Dataset(self.get_X(data), data['label'].values)\n",
    "        #categorical_feature=['objectType', 'clientType']\n",
    "        \n",
    "        #if self.verbose >= 2:\n",
    "        print('Starting train: %s' % datetime.datetime.now())\n",
    "        params = self.params.copy()\n",
    "        num_boost_round = params['num_boost_round']\n",
    "        del params['num_boost_round']\n",
    "        #params['objective'] = 'binary'\n",
    "        params['metric'] = 'auc'\n",
    "        self.model = lgb.train(\n",
    "            params,\n",
    "            lgb_train,\n",
    "            num_boost_round=num_boost_round\n",
    "        )\n",
    "    def predict(self, X):\n",
    "        proba = self.model.predict(self.get_X(X))\n",
    "        return proba\n"
   ]
  },
  {
   "cell_type": "code",
   "execution_count": 87,
   "metadata": {},
   "outputs": [],
   "source": [
    "def feat(x):\n",
    "    n = x.shape[0]\n",
    "    return np.add.reduce(x.embedding.values) / n\n",
    "\n",
    "def create_features(data):\n",
    "    ones = np.repeat(1, data.shape[0])\n",
    "    res = pd.DataFrame({\n",
    "        'instanceId_userId': data['instanceId_userId'],\n",
    "        'objectId': data['objectId'],\n",
    "        'object_type': data['instanceId_objectType'],\n",
    "        'client_type': data['audit_clientType'],\n",
    "        'len': data['len'],\n",
    "        'p_len': data['p_len'],\n",
    "        #'plen_per_len': data['p_len'] / data['len'],\n",
    "        'q_count': data['q_count'],\n",
    "        'links_count': data['links_count'],\n",
    "        'emojis_rate': data['emojis_count'] / data['len'],\n",
    "        'upper_rate': data['upper_count'] / data['len'],\n",
    "        'ok_videos_count': data['ok_videos_count'].clip(upper=1),\n",
    "        'ok_groups_count': data['ok_groups_count'].clip(upper=1),\n",
    "        'youtube_count': data['youtube_count'].clip(upper=1),\n",
    "        'is_adv': data['is_adv'],\n",
    "        'is_recipe': data['is_recipe'],\n",
    "        #'is_ru': data['lang'] == 'ru',\n",
    "    })\n",
    "    #qq = data[['instanceId_userId', 'embedding']].join(\n",
    "    #        data.groupby('instanceId_userId').apply(feat).reset_index().set_index('instanceId_userId'), \n",
    "    #        on='instanceId_userId')\n",
    "    #print('Cosing:')\n",
    "    #res['emb_dist'] = (qq.iloc[:,1] - qq.iloc[:,2]).apply(np.linalg.norm)\n",
    "    #res['emb_cosine_dist'] = qq.iloc[:,1:3].apply(lambda x: scipy.spatial.distance.cosine(*x), axis=1)\n",
    "    #print('Embs:')\n",
    "    emb = np.stack(data['embedding'])\n",
    "    for j in range(emb.shape[1]):\n",
    "        res['emb%d' % j] = emb[:,j]\n",
    "\n",
    "    if 'label' in data.columns:\n",
    "        res['label'] = data['label']\n",
    "            \n",
    "    return res"
   ]
  },
  {
   "cell_type": "code",
   "execution_count": 88,
   "metadata": {},
   "outputs": [
    {
     "name": "stdout",
     "output_type": "stream",
     "text": [
      "CPU times: user 26.3 ms, sys: 78.7 ms, total: 105 ms\n",
      "Wall time: 111 ms\n"
     ]
    }
   ],
   "source": [
    "%%time\n",
    "train = create_features(train_data.head(10000))"
   ]
  },
  {
   "cell_type": "code",
   "execution_count": 89,
   "metadata": {},
   "outputs": [
    {
     "name": "stdout",
     "output_type": "stream",
     "text": [
      "CPU times: user 32.9 s, sys: 6.82 s, total: 39.7 s\n",
      "Wall time: 41.8 s\n"
     ]
    }
   ],
   "source": [
    "%%time\n",
    "train = create_features(train_data)\n",
    "del train_data"
   ]
  },
  {
   "cell_type": "code",
   "execution_count": 90,
   "metadata": {},
   "outputs": [
    {
     "name": "stdout",
     "output_type": "stream",
     "text": [
      "(20, 0.0, 0.5, 1, 1000, 24)\n",
      "KFold(n_splits=5, random_state=2707, shuffle=True)\n",
      "Prepare data: 2019-02-24 14:02:53.759142\n",
      "Fit: 2019-02-24 14:02:56.483555\n",
      "Starting train: 2019-02-24 14:02:57.127578\n",
      "Predict: 2019-02-24 14:04:16.175734\n",
      "Auc: 2019-02-24 14:04:24.668711\n",
      " 0 - 1 : 0.6415, mean=0.6415\n",
      "Prepare data: 2019-02-24 14:04:24.880791\n",
      "Fit: 2019-02-24 14:04:27.399534\n",
      "Starting train: 2019-02-24 14:04:28.108458\n"
     ]
    },
    {
     "ename": "KeyboardInterrupt",
     "evalue": "",
     "output_type": "error",
     "traceback": [
      "\u001b[0;31m---------------------------------------------------------------------------\u001b[0m",
      "\u001b[0;31mKeyboardInterrupt\u001b[0m                         Traceback (most recent call last)",
      "\u001b[0;32m<timed exec>\u001b[0m in \u001b[0;36m<module>\u001b[0;34m\u001b[0m\n",
      "\u001b[0;32m<ipython-input-1-b43944772e3d>\u001b[0m in \u001b[0;36mcross_validation\u001b[0;34m(model, data, n_folds, n_iters, seed, verbose)\u001b[0m\n\u001b[1;32m     15\u001b[0m             \u001b[0;32mif\u001b[0m \u001b[0mverbose\u001b[0m \u001b[0;34m>=\u001b[0m \u001b[0;36m2\u001b[0m\u001b[0;34m:\u001b[0m\u001b[0;34m\u001b[0m\u001b[0;34m\u001b[0m\u001b[0m\n\u001b[1;32m     16\u001b[0m                 \u001b[0mprint\u001b[0m\u001b[0;34m(\u001b[0m\u001b[0;34m'Fit: %s'\u001b[0m \u001b[0;34m%\u001b[0m \u001b[0mdatetime\u001b[0m\u001b[0;34m.\u001b[0m\u001b[0mdatetime\u001b[0m\u001b[0;34m.\u001b[0m\u001b[0mnow\u001b[0m\u001b[0;34m(\u001b[0m\u001b[0;34m)\u001b[0m\u001b[0;34m)\u001b[0m\u001b[0;34m\u001b[0m\u001b[0;34m\u001b[0m\u001b[0m\n\u001b[0;32m---> 17\u001b[0;31m             \u001b[0mmodel\u001b[0m\u001b[0;34m.\u001b[0m\u001b[0mfit\u001b[0m\u001b[0;34m(\u001b[0m\u001b[0mdata_train\u001b[0m\u001b[0;34m)\u001b[0m\u001b[0;34m\u001b[0m\u001b[0;34m\u001b[0m\u001b[0m\n\u001b[0m\u001b[1;32m     18\u001b[0m             \u001b[0;32mif\u001b[0m \u001b[0mverbose\u001b[0m \u001b[0;34m>=\u001b[0m \u001b[0;36m2\u001b[0m\u001b[0;34m:\u001b[0m\u001b[0;34m\u001b[0m\u001b[0;34m\u001b[0m\u001b[0m\n\u001b[1;32m     19\u001b[0m                 \u001b[0mprint\u001b[0m\u001b[0;34m(\u001b[0m\u001b[0;34m'Predict: %s'\u001b[0m \u001b[0;34m%\u001b[0m \u001b[0mdatetime\u001b[0m\u001b[0;34m.\u001b[0m\u001b[0mdatetime\u001b[0m\u001b[0;34m.\u001b[0m\u001b[0mnow\u001b[0m\u001b[0;34m(\u001b[0m\u001b[0;34m)\u001b[0m\u001b[0;34m)\u001b[0m\u001b[0;34m\u001b[0m\u001b[0;34m\u001b[0m\u001b[0m\n",
      "\u001b[0;32m<ipython-input-86-3792c52b7360>\u001b[0m in \u001b[0;36mfit\u001b[0;34m(self, data)\u001b[0m\n\u001b[1;32m     43\u001b[0m             \u001b[0mparams\u001b[0m\u001b[0;34m,\u001b[0m\u001b[0;34m\u001b[0m\u001b[0;34m\u001b[0m\u001b[0m\n\u001b[1;32m     44\u001b[0m             \u001b[0mlgb_train\u001b[0m\u001b[0;34m,\u001b[0m\u001b[0;34m\u001b[0m\u001b[0;34m\u001b[0m\u001b[0m\n\u001b[0;32m---> 45\u001b[0;31m             \u001b[0mnum_boost_round\u001b[0m\u001b[0;34m=\u001b[0m\u001b[0mnum_boost_round\u001b[0m\u001b[0;34m\u001b[0m\u001b[0;34m\u001b[0m\u001b[0m\n\u001b[0m\u001b[1;32m     46\u001b[0m         )\n\u001b[1;32m     47\u001b[0m     \u001b[0;32mdef\u001b[0m \u001b[0mpredict\u001b[0m\u001b[0;34m(\u001b[0m\u001b[0mself\u001b[0m\u001b[0;34m,\u001b[0m \u001b[0mX\u001b[0m\u001b[0;34m)\u001b[0m\u001b[0;34m:\u001b[0m\u001b[0;34m\u001b[0m\u001b[0;34m\u001b[0m\u001b[0m\n",
      "\u001b[0;32m/usr/local/lib/python3.7/site-packages/lightgbm/engine.py\u001b[0m in \u001b[0;36mtrain\u001b[0;34m(params, train_set, num_boost_round, valid_sets, valid_names, fobj, feval, init_model, feature_name, categorical_feature, early_stopping_rounds, evals_result, verbose_eval, learning_rates, keep_training_booster, callbacks)\u001b[0m\n\u001b[1;32m    195\u001b[0m     \u001b[0;31m# construct booster\u001b[0m\u001b[0;34m\u001b[0m\u001b[0;34m\u001b[0m\u001b[0;34m\u001b[0m\u001b[0m\n\u001b[1;32m    196\u001b[0m     \u001b[0;32mtry\u001b[0m\u001b[0;34m:\u001b[0m\u001b[0;34m\u001b[0m\u001b[0;34m\u001b[0m\u001b[0m\n\u001b[0;32m--> 197\u001b[0;31m         \u001b[0mbooster\u001b[0m \u001b[0;34m=\u001b[0m \u001b[0mBooster\u001b[0m\u001b[0;34m(\u001b[0m\u001b[0mparams\u001b[0m\u001b[0;34m=\u001b[0m\u001b[0mparams\u001b[0m\u001b[0;34m,\u001b[0m \u001b[0mtrain_set\u001b[0m\u001b[0;34m=\u001b[0m\u001b[0mtrain_set\u001b[0m\u001b[0;34m)\u001b[0m\u001b[0;34m\u001b[0m\u001b[0;34m\u001b[0m\u001b[0m\n\u001b[0m\u001b[1;32m    198\u001b[0m         \u001b[0;32mif\u001b[0m \u001b[0mis_valid_contain_train\u001b[0m\u001b[0;34m:\u001b[0m\u001b[0;34m\u001b[0m\u001b[0;34m\u001b[0m\u001b[0m\n\u001b[1;32m    199\u001b[0m             \u001b[0mbooster\u001b[0m\u001b[0;34m.\u001b[0m\u001b[0mset_train_data_name\u001b[0m\u001b[0;34m(\u001b[0m\u001b[0mtrain_data_name\u001b[0m\u001b[0;34m)\u001b[0m\u001b[0;34m\u001b[0m\u001b[0;34m\u001b[0m\u001b[0m\n",
      "\u001b[0;32m/usr/local/lib/python3.7/site-packages/lightgbm/basic.py\u001b[0m in \u001b[0;36m__init__\u001b[0;34m(self, params, train_set, model_file, silent)\u001b[0m\n\u001b[1;32m   1550\u001b[0m             \u001b[0mself\u001b[0m\u001b[0;34m.\u001b[0m\u001b[0mhandle\u001b[0m \u001b[0;34m=\u001b[0m \u001b[0mctypes\u001b[0m\u001b[0;34m.\u001b[0m\u001b[0mc_void_p\u001b[0m\u001b[0;34m(\u001b[0m\u001b[0;34m)\u001b[0m\u001b[0;34m\u001b[0m\u001b[0;34m\u001b[0m\u001b[0m\n\u001b[1;32m   1551\u001b[0m             _safe_call(_LIB.LGBM_BoosterCreate(\n\u001b[0;32m-> 1552\u001b[0;31m                 \u001b[0mtrain_set\u001b[0m\u001b[0;34m.\u001b[0m\u001b[0mconstruct\u001b[0m\u001b[0;34m(\u001b[0m\u001b[0;34m)\u001b[0m\u001b[0;34m.\u001b[0m\u001b[0mhandle\u001b[0m\u001b[0;34m,\u001b[0m\u001b[0;34m\u001b[0m\u001b[0;34m\u001b[0m\u001b[0m\n\u001b[0m\u001b[1;32m   1553\u001b[0m                 \u001b[0mc_str\u001b[0m\u001b[0;34m(\u001b[0m\u001b[0mparams_str\u001b[0m\u001b[0;34m)\u001b[0m\u001b[0;34m,\u001b[0m\u001b[0;34m\u001b[0m\u001b[0;34m\u001b[0m\u001b[0m\n\u001b[1;32m   1554\u001b[0m                 ctypes.byref(self.handle)))\n",
      "\u001b[0;32m/usr/local/lib/python3.7/site-packages/lightgbm/basic.py\u001b[0m in \u001b[0;36mconstruct\u001b[0;34m(self)\u001b[0m\n\u001b[1;32m    999\u001b[0m                                 \u001b[0minit_score\u001b[0m\u001b[0;34m=\u001b[0m\u001b[0mself\u001b[0m\u001b[0;34m.\u001b[0m\u001b[0minit_score\u001b[0m\u001b[0;34m,\u001b[0m \u001b[0mpredictor\u001b[0m\u001b[0;34m=\u001b[0m\u001b[0mself\u001b[0m\u001b[0;34m.\u001b[0m\u001b[0m_predictor\u001b[0m\u001b[0;34m,\u001b[0m\u001b[0;34m\u001b[0m\u001b[0;34m\u001b[0m\u001b[0m\n\u001b[1;32m   1000\u001b[0m                                 \u001b[0msilent\u001b[0m\u001b[0;34m=\u001b[0m\u001b[0mself\u001b[0m\u001b[0;34m.\u001b[0m\u001b[0msilent\u001b[0m\u001b[0;34m,\u001b[0m \u001b[0mfeature_name\u001b[0m\u001b[0;34m=\u001b[0m\u001b[0mself\u001b[0m\u001b[0;34m.\u001b[0m\u001b[0mfeature_name\u001b[0m\u001b[0;34m,\u001b[0m\u001b[0;34m\u001b[0m\u001b[0;34m\u001b[0m\u001b[0m\n\u001b[0;32m-> 1001\u001b[0;31m                                 categorical_feature=self.categorical_feature, params=self.params)\n\u001b[0m\u001b[1;32m   1002\u001b[0m             \u001b[0;32mif\u001b[0m \u001b[0mself\u001b[0m\u001b[0;34m.\u001b[0m\u001b[0mfree_raw_data\u001b[0m\u001b[0;34m:\u001b[0m\u001b[0;34m\u001b[0m\u001b[0;34m\u001b[0m\u001b[0m\n\u001b[1;32m   1003\u001b[0m                 \u001b[0mself\u001b[0m\u001b[0;34m.\u001b[0m\u001b[0mdata\u001b[0m \u001b[0;34m=\u001b[0m \u001b[0;32mNone\u001b[0m\u001b[0;34m\u001b[0m\u001b[0;34m\u001b[0m\u001b[0m\n",
      "\u001b[0;32m/usr/local/lib/python3.7/site-packages/lightgbm/basic.py\u001b[0m in \u001b[0;36m_lazy_init\u001b[0;34m(self, data, label, reference, weight, group, init_score, predictor, silent, feature_name, categorical_feature, params)\u001b[0m\n\u001b[1;32m    789\u001b[0m             \u001b[0mself\u001b[0m\u001b[0;34m.\u001b[0m\u001b[0m__init_from_csc\u001b[0m\u001b[0;34m(\u001b[0m\u001b[0mdata\u001b[0m\u001b[0;34m,\u001b[0m \u001b[0mparams_str\u001b[0m\u001b[0;34m,\u001b[0m \u001b[0mref_dataset\u001b[0m\u001b[0;34m)\u001b[0m\u001b[0;34m\u001b[0m\u001b[0;34m\u001b[0m\u001b[0m\n\u001b[1;32m    790\u001b[0m         \u001b[0;32melif\u001b[0m \u001b[0misinstance\u001b[0m\u001b[0;34m(\u001b[0m\u001b[0mdata\u001b[0m\u001b[0;34m,\u001b[0m \u001b[0mnp\u001b[0m\u001b[0;34m.\u001b[0m\u001b[0mndarray\u001b[0m\u001b[0;34m)\u001b[0m\u001b[0;34m:\u001b[0m\u001b[0;34m\u001b[0m\u001b[0;34m\u001b[0m\u001b[0m\n\u001b[0;32m--> 791\u001b[0;31m             \u001b[0mself\u001b[0m\u001b[0;34m.\u001b[0m\u001b[0m__init_from_np2d\u001b[0m\u001b[0;34m(\u001b[0m\u001b[0mdata\u001b[0m\u001b[0;34m,\u001b[0m \u001b[0mparams_str\u001b[0m\u001b[0;34m,\u001b[0m \u001b[0mref_dataset\u001b[0m\u001b[0;34m)\u001b[0m\u001b[0;34m\u001b[0m\u001b[0;34m\u001b[0m\u001b[0m\n\u001b[0m\u001b[1;32m    792\u001b[0m         \u001b[0;32melif\u001b[0m \u001b[0misinstance\u001b[0m\u001b[0;34m(\u001b[0m\u001b[0mdata\u001b[0m\u001b[0;34m,\u001b[0m \u001b[0mlist\u001b[0m\u001b[0;34m)\u001b[0m \u001b[0;32mand\u001b[0m \u001b[0mlen\u001b[0m\u001b[0;34m(\u001b[0m\u001b[0mdata\u001b[0m\u001b[0;34m)\u001b[0m \u001b[0;34m>\u001b[0m \u001b[0;36m0\u001b[0m \u001b[0;32mand\u001b[0m \u001b[0mall\u001b[0m\u001b[0;34m(\u001b[0m\u001b[0misinstance\u001b[0m\u001b[0;34m(\u001b[0m\u001b[0mx\u001b[0m\u001b[0;34m,\u001b[0m \u001b[0mnp\u001b[0m\u001b[0;34m.\u001b[0m\u001b[0mndarray\u001b[0m\u001b[0;34m)\u001b[0m \u001b[0;32mfor\u001b[0m \u001b[0mx\u001b[0m \u001b[0;32min\u001b[0m \u001b[0mdata\u001b[0m\u001b[0;34m)\u001b[0m\u001b[0;34m:\u001b[0m\u001b[0;34m\u001b[0m\u001b[0;34m\u001b[0m\u001b[0m\n\u001b[1;32m    793\u001b[0m             \u001b[0mself\u001b[0m\u001b[0;34m.\u001b[0m\u001b[0m__init_from_list_np2d\u001b[0m\u001b[0;34m(\u001b[0m\u001b[0mdata\u001b[0m\u001b[0;34m,\u001b[0m \u001b[0mparams_str\u001b[0m\u001b[0;34m,\u001b[0m \u001b[0mref_dataset\u001b[0m\u001b[0;34m)\u001b[0m\u001b[0;34m\u001b[0m\u001b[0;34m\u001b[0m\u001b[0m\n",
      "\u001b[0;32m/usr/local/lib/python3.7/site-packages/lightgbm/basic.py\u001b[0m in \u001b[0;36m__init_from_np2d\u001b[0;34m(self, mat, params_str, ref_dataset)\u001b[0m\n\u001b[1;32m    853\u001b[0m             \u001b[0mc_str\u001b[0m\u001b[0;34m(\u001b[0m\u001b[0mparams_str\u001b[0m\u001b[0;34m)\u001b[0m\u001b[0;34m,\u001b[0m\u001b[0;34m\u001b[0m\u001b[0;34m\u001b[0m\u001b[0m\n\u001b[1;32m    854\u001b[0m             \u001b[0mref_dataset\u001b[0m\u001b[0;34m,\u001b[0m\u001b[0;34m\u001b[0m\u001b[0;34m\u001b[0m\u001b[0m\n\u001b[0;32m--> 855\u001b[0;31m             ctypes.byref(self.handle)))\n\u001b[0m\u001b[1;32m    856\u001b[0m         \u001b[0;32mreturn\u001b[0m \u001b[0mself\u001b[0m\u001b[0;34m\u001b[0m\u001b[0;34m\u001b[0m\u001b[0m\n\u001b[1;32m    857\u001b[0m \u001b[0;34m\u001b[0m\u001b[0m\n",
      "\u001b[0;31mKeyboardInterrupt\u001b[0m: "
     ]
    }
   ],
   "source": [
    "%%time\n",
    "#################################### PARTIAL TRAIN\n",
    "for min_data_in_leaf in (20,):\n",
    "    for lambda_l2 in (0.0,):\n",
    "        for learning_rate in (0.5,):\n",
    "            for feature_fraction in (1,):\n",
    "                for num_boost_round in (1000,):\n",
    "                    for num_leaves in (24,):\n",
    "                        print((min_data_in_leaf,lambda_l2,learning_rate,feature_fraction,num_boost_round,num_leaves))\n",
    "                        cross_validation(LgbModel({\n",
    "                            'boosting_type': 'gbdt',\n",
    "                            'min_data_in_leaf': min_data_in_leaf,\n",
    "                            'lambda_l2': lambda_l2,\n",
    "                            'num_leaves': num_leaves,\n",
    "                            'learning_rate': learning_rate,\n",
    "                            'feature_fraction': feature_fraction,\n",
    "                            'bagging_fraction': 1,\n",
    "                            'bagging_freq': 5,\n",
    "                            'num_boost_round': num_boost_round,\n",
    "                            'verbose': 0\n",
    "                        }), train[train.instanceId_userId < 4000000], n_iters=1, verbose=2)"
   ]
  },
  {
   "cell_type": "code",
   "execution_count": 84,
   "metadata": {},
   "outputs": [
    {
     "name": "stdout",
     "output_type": "stream",
     "text": [
      "(20, 0.0, 0.5, 1, 1000, 24)\n",
      "KFold(n_splits=5, random_state=2707, shuffle=True)\n",
      "Prepare data: 2019-02-24 13:47:54.297978\n",
      "Fit: 2019-02-24 13:47:57.158977\n",
      "Starting train: 2019-02-24 13:47:58.030261\n",
      "Predict: 2019-02-24 13:49:28.884893\n",
      "Auc: 2019-02-24 13:49:37.500645\n",
      " 0 - 1 : 0.6442, mean=0.6442\n",
      "Prepare data: 2019-02-24 13:49:37.721344\n",
      "Fit: 2019-02-24 13:49:40.630414\n",
      "Starting train: 2019-02-24 13:49:41.519071\n",
      "Predict: 2019-02-24 13:51:12.855549\n",
      "Auc: 2019-02-24 13:51:20.578160\n",
      " 0 - 2 : 0.6442, mean=0.6442\n",
      "Prepare data: 2019-02-24 13:51:20.765002\n",
      "Fit: 2019-02-24 13:51:24.247095\n",
      "Starting train: 2019-02-24 13:51:25.070531\n",
      "Predict: 2019-02-24 13:52:57.522498\n",
      "Auc: 2019-02-24 13:53:05.454003\n",
      " 0 - 3 : 0.6460, mean=0.6448\n",
      "Prepare data: 2019-02-24 13:53:05.668596\n",
      "Fit: 2019-02-24 13:53:08.874558\n",
      "Starting train: 2019-02-24 13:53:09.680502\n",
      "Predict: 2019-02-24 13:54:53.523040\n",
      "Auc: 2019-02-24 13:55:01.769279\n",
      " 0 - 4 : 0.6432, mean=0.6444\n",
      "Prepare data: 2019-02-24 13:55:01.983637\n",
      "Fit: 2019-02-24 13:55:05.207961\n",
      "Starting train: 2019-02-24 13:55:06.102650\n",
      "Predict: 2019-02-24 13:56:38.553025\n",
      "Auc: 2019-02-24 13:56:45.499198\n",
      " 0 - 5 : 0.6437, mean=0.6442\n",
      "CPU times: user 57min 29s, sys: 1min 11s, total: 58min 41s\n",
      "Wall time: 8min 55s\n"
     ]
    }
   ],
   "source": [
    "%%time\n",
    "#################################### PARTIAL TRAIN\n",
    "for min_data_in_leaf in (20,):\n",
    "    for lambda_l2 in (0.0,):\n",
    "        for learning_rate in (0.5,):\n",
    "            for feature_fraction in (1,):\n",
    "                for num_boost_round in (1000,):\n",
    "                    for num_leaves in (24,):\n",
    "                        print((min_data_in_leaf,lambda_l2,learning_rate,feature_fraction,num_boost_round,num_leaves))\n",
    "                        cross_validation(LgbModel({\n",
    "                            'boosting_type': 'gbdt',\n",
    "                            'min_data_in_leaf': min_data_in_leaf,\n",
    "                            'lambda_l2': lambda_l2,\n",
    "                            'num_leaves': num_leaves,\n",
    "                            'learning_rate': learning_rate,\n",
    "                            'feature_fraction': feature_fraction,\n",
    "                            'bagging_fraction': 1,\n",
    "                            'bagging_freq': 5,\n",
    "                            'num_boost_round': num_boost_round,\n",
    "                            'verbose': 0\n",
    "                        }), train[train.instanceId_userId < 4000000], n_iters=1, verbose=2)"
   ]
  },
  {
   "cell_type": "code",
   "execution_count": null,
   "metadata": {},
   "outputs": [],
   "source": []
  },
  {
   "cell_type": "code",
   "execution_count": null,
   "metadata": {},
   "outputs": [],
   "source": []
  },
  {
   "cell_type": "code",
   "execution_count": null,
   "metadata": {},
   "outputs": [],
   "source": []
  },
  {
   "cell_type": "code",
   "execution_count": null,
   "metadata": {},
   "outputs": [],
   "source": []
  },
  {
   "cell_type": "code",
   "execution_count": null,
   "metadata": {},
   "outputs": [],
   "source": []
  },
  {
   "cell_type": "code",
   "execution_count": null,
   "metadata": {},
   "outputs": [],
   "source": []
  },
  {
   "cell_type": "code",
   "execution_count": null,
   "metadata": {},
   "outputs": [],
   "source": []
  },
  {
   "cell_type": "code",
   "execution_count": null,
   "metadata": {},
   "outputs": [],
   "source": []
  },
  {
   "cell_type": "code",
   "execution_count": null,
   "metadata": {},
   "outputs": [],
   "source": []
  },
  {
   "cell_type": "code",
   "execution_count": 8,
   "metadata": {},
   "outputs": [
    {
     "name": "stdout",
     "output_type": "stream",
     "text": [
      "(20, 0.0, 0.5, 1, 1000, 24)\n",
      "KFold(n_splits=5, random_state=2707, shuffle=True)\n",
      "Prepare data: 2019-02-24 12:05:41.973077\n",
      "Fit: 2019-02-24 12:06:00.707723\n",
      "Starting train: 2019-02-24 12:06:09.171211\n",
      "Predict: 2019-02-24 12:14:52.756500\n",
      "Auc: 2019-02-24 12:15:26.120855\n",
      " 0 - 1 : 0.6433, mean=0.6433\n",
      "Prepare data: 2019-02-24 12:15:27.166216\n"
     ]
    },
    {
     "ename": "KeyboardInterrupt",
     "evalue": "",
     "output_type": "error",
     "traceback": [
      "\u001b[0;31m---------------------------------------------------------------------------\u001b[0m",
      "\u001b[0;31mKeyboardInterrupt\u001b[0m                         Traceback (most recent call last)",
      "\u001b[0;32m<timed exec>\u001b[0m in \u001b[0;36m<module>\u001b[0;34m\u001b[0m\n",
      "\u001b[0;32m<ipython-input-1-b43944772e3d>\u001b[0m in \u001b[0;36mcross_validation\u001b[0;34m(model, data, n_folds, n_iters, seed, verbose)\u001b[0m\n\u001b[1;32m     10\u001b[0m             \u001b[0;32mif\u001b[0m \u001b[0mverbose\u001b[0m \u001b[0;34m>=\u001b[0m \u001b[0;36m2\u001b[0m\u001b[0;34m:\u001b[0m\u001b[0;34m\u001b[0m\u001b[0;34m\u001b[0m\u001b[0m\n\u001b[1;32m     11\u001b[0m                 \u001b[0mprint\u001b[0m\u001b[0;34m(\u001b[0m\u001b[0;34m'Prepare data: %s'\u001b[0m \u001b[0;34m%\u001b[0m \u001b[0mdatetime\u001b[0m\u001b[0;34m.\u001b[0m\u001b[0mdatetime\u001b[0m\u001b[0;34m.\u001b[0m\u001b[0mnow\u001b[0m\u001b[0;34m(\u001b[0m\u001b[0;34m)\u001b[0m\u001b[0;34m)\u001b[0m\u001b[0;34m\u001b[0m\u001b[0;34m\u001b[0m\u001b[0m\n\u001b[0;32m---> 12\u001b[0;31m             \u001b[0mdata_train\u001b[0m \u001b[0;34m=\u001b[0m \u001b[0mdata\u001b[0m\u001b[0;34m[\u001b[0m\u001b[0mdata\u001b[0m\u001b[0;34m.\u001b[0m\u001b[0minstanceId_userId\u001b[0m\u001b[0;34m.\u001b[0m\u001b[0misin\u001b[0m\u001b[0;34m(\u001b[0m\u001b[0muser_ids\u001b[0m\u001b[0;34m[\u001b[0m\u001b[0mtrain_index\u001b[0m\u001b[0;34m]\u001b[0m\u001b[0;34m)\u001b[0m\u001b[0;34m]\u001b[0m\u001b[0;34m\u001b[0m\u001b[0;34m\u001b[0m\u001b[0m\n\u001b[0m\u001b[1;32m     13\u001b[0m             \u001b[0mdata_test\u001b[0m \u001b[0;34m=\u001b[0m \u001b[0mdata\u001b[0m\u001b[0;34m[\u001b[0m\u001b[0mdata\u001b[0m\u001b[0;34m.\u001b[0m\u001b[0minstanceId_userId\u001b[0m\u001b[0;34m.\u001b[0m\u001b[0misin\u001b[0m\u001b[0;34m(\u001b[0m\u001b[0muser_ids\u001b[0m\u001b[0;34m[\u001b[0m\u001b[0mtest_index\u001b[0m\u001b[0;34m]\u001b[0m\u001b[0;34m)\u001b[0m\u001b[0;34m]\u001b[0m\u001b[0;34m\u001b[0m\u001b[0;34m\u001b[0m\u001b[0m\n\u001b[1;32m     14\u001b[0m \u001b[0;34m\u001b[0m\u001b[0m\n",
      "\u001b[0;32m/usr/local/lib/python3.7/site-packages/pandas/core/frame.py\u001b[0m in \u001b[0;36m__getitem__\u001b[0;34m(self, key)\u001b[0m\n\u001b[1;32m   2916\u001b[0m         \u001b[0;31m# Do we have a (boolean) 1d indexer?\u001b[0m\u001b[0;34m\u001b[0m\u001b[0;34m\u001b[0m\u001b[0;34m\u001b[0m\u001b[0m\n\u001b[1;32m   2917\u001b[0m         \u001b[0;32mif\u001b[0m \u001b[0mcom\u001b[0m\u001b[0;34m.\u001b[0m\u001b[0mis_bool_indexer\u001b[0m\u001b[0;34m(\u001b[0m\u001b[0mkey\u001b[0m\u001b[0;34m)\u001b[0m\u001b[0;34m:\u001b[0m\u001b[0;34m\u001b[0m\u001b[0;34m\u001b[0m\u001b[0m\n\u001b[0;32m-> 2918\u001b[0;31m             \u001b[0;32mreturn\u001b[0m \u001b[0mself\u001b[0m\u001b[0;34m.\u001b[0m\u001b[0m_getitem_bool_array\u001b[0m\u001b[0;34m(\u001b[0m\u001b[0mkey\u001b[0m\u001b[0;34m)\u001b[0m\u001b[0;34m\u001b[0m\u001b[0;34m\u001b[0m\u001b[0m\n\u001b[0m\u001b[1;32m   2919\u001b[0m \u001b[0;34m\u001b[0m\u001b[0m\n\u001b[1;32m   2920\u001b[0m         \u001b[0;31m# We are left with two options: a single key, and a collection of keys,\u001b[0m\u001b[0;34m\u001b[0m\u001b[0;34m\u001b[0m\u001b[0;34m\u001b[0m\u001b[0m\n",
      "\u001b[0;32m/usr/local/lib/python3.7/site-packages/pandas/core/frame.py\u001b[0m in \u001b[0;36m_getitem_bool_array\u001b[0;34m(self, key)\u001b[0m\n\u001b[1;32m   2967\u001b[0m         \u001b[0mkey\u001b[0m \u001b[0;34m=\u001b[0m \u001b[0mcheck_bool_indexer\u001b[0m\u001b[0;34m(\u001b[0m\u001b[0mself\u001b[0m\u001b[0;34m.\u001b[0m\u001b[0mindex\u001b[0m\u001b[0;34m,\u001b[0m \u001b[0mkey\u001b[0m\u001b[0;34m)\u001b[0m\u001b[0;34m\u001b[0m\u001b[0;34m\u001b[0m\u001b[0m\n\u001b[1;32m   2968\u001b[0m         \u001b[0mindexer\u001b[0m \u001b[0;34m=\u001b[0m \u001b[0mkey\u001b[0m\u001b[0;34m.\u001b[0m\u001b[0mnonzero\u001b[0m\u001b[0;34m(\u001b[0m\u001b[0;34m)\u001b[0m\u001b[0;34m[\u001b[0m\u001b[0;36m0\u001b[0m\u001b[0;34m]\u001b[0m\u001b[0;34m\u001b[0m\u001b[0;34m\u001b[0m\u001b[0m\n\u001b[0;32m-> 2969\u001b[0;31m         \u001b[0;32mreturn\u001b[0m \u001b[0mself\u001b[0m\u001b[0;34m.\u001b[0m\u001b[0m_take\u001b[0m\u001b[0;34m(\u001b[0m\u001b[0mindexer\u001b[0m\u001b[0;34m,\u001b[0m \u001b[0maxis\u001b[0m\u001b[0;34m=\u001b[0m\u001b[0;36m0\u001b[0m\u001b[0;34m)\u001b[0m\u001b[0;34m\u001b[0m\u001b[0;34m\u001b[0m\u001b[0m\n\u001b[0m\u001b[1;32m   2970\u001b[0m \u001b[0;34m\u001b[0m\u001b[0m\n\u001b[1;32m   2971\u001b[0m     \u001b[0;32mdef\u001b[0m \u001b[0m_getitem_multilevel\u001b[0m\u001b[0;34m(\u001b[0m\u001b[0mself\u001b[0m\u001b[0;34m,\u001b[0m \u001b[0mkey\u001b[0m\u001b[0;34m)\u001b[0m\u001b[0;34m:\u001b[0m\u001b[0;34m\u001b[0m\u001b[0;34m\u001b[0m\u001b[0m\n",
      "\u001b[0;32m/usr/local/lib/python3.7/site-packages/pandas/core/generic.py\u001b[0m in \u001b[0;36m_take\u001b[0;34m(self, indices, axis, is_copy)\u001b[0m\n\u001b[1;32m   3357\u001b[0m         new_data = self._data.take(indices,\n\u001b[1;32m   3358\u001b[0m                                    \u001b[0maxis\u001b[0m\u001b[0;34m=\u001b[0m\u001b[0mself\u001b[0m\u001b[0;34m.\u001b[0m\u001b[0m_get_block_manager_axis\u001b[0m\u001b[0;34m(\u001b[0m\u001b[0maxis\u001b[0m\u001b[0;34m)\u001b[0m\u001b[0;34m,\u001b[0m\u001b[0;34m\u001b[0m\u001b[0;34m\u001b[0m\u001b[0m\n\u001b[0;32m-> 3359\u001b[0;31m                                    verify=True)\n\u001b[0m\u001b[1;32m   3360\u001b[0m         \u001b[0mresult\u001b[0m \u001b[0;34m=\u001b[0m \u001b[0mself\u001b[0m\u001b[0;34m.\u001b[0m\u001b[0m_constructor\u001b[0m\u001b[0;34m(\u001b[0m\u001b[0mnew_data\u001b[0m\u001b[0;34m)\u001b[0m\u001b[0;34m.\u001b[0m\u001b[0m__finalize__\u001b[0m\u001b[0;34m(\u001b[0m\u001b[0mself\u001b[0m\u001b[0;34m)\u001b[0m\u001b[0;34m\u001b[0m\u001b[0;34m\u001b[0m\u001b[0m\n\u001b[1;32m   3361\u001b[0m \u001b[0;34m\u001b[0m\u001b[0m\n",
      "\u001b[0;32m/usr/local/lib/python3.7/site-packages/pandas/core/internals/managers.py\u001b[0m in \u001b[0;36mtake\u001b[0;34m(self, indexer, axis, verify, convert)\u001b[0m\n\u001b[1;32m   1348\u001b[0m         \u001b[0mnew_labels\u001b[0m \u001b[0;34m=\u001b[0m \u001b[0mself\u001b[0m\u001b[0;34m.\u001b[0m\u001b[0maxes\u001b[0m\u001b[0;34m[\u001b[0m\u001b[0maxis\u001b[0m\u001b[0;34m]\u001b[0m\u001b[0;34m.\u001b[0m\u001b[0mtake\u001b[0m\u001b[0;34m(\u001b[0m\u001b[0mindexer\u001b[0m\u001b[0;34m)\u001b[0m\u001b[0;34m\u001b[0m\u001b[0;34m\u001b[0m\u001b[0m\n\u001b[1;32m   1349\u001b[0m         return self.reindex_indexer(new_axis=new_labels, indexer=indexer,\n\u001b[0;32m-> 1350\u001b[0;31m                                     axis=axis, allow_dups=True)\n\u001b[0m\u001b[1;32m   1351\u001b[0m \u001b[0;34m\u001b[0m\u001b[0m\n\u001b[1;32m   1352\u001b[0m     \u001b[0;32mdef\u001b[0m \u001b[0mmerge\u001b[0m\u001b[0;34m(\u001b[0m\u001b[0mself\u001b[0m\u001b[0;34m,\u001b[0m \u001b[0mother\u001b[0m\u001b[0;34m,\u001b[0m \u001b[0mlsuffix\u001b[0m\u001b[0;34m=\u001b[0m\u001b[0;34m''\u001b[0m\u001b[0;34m,\u001b[0m \u001b[0mrsuffix\u001b[0m\u001b[0;34m=\u001b[0m\u001b[0;34m''\u001b[0m\u001b[0;34m)\u001b[0m\u001b[0;34m:\u001b[0m\u001b[0;34m\u001b[0m\u001b[0;34m\u001b[0m\u001b[0m\n",
      "\u001b[0;32m/usr/local/lib/python3.7/site-packages/pandas/core/internals/managers.py\u001b[0m in \u001b[0;36mreindex_indexer\u001b[0;34m(self, new_axis, indexer, axis, fill_value, allow_dups, copy)\u001b[0m\n\u001b[1;32m   1233\u001b[0m             new_blocks = [blk.take_nd(indexer, axis=axis, fill_tuple=(\n\u001b[1;32m   1234\u001b[0m                 fill_value if fill_value is not None else blk.fill_value,))\n\u001b[0;32m-> 1235\u001b[0;31m                 for blk in self.blocks]\n\u001b[0m\u001b[1;32m   1236\u001b[0m \u001b[0;34m\u001b[0m\u001b[0m\n\u001b[1;32m   1237\u001b[0m         \u001b[0mnew_axes\u001b[0m \u001b[0;34m=\u001b[0m \u001b[0mlist\u001b[0m\u001b[0;34m(\u001b[0m\u001b[0mself\u001b[0m\u001b[0;34m.\u001b[0m\u001b[0maxes\u001b[0m\u001b[0;34m)\u001b[0m\u001b[0;34m\u001b[0m\u001b[0;34m\u001b[0m\u001b[0m\n",
      "\u001b[0;32m/usr/local/lib/python3.7/site-packages/pandas/core/internals/managers.py\u001b[0m in \u001b[0;36m<listcomp>\u001b[0;34m(.0)\u001b[0m\n\u001b[1;32m   1233\u001b[0m             new_blocks = [blk.take_nd(indexer, axis=axis, fill_tuple=(\n\u001b[1;32m   1234\u001b[0m                 fill_value if fill_value is not None else blk.fill_value,))\n\u001b[0;32m-> 1235\u001b[0;31m                 for blk in self.blocks]\n\u001b[0m\u001b[1;32m   1236\u001b[0m \u001b[0;34m\u001b[0m\u001b[0m\n\u001b[1;32m   1237\u001b[0m         \u001b[0mnew_axes\u001b[0m \u001b[0;34m=\u001b[0m \u001b[0mlist\u001b[0m\u001b[0;34m(\u001b[0m\u001b[0mself\u001b[0m\u001b[0;34m.\u001b[0m\u001b[0maxes\u001b[0m\u001b[0;34m)\u001b[0m\u001b[0;34m\u001b[0m\u001b[0;34m\u001b[0m\u001b[0m\n",
      "\u001b[0;32m/usr/local/lib/python3.7/site-packages/pandas/core/internals/blocks.py\u001b[0m in \u001b[0;36mtake_nd\u001b[0;34m(self, indexer, axis, new_mgr_locs, fill_tuple)\u001b[0m\n\u001b[1;32m   1236\u001b[0m             \u001b[0mfill_value\u001b[0m \u001b[0;34m=\u001b[0m \u001b[0mfill_tuple\u001b[0m\u001b[0;34m[\u001b[0m\u001b[0;36m0\u001b[0m\u001b[0;34m]\u001b[0m\u001b[0;34m\u001b[0m\u001b[0;34m\u001b[0m\u001b[0m\n\u001b[1;32m   1237\u001b[0m             new_values = algos.take_nd(values, indexer, axis=axis,\n\u001b[0;32m-> 1238\u001b[0;31m                                        allow_fill=True, fill_value=fill_value)\n\u001b[0m\u001b[1;32m   1239\u001b[0m \u001b[0;34m\u001b[0m\u001b[0m\n\u001b[1;32m   1240\u001b[0m         \u001b[0;32mif\u001b[0m \u001b[0mnew_mgr_locs\u001b[0m \u001b[0;32mis\u001b[0m \u001b[0;32mNone\u001b[0m\u001b[0;34m:\u001b[0m\u001b[0;34m\u001b[0m\u001b[0;34m\u001b[0m\u001b[0m\n",
      "\u001b[0;32m/usr/local/lib/python3.7/site-packages/pandas/core/algorithms.py\u001b[0m in \u001b[0;36mtake_nd\u001b[0;34m(arr, indexer, axis, out, fill_value, mask_info, allow_fill)\u001b[0m\n\u001b[1;32m   1647\u001b[0m     func = _get_take_nd_function(arr.ndim, arr.dtype, out.dtype, axis=axis,\n\u001b[1;32m   1648\u001b[0m                                  mask_info=mask_info)\n\u001b[0;32m-> 1649\u001b[0;31m     \u001b[0mfunc\u001b[0m\u001b[0;34m(\u001b[0m\u001b[0marr\u001b[0m\u001b[0;34m,\u001b[0m \u001b[0mindexer\u001b[0m\u001b[0;34m,\u001b[0m \u001b[0mout\u001b[0m\u001b[0;34m,\u001b[0m \u001b[0mfill_value\u001b[0m\u001b[0;34m)\u001b[0m\u001b[0;34m\u001b[0m\u001b[0;34m\u001b[0m\u001b[0m\n\u001b[0m\u001b[1;32m   1650\u001b[0m \u001b[0;34m\u001b[0m\u001b[0m\n\u001b[1;32m   1651\u001b[0m     \u001b[0;32mif\u001b[0m \u001b[0mflip_order\u001b[0m\u001b[0;34m:\u001b[0m\u001b[0;34m\u001b[0m\u001b[0;34m\u001b[0m\u001b[0m\n",
      "\u001b[0;31mKeyboardInterrupt\u001b[0m: "
     ]
    }
   ],
   "source": [
    "%%time\n",
    "for min_data_in_leaf in (20,):\n",
    "    for lambda_l2 in (0.0,):\n",
    "        for learning_rate in (0.5,):\n",
    "            for feature_fraction in (1,):\n",
    "                for num_boost_round in (1000,):\n",
    "                    for num_leaves in (24,):\n",
    "                        print((min_data_in_leaf,lambda_l2,learning_rate,feature_fraction,num_boost_round,num_leaves))\n",
    "                        cross_validation(LgbModel({\n",
    "                            'boosting_type': 'gbdt',\n",
    "                            'min_data_in_leaf': min_data_in_leaf,\n",
    "                            'lambda_l2': lambda_l2,\n",
    "                            'num_leaves': num_leaves,\n",
    "                            'learning_rate': learning_rate,\n",
    "                            'feature_fraction': feature_fraction,\n",
    "                            'bagging_fraction': 1,\n",
    "                            'bagging_freq': 5,\n",
    "                            'num_boost_round': num_boost_round,\n",
    "                            'verbose': 0\n",
    "                        }), train, n_iters=1, verbose=2)"
   ]
  },
  {
   "cell_type": "code",
   "execution_count": null,
   "metadata": {},
   "outputs": [],
   "source": []
  },
  {
   "cell_type": "code",
   "execution_count": null,
   "metadata": {},
   "outputs": [],
   "source": []
  },
  {
   "cell_type": "code",
   "execution_count": 11,
   "metadata": {},
   "outputs": [],
   "source": [
    "test_texts_features = pd.read_pickle(output_path + '/test_text_features3')"
   ]
  },
  {
   "cell_type": "code",
   "execution_count": 12,
   "metadata": {},
   "outputs": [
    {
     "name": "stderr",
     "output_type": "stream",
     "text": [
      "/usr/local/lib/python3.7/site-packages/pyarrow/pandas_compat.py:752: FutureWarning: .labels was deprecated in version 0.24.0. Use .codes instead.\n",
      "  labels, = index.labels\n"
     ]
    }
   ],
   "source": [
    "test_data = pd.read_pickle(output_path + '/test_data')\n",
    "test_data = test_data.join(test_texts_features.set_index('objectId'), how='inner', on='objectId')"
   ]
  },
  {
   "cell_type": "code",
   "execution_count": 13,
   "metadata": {},
   "outputs": [],
   "source": [
    "test = create_features(test_data)"
   ]
  },
  {
   "cell_type": "code",
   "execution_count": 15,
   "metadata": {},
   "outputs": [
    {
     "name": "stdout",
     "output_type": "stream",
     "text": [
      "Starting train: 2019-02-23 22:09:04.655762\n"
     ]
    }
   ],
   "source": [
    "model = LgbModel({\n",
    "    'boosting_type': 'gbdt',\n",
    "    'min_data_in_leaf': 20,\n",
    "    'lambda_l2': 0.0,\n",
    "    'num_leaves': 24,\n",
    "    'learning_rate': 0.5,\n",
    "    'feature_fraction': 1,\n",
    "    'bagging_fraction': 1,\n",
    "    'bagging_freq': 5,\n",
    "    'num_boost_round': 1000,\n",
    "    'verbose': 0\n",
    "})\n",
    "model.fit(train)\n",
    "pred = model.predict(test)"
   ]
  },
  {
   "cell_type": "code",
   "execution_count": 16,
   "metadata": {},
   "outputs": [],
   "source": [
    "submit = predict_to_submit(test, pred)\n",
    "submit.to_csv(output_path + \"/textSubmit1.csv.gz\", header = False, compression='gzip')"
   ]
  },
  {
   "cell_type": "code",
   "execution_count": 17,
   "metadata": {},
   "outputs": [
    {
     "data": {
      "text/plain": [
       "Index(['instanceId_userId', 'objectId', 'objectType', 'clientType', 'len',\n",
       "       'p_len', 'q_count', 'links_count', 'emojis_rate', 'upper_rate',\n",
       "       'ok_videos_count', 'ok_groups_count', 'youtube_count', 'is_adv',\n",
       "       'is_recipe', 'emb0', 'emb1', 'emb2', 'emb3', 'emb4', 'emb5', 'emb6',\n",
       "       'emb7', 'emb8', 'emb9', 'emb10', 'emb11', 'emb12', 'emb13', 'emb14',\n",
       "       'emb15', 'emb16', 'emb17', 'emb18', 'emb19', 'emb20', 'emb21', 'emb22'],\n",
       "      dtype='object')"
      ]
     },
     "execution_count": 17,
     "metadata": {},
     "output_type": "execute_result"
    }
   ],
   "source": [
    "test.columns"
   ]
  },
  {
   "cell_type": "code",
   "execution_count": 116,
   "metadata": {},
   "outputs": [
    {
     "data": {
      "text/html": [
       "<div>\n",
       "<style scoped>\n",
       "    .dataframe tbody tr th:only-of-type {\n",
       "        vertical-align: middle;\n",
       "    }\n",
       "\n",
       "    .dataframe tbody tr th {\n",
       "        vertical-align: top;\n",
       "    }\n",
       "\n",
       "    .dataframe thead th {\n",
       "        text-align: right;\n",
       "    }\n",
       "</style>\n",
       "<table border=\"1\" class=\"dataframe\">\n",
       "  <thead>\n",
       "    <tr style=\"text-align: right;\">\n",
       "      <th></th>\n",
       "      <th>len</th>\n",
       "      <th>count</th>\n",
       "      <th>relative_count</th>\n",
       "    </tr>\n",
       "  </thead>\n",
       "  <tbody>\n",
       "    <tr>\n",
       "      <th>0</th>\n",
       "      <td>2</td>\n",
       "      <td>66422</td>\n",
       "      <td>0.318806</td>\n",
       "    </tr>\n",
       "    <tr>\n",
       "      <th>1</th>\n",
       "      <td>3</td>\n",
       "      <td>43664</td>\n",
       "      <td>0.209574</td>\n",
       "    </tr>\n",
       "    <tr>\n",
       "      <th>2</th>\n",
       "      <td>4</td>\n",
       "      <td>27742</td>\n",
       "      <td>0.133154</td>\n",
       "    </tr>\n",
       "    <tr>\n",
       "      <th>3</th>\n",
       "      <td>8</td>\n",
       "      <td>6431</td>\n",
       "      <td>0.030867</td>\n",
       "    </tr>\n",
       "    <tr>\n",
       "      <th>4</th>\n",
       "      <td>16</td>\n",
       "      <td>913</td>\n",
       "      <td>0.004382</td>\n",
       "    </tr>\n",
       "  </tbody>\n",
       "</table>\n",
       "</div>"
      ],
      "text/plain": [
       "   len  count  relative_count\n",
       "0    2  66422        0.318806\n",
       "1    3  43664        0.209574\n",
       "2    4  27742        0.133154\n",
       "3    8   6431        0.030867\n",
       "4   16    913        0.004382"
      ]
     },
     "execution_count": 116,
     "metadata": {},
     "output_type": "execute_result"
    }
   ],
   "source": [
    "lens_stat = defaultdict(int)\n",
    "for r in submit:\n",
    "    lens_stat[len(r)] += 1\n",
    "lens_stat = pd.DataFrame([(k, v) for k, v in lens_stat.items()], columns=['len', 'count'])\n",
    "lens_stat['relative_count'] = lens_stat['count'] / lens_stat['count'].sum()\n",
    "lens_stat.head()"
   ]
  },
  {
   "cell_type": "code",
   "execution_count": 307,
   "metadata": {},
   "outputs": [
    {
     "data": {
      "text/plain": [
       "instanceId_userId\n",
       "316                                 [37758420, 17997084]\n",
       "631                       [38118098, 30513650, 15478935]\n",
       "742             [28816291, 34685448, 24302446, 10672856]\n",
       "868    [35655697, 30143153, 11640701, 29650308, 30882...\n",
       "979                                  [37950972, 7996257]\n",
       "Name: objectId, dtype: object"
      ]
     },
     "execution_count": 307,
     "metadata": {},
     "output_type": "execute_result"
    }
   ],
   "source": [
    "submit.head()"
   ]
  },
  {
   "cell_type": "code",
   "execution_count": 309,
   "metadata": {},
   "outputs": [],
   "source": []
  },
  {
   "cell_type": "code",
   "execution_count": 29,
   "metadata": {},
   "outputs": [
    {
     "name": "stdout",
     "output_type": "stream",
     "text": [
      "KFold(n_splits=5, random_state=2707, shuffle=True)\n",
      "[0.09032184 0.05449515 0.05449515 0.05449515 0.11524286]\n",
      " 0 - 1 : 0.6101, mean=0.6101\n",
      "[0.08773912 0.08885853 0.08787986 0.08885853 0.08787986]\n",
      " 0 - 2 : 0.6234, mean=0.6167\n",
      "[0.18378015 0.13601413 0.19162637 0.20648389 0.19926677]\n",
      " 0 - 3 : 0.6342, mean=0.6226\n",
      "[0.09090399 0.08185244 0.10167038 0.07653604 0.10629639]\n",
      " 0 - 4 : 0.6266, mean=0.6236\n",
      "[0.1445142  0.15797199 0.05879618 0.12857328 0.06304604]\n",
      " 0 - 5 : 0.6053, mean=0.6199\n"
     ]
    }
   ],
   "source": [
    "st = train[train.instanceId_userId < 100000]\n",
    "cross_validation(LgbModel, st, n_iters=1)"
   ]
  },
  {
   "cell_type": "code",
   "execution_count": null,
   "metadata": {},
   "outputs": [],
   "source": []
  },
  {
   "cell_type": "code",
   "execution_count": null,
   "metadata": {},
   "outputs": [],
   "source": []
  },
  {
   "cell_type": "code",
   "execution_count": 89,
   "metadata": {},
   "outputs": [],
   "source": [
    "del q_group\n",
    "q = train[['instanceId_userId', 'label']].groupby('instanceId_userId').agg({\n",
    "    'label': ['mean', 'count']\n",
    "})"
   ]
  },
  {
   "cell_type": "code",
   "execution_count": 98,
   "metadata": {},
   "outputs": [
    {
     "data": {
      "text/plain": [
       "(198778,)"
      ]
     },
     "execution_count": 98,
     "metadata": {},
     "output_type": "execute_result"
    }
   ],
   "source": [
    "np.intersect1d(train.instanceId_userId.unique(), test.instanceId_userId.unique()).shape"
   ]
  },
  {
   "cell_type": "code",
   "execution_count": 99,
   "metadata": {},
   "outputs": [
    {
     "data": {
      "text/plain": [
       "(3902235,)"
      ]
     },
     "execution_count": 99,
     "metadata": {},
     "output_type": "execute_result"
    }
   ],
   "source": [
    "train.instanceId_userId.unique().shape"
   ]
  },
  {
   "cell_type": "code",
   "execution_count": 100,
   "metadata": {},
   "outputs": [
    {
     "data": {
      "text/plain": [
       "(208346,)"
      ]
     },
     "execution_count": 100,
     "metadata": {},
     "output_type": "execute_result"
    }
   ],
   "source": [
    "test.instanceId_userId.unique().shape"
   ]
  },
  {
   "cell_type": "code",
   "execution_count": 113,
   "metadata": {},
   "outputs": [
    {
     "data": {
      "text/plain": [
       "-0.09304651"
      ]
     },
     "execution_count": 113,
     "metadata": {},
     "output_type": "execute_result"
    }
   ],
   "source": [
    "train.emb1.mean()"
   ]
  },
  {
   "cell_type": "code",
   "execution_count": 114,
   "metadata": {},
   "outputs": [
    {
     "data": {
      "text/html": [
       "<div>\n",
       "<style scoped>\n",
       "    .dataframe tbody tr th:only-of-type {\n",
       "        vertical-align: middle;\n",
       "    }\n",
       "\n",
       "    .dataframe tbody tr th {\n",
       "        vertical-align: top;\n",
       "    }\n",
       "\n",
       "    .dataframe thead tr th {\n",
       "        text-align: left;\n",
       "    }\n",
       "\n",
       "    .dataframe thead tr:last-of-type th {\n",
       "        text-align: right;\n",
       "    }\n",
       "</style>\n",
       "<table border=\"1\" class=\"dataframe\">\n",
       "  <thead>\n",
       "    <tr>\n",
       "      <th></th>\n",
       "      <th colspan=\"2\" halign=\"left\">label</th>\n",
       "    </tr>\n",
       "    <tr>\n",
       "      <th></th>\n",
       "      <th>mean</th>\n",
       "      <th>count</th>\n",
       "    </tr>\n",
       "    <tr>\n",
       "      <th>instanceId_userId</th>\n",
       "      <th></th>\n",
       "      <th></th>\n",
       "    </tr>\n",
       "  </thead>\n",
       "  <tbody>\n",
       "    <tr>\n",
       "      <th>1</th>\n",
       "      <td>0.000000</td>\n",
       "      <td>3</td>\n",
       "    </tr>\n",
       "    <tr>\n",
       "      <th>7</th>\n",
       "      <td>0.666667</td>\n",
       "      <td>3</td>\n",
       "    </tr>\n",
       "    <tr>\n",
       "      <th>13</th>\n",
       "      <td>0.000000</td>\n",
       "      <td>7</td>\n",
       "    </tr>\n",
       "    <tr>\n",
       "      <th>16</th>\n",
       "      <td>0.000000</td>\n",
       "      <td>1</td>\n",
       "    </tr>\n",
       "    <tr>\n",
       "      <th>19</th>\n",
       "      <td>0.000000</td>\n",
       "      <td>1</td>\n",
       "    </tr>\n",
       "  </tbody>\n",
       "</table>\n",
       "</div>"
      ],
      "text/plain": [
       "                      label      \n",
       "                       mean count\n",
       "instanceId_userId                \n",
       "1                  0.000000     3\n",
       "7                  0.666667     3\n",
       "13                 0.000000     7\n",
       "16                 0.000000     1\n",
       "19                 0.000000     1"
      ]
     },
     "execution_count": 114,
     "metadata": {},
     "output_type": "execute_result"
    }
   ],
   "source": [
    "q.head()"
   ]
  },
  {
   "cell_type": "code",
   "execution_count": 121,
   "metadata": {},
   "outputs": [
    {
     "data": {
      "text/html": [
       "<div>\n",
       "<style scoped>\n",
       "    .dataframe tbody tr th:only-of-type {\n",
       "        vertical-align: middle;\n",
       "    }\n",
       "\n",
       "    .dataframe tbody tr th {\n",
       "        vertical-align: top;\n",
       "    }\n",
       "\n",
       "    .dataframe thead th {\n",
       "        text-align: right;\n",
       "    }\n",
       "</style>\n",
       "<table border=\"1\" class=\"dataframe\">\n",
       "  <thead>\n",
       "    <tr style=\"text-align: right;\">\n",
       "      <th></th>\n",
       "      <th>mean</th>\n",
       "    </tr>\n",
       "    <tr>\n",
       "      <th>count</th>\n",
       "      <th></th>\n",
       "    </tr>\n",
       "  </thead>\n",
       "  <tbody>\n",
       "    <tr>\n",
       "      <th>1</th>\n",
       "      <td>1225275</td>\n",
       "    </tr>\n",
       "    <tr>\n",
       "      <th>2</th>\n",
       "      <td>733083</td>\n",
       "    </tr>\n",
       "    <tr>\n",
       "      <th>3</th>\n",
       "      <td>417323</td>\n",
       "    </tr>\n",
       "    <tr>\n",
       "      <th>4</th>\n",
       "      <td>316224</td>\n",
       "    </tr>\n",
       "    <tr>\n",
       "      <th>5</th>\n",
       "      <td>234173</td>\n",
       "    </tr>\n",
       "    <tr>\n",
       "      <th>6</th>\n",
       "      <td>170371</td>\n",
       "    </tr>\n",
       "    <tr>\n",
       "      <th>7</th>\n",
       "      <td>125466</td>\n",
       "    </tr>\n",
       "    <tr>\n",
       "      <th>8</th>\n",
       "      <td>96936</td>\n",
       "    </tr>\n",
       "    <tr>\n",
       "      <th>9</th>\n",
       "      <td>80407</td>\n",
       "    </tr>\n",
       "    <tr>\n",
       "      <th>10</th>\n",
       "      <td>65860</td>\n",
       "    </tr>\n",
       "    <tr>\n",
       "      <th>11</th>\n",
       "      <td>53634</td>\n",
       "    </tr>\n",
       "    <tr>\n",
       "      <th>12</th>\n",
       "      <td>44251</td>\n",
       "    </tr>\n",
       "    <tr>\n",
       "      <th>13</th>\n",
       "      <td>36831</td>\n",
       "    </tr>\n",
       "    <tr>\n",
       "      <th>14</th>\n",
       "      <td>31208</td>\n",
       "    </tr>\n",
       "    <tr>\n",
       "      <th>15</th>\n",
       "      <td>27023</td>\n",
       "    </tr>\n",
       "    <tr>\n",
       "      <th>16</th>\n",
       "      <td>23517</td>\n",
       "    </tr>\n",
       "    <tr>\n",
       "      <th>17</th>\n",
       "      <td>20287</td>\n",
       "    </tr>\n",
       "    <tr>\n",
       "      <th>18</th>\n",
       "      <td>17521</td>\n",
       "    </tr>\n",
       "    <tr>\n",
       "      <th>19</th>\n",
       "      <td>15523</td>\n",
       "    </tr>\n",
       "    <tr>\n",
       "      <th>20</th>\n",
       "      <td>13827</td>\n",
       "    </tr>\n",
       "    <tr>\n",
       "      <th>21</th>\n",
       "      <td>12246</td>\n",
       "    </tr>\n",
       "    <tr>\n",
       "      <th>22</th>\n",
       "      <td>10721</td>\n",
       "    </tr>\n",
       "    <tr>\n",
       "      <th>23</th>\n",
       "      <td>9594</td>\n",
       "    </tr>\n",
       "    <tr>\n",
       "      <th>24</th>\n",
       "      <td>8542</td>\n",
       "    </tr>\n",
       "    <tr>\n",
       "      <th>25</th>\n",
       "      <td>7811</td>\n",
       "    </tr>\n",
       "    <tr>\n",
       "      <th>26</th>\n",
       "      <td>7102</td>\n",
       "    </tr>\n",
       "    <tr>\n",
       "      <th>27</th>\n",
       "      <td>6238</td>\n",
       "    </tr>\n",
       "    <tr>\n",
       "      <th>28</th>\n",
       "      <td>5878</td>\n",
       "    </tr>\n",
       "    <tr>\n",
       "      <th>29</th>\n",
       "      <td>5196</td>\n",
       "    </tr>\n",
       "    <tr>\n",
       "      <th>30</th>\n",
       "      <td>4693</td>\n",
       "    </tr>\n",
       "    <tr>\n",
       "      <th>...</th>\n",
       "      <td>...</td>\n",
       "    </tr>\n",
       "    <tr>\n",
       "      <th>3092</th>\n",
       "      <td>1</td>\n",
       "    </tr>\n",
       "    <tr>\n",
       "      <th>3097</th>\n",
       "      <td>1</td>\n",
       "    </tr>\n",
       "    <tr>\n",
       "      <th>3099</th>\n",
       "      <td>1</td>\n",
       "    </tr>\n",
       "    <tr>\n",
       "      <th>3104</th>\n",
       "      <td>1</td>\n",
       "    </tr>\n",
       "    <tr>\n",
       "      <th>3108</th>\n",
       "      <td>1</td>\n",
       "    </tr>\n",
       "    <tr>\n",
       "      <th>3111</th>\n",
       "      <td>1</td>\n",
       "    </tr>\n",
       "    <tr>\n",
       "      <th>3112</th>\n",
       "      <td>1</td>\n",
       "    </tr>\n",
       "    <tr>\n",
       "      <th>3164</th>\n",
       "      <td>1</td>\n",
       "    </tr>\n",
       "    <tr>\n",
       "      <th>3196</th>\n",
       "      <td>1</td>\n",
       "    </tr>\n",
       "    <tr>\n",
       "      <th>3255</th>\n",
       "      <td>1</td>\n",
       "    </tr>\n",
       "    <tr>\n",
       "      <th>3368</th>\n",
       "      <td>1</td>\n",
       "    </tr>\n",
       "    <tr>\n",
       "      <th>3446</th>\n",
       "      <td>1</td>\n",
       "    </tr>\n",
       "    <tr>\n",
       "      <th>3482</th>\n",
       "      <td>1</td>\n",
       "    </tr>\n",
       "    <tr>\n",
       "      <th>3484</th>\n",
       "      <td>1</td>\n",
       "    </tr>\n",
       "    <tr>\n",
       "      <th>3485</th>\n",
       "      <td>1</td>\n",
       "    </tr>\n",
       "    <tr>\n",
       "      <th>3486</th>\n",
       "      <td>1</td>\n",
       "    </tr>\n",
       "    <tr>\n",
       "      <th>5986</th>\n",
       "      <td>2</td>\n",
       "    </tr>\n",
       "    <tr>\n",
       "      <th>5988</th>\n",
       "      <td>2</td>\n",
       "    </tr>\n",
       "    <tr>\n",
       "      <th>5997</th>\n",
       "      <td>1</td>\n",
       "    </tr>\n",
       "    <tr>\n",
       "      <th>11236</th>\n",
       "      <td>1</td>\n",
       "    </tr>\n",
       "    <tr>\n",
       "      <th>11237</th>\n",
       "      <td>1</td>\n",
       "    </tr>\n",
       "    <tr>\n",
       "      <th>11239</th>\n",
       "      <td>1</td>\n",
       "    </tr>\n",
       "    <tr>\n",
       "      <th>11246</th>\n",
       "      <td>1</td>\n",
       "    </tr>\n",
       "    <tr>\n",
       "      <th>11423</th>\n",
       "      <td>1</td>\n",
       "    </tr>\n",
       "    <tr>\n",
       "      <th>34596</th>\n",
       "      <td>1</td>\n",
       "    </tr>\n",
       "    <tr>\n",
       "      <th>71147</th>\n",
       "      <td>1</td>\n",
       "    </tr>\n",
       "    <tr>\n",
       "      <th>71195</th>\n",
       "      <td>1</td>\n",
       "    </tr>\n",
       "    <tr>\n",
       "      <th>88088</th>\n",
       "      <td>1</td>\n",
       "    </tr>\n",
       "    <tr>\n",
       "      <th>88333</th>\n",
       "      <td>1</td>\n",
       "    </tr>\n",
       "    <tr>\n",
       "      <th>88630</th>\n",
       "      <td>1</td>\n",
       "    </tr>\n",
       "  </tbody>\n",
       "</table>\n",
       "<p>699 rows × 1 columns</p>\n",
       "</div>"
      ],
      "text/plain": [
       "          mean\n",
       "count         \n",
       "1      1225275\n",
       "2       733083\n",
       "3       417323\n",
       "4       316224\n",
       "5       234173\n",
       "6       170371\n",
       "7       125466\n",
       "8        96936\n",
       "9        80407\n",
       "10       65860\n",
       "11       53634\n",
       "12       44251\n",
       "13       36831\n",
       "14       31208\n",
       "15       27023\n",
       "16       23517\n",
       "17       20287\n",
       "18       17521\n",
       "19       15523\n",
       "20       13827\n",
       "21       12246\n",
       "22       10721\n",
       "23        9594\n",
       "24        8542\n",
       "25        7811\n",
       "26        7102\n",
       "27        6238\n",
       "28        5878\n",
       "29        5196\n",
       "30        4693\n",
       "...        ...\n",
       "3092         1\n",
       "3097         1\n",
       "3099         1\n",
       "3104         1\n",
       "3108         1\n",
       "3111         1\n",
       "3112         1\n",
       "3164         1\n",
       "3196         1\n",
       "3255         1\n",
       "3368         1\n",
       "3446         1\n",
       "3482         1\n",
       "3484         1\n",
       "3485         1\n",
       "3486         1\n",
       "5986         2\n",
       "5988         2\n",
       "5997         1\n",
       "11236        1\n",
       "11237        1\n",
       "11239        1\n",
       "11246        1\n",
       "11423        1\n",
       "34596        1\n",
       "71147        1\n",
       "71195        1\n",
       "88088        1\n",
       "88333        1\n",
       "88630        1\n",
       "\n",
       "[699 rows x 1 columns]"
      ]
     },
     "execution_count": 121,
     "metadata": {},
     "output_type": "execute_result"
    }
   ],
   "source": [
    "q['label'].groupby('count').count()"
   ]
  },
  {
   "cell_type": "code",
   "execution_count": 339,
   "metadata": {},
   "outputs": [
    {
     "name": "stderr",
     "output_type": "stream",
     "text": [
      "/usr/local/lib/python3.7/site-packages/pyarrow/pandas_compat.py:752: FutureWarning: .labels was deprecated in version 0.24.0. Use .codes instead.\n",
      "  labels, = index.labels\n"
     ]
    }
   ],
   "source": [
    "test_texts2 = parquet.read_table(input_path + '/texts/textsTest/').to_pandas()"
   ]
  },
  {
   "cell_type": "code",
   "execution_count": 349,
   "metadata": {},
   "outputs": [
    {
     "data": {
      "text/html": [
       "<div>\n",
       "<style scoped>\n",
       "    .dataframe tbody tr th:only-of-type {\n",
       "        vertical-align: middle;\n",
       "    }\n",
       "\n",
       "    .dataframe tbody tr th {\n",
       "        vertical-align: top;\n",
       "    }\n",
       "\n",
       "    .dataframe thead th {\n",
       "        text-align: right;\n",
       "    }\n",
       "</style>\n",
       "<table border=\"1\" class=\"dataframe\">\n",
       "  <thead>\n",
       "    <tr style=\"text-align: right;\">\n",
       "      <th></th>\n",
       "      <th>objectId</th>\n",
       "      <th>lang</th>\n",
       "      <th>text</th>\n",
       "      <th>preprocessed</th>\n",
       "    </tr>\n",
       "  </thead>\n",
       "  <tbody>\n",
       "    <tr>\n",
       "      <th>3000</th>\n",
       "      <td>9448596</td>\n",
       "      <td>Unknown</td>\n",
       "      <td>Алёна Иванцова - Зажигай это лето Организация ...</td>\n",
       "      <td>[алён, иванцов, зажига, эт, лет, организац, ко...</td>\n",
       "    </tr>\n",
       "    <tr>\n",
       "      <th>3001</th>\n",
       "      <td>36153107</td>\n",
       "      <td>ru</td>\n",
       "      <td>Этот красавец неожиданно лишился дома и теперь...</td>\n",
       "      <td>[красавец, неожида, лиш, дом, вынужд, жит, эт,...</td>\n",
       "    </tr>\n",
       "    <tr>\n",
       "      <th>3002</th>\n",
       "      <td>1089971</td>\n",
       "      <td>ru</td>\n",
       "      <td>SJ - 93 серия (нац.версия) - субтитры</td>\n",
       "      <td>[sj, сер, нац, верс, субтитр]</td>\n",
       "    </tr>\n",
       "    <tr>\n",
       "      <th>3003</th>\n",
       "      <td>25048905</td>\n",
       "      <td>ru</td>\n",
       "      <td>\\nУлыбайтесь вместе с нами :)) ok.ru/group/53...</td>\n",
       "      <td>[улыба, вмест, нам]</td>\n",
       "    </tr>\n",
       "    <tr>\n",
       "      <th>3004</th>\n",
       "      <td>34695987</td>\n",
       "      <td>ru</td>\n",
       "      <td>http://iqformat.me/zagadki/kogda-beremennoj-zh...</td>\n",
       "      <td>[удивительн, истор, случ, семейств, хьюз, бере...</td>\n",
       "    </tr>\n",
       "    <tr>\n",
       "      <th>3005</th>\n",
       "      <td>8378836</td>\n",
       "      <td>be</td>\n",
       "      <td>Лейка малая №4. Размер 140x110x115 мм. Арт. 39...</td>\n",
       "      <td>[лейк, мал, размер, x, x, мм, арт, цен, руб]</td>\n",
       "    </tr>\n",
       "    <tr>\n",
       "      <th>3006</th>\n",
       "      <td>25569976</td>\n",
       "      <td>tg</td>\n",
       "      <td>Барои хушгузарони парандахоро хадаф нагиред!!!...</td>\n",
       "      <td>[баро, хушгузарон, парандахор, хадаф, нагиред,...</td>\n",
       "    </tr>\n",
       "    <tr>\n",
       "      <th>3007</th>\n",
       "      <td>19957643</td>\n",
       "      <td>ru</td>\n",
       "      <td>Иллюзии\\nХочется уйти от проблем, \\nОт несправ...</td>\n",
       "      <td>[иллюз, хочет, уйт, пробл, несправедлив, мир, ...</td>\n",
       "    </tr>\n",
       "    <tr>\n",
       "      <th>3008</th>\n",
       "      <td>19681599</td>\n",
       "      <td>ru</td>\n",
       "      <td>\\nСделано с любовью....</td>\n",
       "      <td>[сдела, любов]</td>\n",
       "    </tr>\n",
       "    <tr>\n",
       "      <th>3009</th>\n",
       "      <td>23448361</td>\n",
       "      <td>ru</td>\n",
       "      <td>Озеро Каракуль Озеро Каракуль – самое большое ...</td>\n",
       "      <td>[озер, каракул, озер, каракул, сам, больш, лед...</td>\n",
       "    </tr>\n",
       "    <tr>\n",
       "      <th>3010</th>\n",
       "      <td>37639905</td>\n",
       "      <td>ru</td>\n",
       "      <td>Новочеркасск \\nул. Пушкинская 114☎ ￼8951 828 8...</td>\n",
       "      <td>[новочеркасск, ул, пушкинск, апрел, гостиниц, ...</td>\n",
       "    </tr>\n",
       "    <tr>\n",
       "      <th>3011</th>\n",
       "      <td>38327230</td>\n",
       "      <td>ru</td>\n",
       "      <td>Да, я взрослая, всё понимаю,\\nно не легче от э...</td>\n",
       "      <td>[взросл, всё, понима, легч, жит, всё, равн, бе...</td>\n",
       "    </tr>\n",
       "    <tr>\n",
       "      <th>3012</th>\n",
       "      <td>23784384</td>\n",
       "      <td>ru</td>\n",
       "      <td>http://iqformat.online/testy/test-po-kartinke-...</td>\n",
       "      <td>[автор, простоват, перв, взгляд, рисунк, соф, ...</td>\n",
       "    </tr>\n",
       "    <tr>\n",
       "      <th>3013</th>\n",
       "      <td>3663711</td>\n",
       "      <td>Unknown</td>\n",
       "      <td>А.И.Корзухин \"Бабушка с внучкой\"</td>\n",
       "      <td>[корзухин, бабушк, внучк]</td>\n",
       "    </tr>\n",
       "    <tr>\n",
       "      <th>3014</th>\n",
       "      <td>31427160</td>\n",
       "      <td>ru</td>\n",
       "      <td>ok.ru/gif.hd ok.ru/group/54589100982286 КАК ПР...</td>\n",
       "      <td>[правильн, обреза, черешн, сохран, потеря, фор...</td>\n",
       "    </tr>\n",
       "    <tr>\n",
       "      <th>3015</th>\n",
       "      <td>36985302</td>\n",
       "      <td>ru</td>\n",
       "      <td>ПИРОГ УТРЕННЯЯ РОСА\\r\\n\\r\\nИнгредиенты:\\r\\n\\r\\...</td>\n",
       "      <td>[пирог, утрен, рос, ингредиент, гр, маргарин, ...</td>\n",
       "    </tr>\n",
       "    <tr>\n",
       "      <th>3016</th>\n",
       "      <td>38119567</td>\n",
       "      <td>ru</td>\n",
       "      <td>КУРЫ - НЕСУШКИ: порода ХАЙСЕКС, белые. \\nЦЕНА:...</td>\n",
       "      <td>[кур, несушк, пород, хайсекс, бел, цен, р, воз...</td>\n",
       "    </tr>\n",
       "    <tr>\n",
       "      <th>3017</th>\n",
       "      <td>8791020</td>\n",
       "      <td>ru</td>\n",
       "      <td>Платье Санина д/р\\nS, M, L\\n Состав: креп-дайв...</td>\n",
       "      <td>[плат, санин, д, р, s, m, l, соста, креп, дайв...</td>\n",
       "    </tr>\n",
       "    <tr>\n",
       "      <th>3018</th>\n",
       "      <td>21068494</td>\n",
       "      <td>ru</td>\n",
       "      <td>В ОБЯЗАТЕЛЬНОМ ПОРЯДКЕ ЖУЮ СУШЕНУЮ ГВОЗДИКУ! С...</td>\n",
       "      <td>[обязательн, порядк, жу, сушен, гвоздик, специ...</td>\n",
       "    </tr>\n",
       "    <tr>\n",
       "      <th>3019</th>\n",
       "      <td>21927989</td>\n",
       "      <td>ru</td>\n",
       "      <td>Метафора взросления детей.</td>\n",
       "      <td>[метафор, взрослен, дет]</td>\n",
       "    </tr>\n",
       "    <tr>\n",
       "      <th>3020</th>\n",
       "      <td>36247027</td>\n",
       "      <td>ru</td>\n",
       "      <td>Спасатели борются с паводками в Туве: в Кызылс...</td>\n",
       "      <td>[спасател, борют, паводк, тув, кызылск, район,...</td>\n",
       "    </tr>\n",
       "  </tbody>\n",
       "</table>\n",
       "</div>"
      ],
      "text/plain": [
       "      objectId     lang                                               text  \\\n",
       "3000   9448596  Unknown  Алёна Иванцова - Зажигай это лето Организация ...   \n",
       "3001  36153107       ru  Этот красавец неожиданно лишился дома и теперь...   \n",
       "3002   1089971       ru              SJ - 93 серия (нац.версия) - субтитры   \n",
       "3003  25048905       ru   \\nУлыбайтесь вместе с нами :)) ok.ru/group/53...   \n",
       "3004  34695987       ru  http://iqformat.me/zagadki/kogda-beremennoj-zh...   \n",
       "3005   8378836       be  Лейка малая №4. Размер 140x110x115 мм. Арт. 39...   \n",
       "3006  25569976       tg  Барои хушгузарони парандахоро хадаф нагиред!!!...   \n",
       "3007  19957643       ru  Иллюзии\\nХочется уйти от проблем, \\nОт несправ...   \n",
       "3008  19681599       ru                            \\nСделано с любовью....   \n",
       "3009  23448361       ru  Озеро Каракуль Озеро Каракуль – самое большое ...   \n",
       "3010  37639905       ru  Новочеркасск \\nул. Пушкинская 114☎ ￼8951 828 8...   \n",
       "3011  38327230       ru  Да, я взрослая, всё понимаю,\\nно не легче от э...   \n",
       "3012  23784384       ru  http://iqformat.online/testy/test-po-kartinke-...   \n",
       "3013   3663711  Unknown                   А.И.Корзухин \"Бабушка с внучкой\"   \n",
       "3014  31427160       ru  ok.ru/gif.hd ok.ru/group/54589100982286 КАК ПР...   \n",
       "3015  36985302       ru  ПИРОГ УТРЕННЯЯ РОСА\\r\\n\\r\\nИнгредиенты:\\r\\n\\r\\...   \n",
       "3016  38119567       ru  КУРЫ - НЕСУШКИ: порода ХАЙСЕКС, белые. \\nЦЕНА:...   \n",
       "3017   8791020       ru  Платье Санина д/р\\nS, M, L\\n Состав: креп-дайв...   \n",
       "3018  21068494       ru  В ОБЯЗАТЕЛЬНОМ ПОРЯДКЕ ЖУЮ СУШЕНУЮ ГВОЗДИКУ! С...   \n",
       "3019  21927989       ru                         Метафора взросления детей.   \n",
       "3020  36247027       ru  Спасатели борются с паводками в Туве: в Кызылс...   \n",
       "\n",
       "                                           preprocessed  \n",
       "3000  [алён, иванцов, зажига, эт, лет, организац, ко...  \n",
       "3001  [красавец, неожида, лиш, дом, вынужд, жит, эт,...  \n",
       "3002                      [sj, сер, нац, верс, субтитр]  \n",
       "3003                                [улыба, вмест, нам]  \n",
       "3004  [удивительн, истор, случ, семейств, хьюз, бере...  \n",
       "3005       [лейк, мал, размер, x, x, мм, арт, цен, руб]  \n",
       "3006  [баро, хушгузарон, парандахор, хадаф, нагиред,...  \n",
       "3007  [иллюз, хочет, уйт, пробл, несправедлив, мир, ...  \n",
       "3008                                     [сдела, любов]  \n",
       "3009  [озер, каракул, озер, каракул, сам, больш, лед...  \n",
       "3010  [новочеркасск, ул, пушкинск, апрел, гостиниц, ...  \n",
       "3011  [взросл, всё, понима, легч, жит, всё, равн, бе...  \n",
       "3012  [автор, простоват, перв, взгляд, рисунк, соф, ...  \n",
       "3013                          [корзухин, бабушк, внучк]  \n",
       "3014  [правильн, обреза, черешн, сохран, потеря, фор...  \n",
       "3015  [пирог, утрен, рос, ингредиент, гр, маргарин, ...  \n",
       "3016  [кур, несушк, пород, хайсекс, бел, цен, р, воз...  \n",
       "3017  [плат, санин, д, р, s, m, l, соста, креп, дайв...  \n",
       "3018  [обязательн, порядк, жу, сушен, гвоздик, специ...  \n",
       "3019                           [метафор, взрослен, дет]  \n",
       "3020  [спасател, борют, паводк, тув, кызылск, район,...  "
      ]
     },
     "execution_count": 349,
     "metadata": {},
     "output_type": "execute_result"
    }
   ],
   "source": [
    "test_texts2.loc[3000:3020,:]"
   ]
  },
  {
   "cell_type": "code",
   "execution_count": 343,
   "metadata": {},
   "outputs": [
    {
     "data": {
      "text/plain": [
       "'ok.ru/group/56803476373541 ok.ru/lyualih ok.ru/group/54129162977280 ok.ru/luxwedding ok.ru/neverf ok.ru/group/52788231667949 ok.ru/group/51956903903450 ok.ru/bolitdusha ok.ru/group/51831127343260 ok.ru/samirlend'"
      ]
     },
     "execution_count": 343,
     "metadata": {},
     "output_type": "execute_result"
    }
   ],
   "source": [
    "test_texts2.loc[1009,:].text"
   ]
  },
  {
   "cell_type": "code",
   "execution_count": 346,
   "metadata": {},
   "outputs": [
    {
     "data": {
      "text/plain": [
       "'Stive Morgan - White Angel 329181235953 ok.ru/video/597182714175'"
      ]
     },
     "execution_count": 346,
     "metadata": {},
     "output_type": "execute_result"
    }
   ],
   "source": [
    "test_texts2.loc[1003,:].text"
   ]
  },
  {
   "cell_type": "code",
   "execution_count": 348,
   "metadata": {},
   "outputs": [
    {
     "data": {
      "text/plain": [
       "'ok.ru/devichnik.online ok.ru/group/54243312599040 ok.ru/kinohumor.hd ok.ru/group/54309735104525 ok.ru/ideal.woman ok.ru/group/53098685726825 ok.ru/group/52841002959083 ok.ru/group52841002959083 ok.ru/sdelaysamo ok.ru/group/52156995403844'"
      ]
     },
     "execution_count": 348,
     "metadata": {},
     "output_type": "execute_result"
    }
   ],
   "source": [
    "test_texts2.loc[2019,:].text"
   ]
  },
  {
   "cell_type": "code",
   "execution_count": 350,
   "metadata": {},
   "outputs": [
    {
     "data": {
      "text/plain": [
       "'ok.ru/gif.hd ok.ru/group/54589100982286 КАК ПРАВИЛЬНО ОБРЕЗАТЬ ЧЕРЕШНЮ\\nСохраните, чтобы не потерять!\\nФормирование и обрезка черешни.\\n\\nЧерешня обладает высокой пробудимостью почек, но побегообразовательная способность у нее слабая.Поэтому у нее ярко выражена стволовость и ярусность в размещении ветвей. Формировать черешню рекомендуется по типу ярусной кроны, которая наиболее полно соответствует особенностям этой культуры.\\nНаибольшее распространение получили разреженно-ярусная, вазообразная, полуплоская и веретеновидная.\\n\\nДля формирования разреженно-ярусной кроны в первом ярусе закладывают три-четыре скелетные ветви, во втором две-три, а в третьем одну-две ветви. Расстояние между ярусами 0,5—0,8 м.\\n\\nВазообразная (чашевидная) крона состоит из 4—5 основных ветвей первого порядка (центральный проводник отсутствует). Благодаря хорошей осветленности средней части кроны плодовые образования живут 12—15 лет.\\nДля интенсивных насаждений со схемой посадки 4—52—2,5 м предлагается веретеновидная крона. Крона состоит из 3—4 ярусов боковых ветвей, в которых не более 3—4 ветвей.\\n\\nМежъярусное пространство 60 см, а высота штамба 80 см. Такой тип кроны требует обязательного отгибания ветвей и летней обрезки побегов. При обрезке деревьев проводят прореживание ветвей и укорачивание побегов, особенно слабо ветвящихся сортов.\\n\\nЧерешня хорошо отзывается на летнюю и весеннюю обрезку. ok.ru/group/53113936543986 ok.ru/w.world ok.ru/group/52898137243745 ok.ru/group52898137243745 ok.ru/group/53098520641641 ok.ru/woman.beauty ok.ru/group/52742019547373 ok.ru/zhiznsyumorom'"
      ]
     },
     "execution_count": 350,
     "metadata": {},
     "output_type": "execute_result"
    }
   ],
   "source": [
    "test_texts2.loc[3014,:].text"
   ]
  },
  {
   "cell_type": "code",
   "execution_count": 366,
   "metadata": {},
   "outputs": [],
   "source": []
  },
  {
   "cell_type": "code",
   "execution_count": null,
   "metadata": {},
   "outputs": [],
   "source": []
  }
 ],
 "metadata": {
  "kernelspec": {
   "display_name": "Python 3",
   "language": "python",
   "name": "python3"
  },
  "language_info": {
   "codemirror_mode": {
    "name": "ipython",
    "version": 3
   },
   "file_extension": ".py",
   "mimetype": "text/x-python",
   "name": "python",
   "nbconvert_exporter": "python",
   "pygments_lexer": "ipython3",
   "version": "3.7.2"
  }
 },
 "nbformat": 4,
 "nbformat_minor": 2
}
