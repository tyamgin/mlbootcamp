{
 "cells": [
  {
   "cell_type": "code",
   "execution_count": 1,
   "metadata": {},
   "outputs": [
    {
     "name": "stderr",
     "output_type": "stream",
     "text": [
      "/usr/local/lib/python3.7/site-packages/lightgbm/__init__.py:46: UserWarning: Starting from version 2.2.1, the library file in distribution wheels for macOS is built by the Apple Clang (Xcode_8.3.3) compiler.\n",
      "This means that in case of installing LightGBM from PyPI via the ``pip install lightgbm`` command, you don't need to install the gcc compiler anymore.\n",
      "Instead of that, you need to install the OpenMP library, which is required for running LightGBM on the system with the Apple Clang compiler.\n",
      "You can install the OpenMP library by the following command: ``brew install libomp``.\n",
      "  \"You can install the OpenMP library by the following command: ``brew install libomp``.\", UserWarning)\n"
     ]
    }
   ],
   "source": [
    "%run header.ipynb"
   ]
  },
  {
   "cell_type": "code",
   "execution_count": 2,
   "metadata": {},
   "outputs": [
    {
     "name": "stderr",
     "output_type": "stream",
     "text": [
      "/usr/local/lib/python3.7/site-packages/pyarrow/pandas_compat.py:752: FutureWarning: .labels was deprecated in version 0.24.0. Use .codes instead.\n",
      "  labels, = index.labels\n"
     ]
    }
   ],
   "source": [
    "train_data = parquet.read_table(input_path + '/textsTrain').to_pandas()\n",
    "train_data.rename(columns = {'instanceId_objectId':'objectId'}, inplace = True)"
   ]
  },
  {
   "cell_type": "code",
   "execution_count": 5,
   "metadata": {},
   "outputs": [],
   "source": [
    "test_data = parquet.read_table(input_path + '/textsTest').to_pandas()\n",
    "test_data.rename(columns = {'instanceId_objectId':'objectId'}, inplace = True)"
   ]
  },
  {
   "cell_type": "code",
   "execution_count": 6,
   "metadata": {},
   "outputs": [
    {
     "data": {
      "text/html": [
       "<div>\n",
       "<style scoped>\n",
       "    .dataframe tbody tr th:only-of-type {\n",
       "        vertical-align: middle;\n",
       "    }\n",
       "\n",
       "    .dataframe tbody tr th {\n",
       "        vertical-align: top;\n",
       "    }\n",
       "\n",
       "    .dataframe thead th {\n",
       "        text-align: right;\n",
       "    }\n",
       "</style>\n",
       "<table border=\"1\" class=\"dataframe\">\n",
       "  <thead>\n",
       "    <tr style=\"text-align: right;\">\n",
       "      <th></th>\n",
       "      <th>instanceId_userId</th>\n",
       "      <th>instanceId_objectType</th>\n",
       "      <th>objectId</th>\n",
       "      <th>feedback</th>\n",
       "      <th>audit_clientType</th>\n",
       "      <th>audit_timestamp</th>\n",
       "      <th>metadata_ownerId</th>\n",
       "      <th>metadata_createdAt</th>\n",
       "      <th>date</th>\n",
       "    </tr>\n",
       "  </thead>\n",
       "  <tbody>\n",
       "    <tr>\n",
       "      <th>0</th>\n",
       "      <td>1618</td>\n",
       "      <td>Post</td>\n",
       "      <td>25814780</td>\n",
       "      <td>[Clicked, Ignored]</td>\n",
       "      <td>WEB</td>\n",
       "      <td>1517458217938</td>\n",
       "      <td>81088</td>\n",
       "      <td>1517454825000</td>\n",
       "      <td>2018-02-01</td>\n",
       "    </tr>\n",
       "    <tr>\n",
       "      <th>1</th>\n",
       "      <td>2122</td>\n",
       "      <td>Post</td>\n",
       "      <td>10027037</td>\n",
       "      <td>[Ignored]</td>\n",
       "      <td>API</td>\n",
       "      <td>1517488844356</td>\n",
       "      <td>4016</td>\n",
       "      <td>1517423778000</td>\n",
       "      <td>2018-02-01</td>\n",
       "    </tr>\n",
       "    <tr>\n",
       "      <th>2</th>\n",
       "      <td>3400</td>\n",
       "      <td>Post</td>\n",
       "      <td>21687059</td>\n",
       "      <td>[Ignored]</td>\n",
       "      <td>WEB</td>\n",
       "      <td>1517510326582</td>\n",
       "      <td>33546</td>\n",
       "      <td>1517509621000</td>\n",
       "      <td>2018-02-01</td>\n",
       "    </tr>\n",
       "    <tr>\n",
       "      <th>3</th>\n",
       "      <td>4246</td>\n",
       "      <td>Post</td>\n",
       "      <td>9938784</td>\n",
       "      <td>[Ignored]</td>\n",
       "      <td>API</td>\n",
       "      <td>1517464554986</td>\n",
       "      <td>74384</td>\n",
       "      <td>1517218637000</td>\n",
       "      <td>2018-02-01</td>\n",
       "    </tr>\n",
       "    <tr>\n",
       "      <th>4</th>\n",
       "      <td>4516</td>\n",
       "      <td>Post</td>\n",
       "      <td>22275114</td>\n",
       "      <td>[Ignored]</td>\n",
       "      <td>WEB</td>\n",
       "      <td>1517467871914</td>\n",
       "      <td>32254</td>\n",
       "      <td>1517247354000</td>\n",
       "      <td>2018-02-01</td>\n",
       "    </tr>\n",
       "  </tbody>\n",
       "</table>\n",
       "</div>"
      ],
      "text/plain": [
       "   instanceId_userId instanceId_objectType  objectId            feedback  \\\n",
       "0               1618                  Post  25814780  [Clicked, Ignored]   \n",
       "1               2122                  Post  10027037           [Ignored]   \n",
       "2               3400                  Post  21687059           [Ignored]   \n",
       "3               4246                  Post   9938784           [Ignored]   \n",
       "4               4516                  Post  22275114           [Ignored]   \n",
       "\n",
       "  audit_clientType  audit_timestamp  metadata_ownerId  metadata_createdAt  \\\n",
       "0              WEB    1517458217938             81088       1517454825000   \n",
       "1              API    1517488844356              4016       1517423778000   \n",
       "2              WEB    1517510326582             33546       1517509621000   \n",
       "3              API    1517464554986             74384       1517218637000   \n",
       "4              WEB    1517467871914             32254       1517247354000   \n",
       "\n",
       "         date  \n",
       "0  2018-02-01  \n",
       "1  2018-02-01  \n",
       "2  2018-02-01  \n",
       "3  2018-02-01  \n",
       "4  2018-02-01  "
      ]
     },
     "execution_count": 6,
     "metadata": {},
     "output_type": "execute_result"
    }
   ],
   "source": [
    "train_data.head()"
   ]
  },
  {
   "cell_type": "code",
   "execution_count": 7,
   "metadata": {},
   "outputs": [
    {
     "data": {
      "text/plain": [
       "array(['Post', 'Video', 'Photo'], dtype=object)"
      ]
     },
     "execution_count": 7,
     "metadata": {},
     "output_type": "execute_result"
    }
   ],
   "source": [
    "train_data.instanceId_objectType.unique()"
   ]
  },
  {
   "cell_type": "code",
   "execution_count": 8,
   "metadata": {},
   "outputs": [
    {
     "data": {
      "text/plain": [
       "array(['WEB', 'API', 'MOB'], dtype=object)"
      ]
     },
     "execution_count": 8,
     "metadata": {},
     "output_type": "execute_result"
    }
   ],
   "source": [
    "train_data.audit_clientType.unique()"
   ]
  },
  {
   "cell_type": "code",
   "execution_count": 9,
   "metadata": {},
   "outputs": [],
   "source": [
    "def proc_data_inplace(data):\n",
    "    data['instanceId_objectType'] = np.array(data.instanceId_objectType.replace({\n",
    "        'Post': 0,\n",
    "        'Video': 1,\n",
    "        'Photo': 2,\n",
    "    }), np.int8)\n",
    "    data['audit_clientType'] = np.array(data.audit_clientType.replace({\n",
    "        'WEB': 0,\n",
    "        'API': 1,\n",
    "        'MOB': 2,\n",
    "    }), np.int8)\n",
    "    if 'feedback' in data.columns:\n",
    "        for action in ('Liked', 'Clicked', 'Viewed', 'Disliked', 'ReShared', 'Ignored'):\n",
    "            train_data[action.lower()] = np.array(train_data['feedback'].apply(lambda x: 1 if action in x else 0).values, np.int8)\n",
    "        data.drop('feedback', 1, inplace=True)"
   ]
  },
  {
   "cell_type": "code",
   "execution_count": 10,
   "metadata": {},
   "outputs": [],
   "source": [
    "proc_data_inplace(train_data)"
   ]
  },
  {
   "cell_type": "code",
   "execution_count": 11,
   "metadata": {},
   "outputs": [],
   "source": [
    "proc_data_inplace(test_data)"
   ]
  },
  {
   "cell_type": "code",
   "execution_count": null,
   "metadata": {},
   "outputs": [],
   "source": []
  },
  {
   "cell_type": "code",
   "execution_count": 12,
   "metadata": {},
   "outputs": [
    {
     "data": {
      "text/html": [
       "<div>\n",
       "<style scoped>\n",
       "    .dataframe tbody tr th:only-of-type {\n",
       "        vertical-align: middle;\n",
       "    }\n",
       "\n",
       "    .dataframe tbody tr th {\n",
       "        vertical-align: top;\n",
       "    }\n",
       "\n",
       "    .dataframe thead th {\n",
       "        text-align: right;\n",
       "    }\n",
       "</style>\n",
       "<table border=\"1\" class=\"dataframe\">\n",
       "  <thead>\n",
       "    <tr style=\"text-align: right;\">\n",
       "      <th></th>\n",
       "      <th>instanceId_userId</th>\n",
       "      <th>instanceId_objectType</th>\n",
       "      <th>objectId</th>\n",
       "      <th>audit_clientType</th>\n",
       "      <th>audit_timestamp</th>\n",
       "      <th>metadata_ownerId</th>\n",
       "      <th>metadata_createdAt</th>\n",
       "      <th>date</th>\n",
       "      <th>liked</th>\n",
       "      <th>clicked</th>\n",
       "      <th>viewed</th>\n",
       "      <th>disliked</th>\n",
       "      <th>reshared</th>\n",
       "      <th>ignored</th>\n",
       "    </tr>\n",
       "  </thead>\n",
       "  <tbody>\n",
       "    <tr>\n",
       "      <th>0</th>\n",
       "      <td>1618</td>\n",
       "      <td>0</td>\n",
       "      <td>25814780</td>\n",
       "      <td>0</td>\n",
       "      <td>1517458217938</td>\n",
       "      <td>81088</td>\n",
       "      <td>1517454825000</td>\n",
       "      <td>2018-02-01</td>\n",
       "      <td>0</td>\n",
       "      <td>1</td>\n",
       "      <td>0</td>\n",
       "      <td>0</td>\n",
       "      <td>0</td>\n",
       "      <td>1</td>\n",
       "    </tr>\n",
       "    <tr>\n",
       "      <th>1</th>\n",
       "      <td>2122</td>\n",
       "      <td>0</td>\n",
       "      <td>10027037</td>\n",
       "      <td>1</td>\n",
       "      <td>1517488844356</td>\n",
       "      <td>4016</td>\n",
       "      <td>1517423778000</td>\n",
       "      <td>2018-02-01</td>\n",
       "      <td>0</td>\n",
       "      <td>0</td>\n",
       "      <td>0</td>\n",
       "      <td>0</td>\n",
       "      <td>0</td>\n",
       "      <td>1</td>\n",
       "    </tr>\n",
       "    <tr>\n",
       "      <th>2</th>\n",
       "      <td>3400</td>\n",
       "      <td>0</td>\n",
       "      <td>21687059</td>\n",
       "      <td>0</td>\n",
       "      <td>1517510326582</td>\n",
       "      <td>33546</td>\n",
       "      <td>1517509621000</td>\n",
       "      <td>2018-02-01</td>\n",
       "      <td>0</td>\n",
       "      <td>0</td>\n",
       "      <td>0</td>\n",
       "      <td>0</td>\n",
       "      <td>0</td>\n",
       "      <td>1</td>\n",
       "    </tr>\n",
       "    <tr>\n",
       "      <th>3</th>\n",
       "      <td>4246</td>\n",
       "      <td>0</td>\n",
       "      <td>9938784</td>\n",
       "      <td>1</td>\n",
       "      <td>1517464554986</td>\n",
       "      <td>74384</td>\n",
       "      <td>1517218637000</td>\n",
       "      <td>2018-02-01</td>\n",
       "      <td>0</td>\n",
       "      <td>0</td>\n",
       "      <td>0</td>\n",
       "      <td>0</td>\n",
       "      <td>0</td>\n",
       "      <td>1</td>\n",
       "    </tr>\n",
       "    <tr>\n",
       "      <th>4</th>\n",
       "      <td>4516</td>\n",
       "      <td>0</td>\n",
       "      <td>22275114</td>\n",
       "      <td>0</td>\n",
       "      <td>1517467871914</td>\n",
       "      <td>32254</td>\n",
       "      <td>1517247354000</td>\n",
       "      <td>2018-02-01</td>\n",
       "      <td>0</td>\n",
       "      <td>0</td>\n",
       "      <td>0</td>\n",
       "      <td>0</td>\n",
       "      <td>0</td>\n",
       "      <td>1</td>\n",
       "    </tr>\n",
       "  </tbody>\n",
       "</table>\n",
       "</div>"
      ],
      "text/plain": [
       "   instanceId_userId  instanceId_objectType  objectId  audit_clientType  \\\n",
       "0               1618                      0  25814780                 0   \n",
       "1               2122                      0  10027037                 1   \n",
       "2               3400                      0  21687059                 0   \n",
       "3               4246                      0   9938784                 1   \n",
       "4               4516                      0  22275114                 0   \n",
       "\n",
       "   audit_timestamp  metadata_ownerId  metadata_createdAt        date  liked  \\\n",
       "0    1517458217938             81088       1517454825000  2018-02-01      0   \n",
       "1    1517488844356              4016       1517423778000  2018-02-01      0   \n",
       "2    1517510326582             33546       1517509621000  2018-02-01      0   \n",
       "3    1517464554986             74384       1517218637000  2018-02-01      0   \n",
       "4    1517467871914             32254       1517247354000  2018-02-01      0   \n",
       "\n",
       "   clicked  viewed  disliked  reshared  ignored  \n",
       "0        1       0         0         0        1  \n",
       "1        0       0         0         0        1  \n",
       "2        0       0         0         0        1  \n",
       "3        0       0         0         0        1  \n",
       "4        0       0         0         0        1  "
      ]
     },
     "execution_count": 12,
     "metadata": {},
     "output_type": "execute_result"
    }
   ],
   "source": [
    "train_data.head()"
   ]
  },
  {
   "cell_type": "code",
   "execution_count": 13,
   "metadata": {},
   "outputs": [
    {
     "data": {
      "text/plain": [
       "instanceId_userId           int32\n",
       "instanceId_objectType        int8\n",
       "objectId                    int32\n",
       "audit_clientType             int8\n",
       "audit_timestamp             int64\n",
       "metadata_ownerId            int32\n",
       "metadata_createdAt          int64\n",
       "date                     category\n",
       "liked                        int8\n",
       "clicked                      int8\n",
       "viewed                       int8\n",
       "disliked                     int8\n",
       "reshared                     int8\n",
       "ignored                      int8\n",
       "dtype: object"
      ]
     },
     "execution_count": 13,
     "metadata": {},
     "output_type": "execute_result"
    }
   ],
   "source": [
    "train_data.dtypes"
   ]
  },
  {
   "cell_type": "code",
   "execution_count": 14,
   "metadata": {},
   "outputs": [],
   "source": [
    "train_data.to_pickle(output_path + '/train_data')\n",
    "test_data.to_pickle(output_path + '/test_data')"
   ]
  },
  {
   "cell_type": "code",
   "execution_count": null,
   "metadata": {},
   "outputs": [],
   "source": []
  },
  {
   "cell_type": "code",
   "execution_count": null,
   "metadata": {},
   "outputs": [],
   "source": []
  },
  {
   "cell_type": "code",
   "execution_count": null,
   "metadata": {},
   "outputs": [],
   "source": []
  },
  {
   "cell_type": "code",
   "execution_count": null,
   "metadata": {},
   "outputs": [],
   "source": []
  },
  {
   "cell_type": "code",
   "execution_count": null,
   "metadata": {},
   "outputs": [],
   "source": []
  },
  {
   "cell_type": "code",
   "execution_count": null,
   "metadata": {},
   "outputs": [],
   "source": []
  },
  {
   "cell_type": "code",
   "execution_count": null,
   "metadata": {},
   "outputs": [],
   "source": []
  },
  {
   "cell_type": "code",
   "execution_count": null,
   "metadata": {},
   "outputs": [],
   "source": []
  },
  {
   "cell_type": "code",
   "execution_count": 4,
   "metadata": {},
   "outputs": [
    {
     "data": {
      "text/plain": [
       "0               [Clicked, Ignored]\n",
       "1                        [Ignored]\n",
       "2                        [Ignored]\n",
       "3                        [Ignored]\n",
       "4                        [Ignored]\n",
       "5                        [Ignored]\n",
       "6                          [Liked]\n",
       "7                        [Ignored]\n",
       "8                        [Ignored]\n",
       "9                        [Ignored]\n",
       "10                       [Clicked]\n",
       "11                       [Ignored]\n",
       "12                       [Ignored]\n",
       "13                         [Liked]\n",
       "14    [Clicked, ReShared, Ignored]\n",
       "15                       [Ignored]\n",
       "16                       [Ignored]\n",
       "17                       [Ignored]\n",
       "18                       [Clicked]\n",
       "19                       [Clicked]\n",
       "20             [Disliked, Ignored]\n",
       "21             [Disliked, Ignored]\n",
       "22                       [Clicked]\n",
       "23                       [Clicked]\n",
       "24                       [Clicked]\n",
       "25                       [Clicked]\n",
       "26                       [Ignored]\n",
       "27                         [Liked]\n",
       "28              [Clicked, Ignored]\n",
       "29                       [Ignored]\n",
       "                  ...             \n",
       "70                       [Ignored]\n",
       "71                       [Ignored]\n",
       "72                       [Ignored]\n",
       "73                       [Ignored]\n",
       "74             [Disliked, Ignored]\n",
       "75             [Disliked, Ignored]\n",
       "76             [Disliked, Ignored]\n",
       "77                         [Liked]\n",
       "78               [Clicked, Viewed]\n",
       "79                         [Liked]\n",
       "80                       [Ignored]\n",
       "81                       [Ignored]\n",
       "82                         [Liked]\n",
       "83                       [Ignored]\n",
       "84                      [Disliked]\n",
       "85             [Disliked, Ignored]\n",
       "86             [Disliked, Ignored]\n",
       "87             [Disliked, Clicked]\n",
       "88                       [Ignored]\n",
       "89                       [Ignored]\n",
       "90                       [Ignored]\n",
       "91                       [Ignored]\n",
       "92                       [Ignored]\n",
       "93                       [Ignored]\n",
       "94                       [Ignored]\n",
       "95                       [Ignored]\n",
       "96                       [Ignored]\n",
       "97                       [Ignored]\n",
       "98                      [Disliked]\n",
       "99                       [Ignored]\n",
       "Name: feedback, Length: 100, dtype: object"
      ]
     },
     "execution_count": 4,
     "metadata": {},
     "output_type": "execute_result"
    }
   ],
   "source": [
    "train_data.head(100).feedback"
   ]
  },
  {
   "cell_type": "code",
   "execution_count": null,
   "metadata": {},
   "outputs": [],
   "source": []
  }
 ],
 "metadata": {
  "kernelspec": {
   "display_name": "Python 3",
   "language": "python",
   "name": "python3"
  },
  "language_info": {
   "codemirror_mode": {
    "name": "ipython",
    "version": 3
   },
   "file_extension": ".py",
   "mimetype": "text/x-python",
   "name": "python",
   "nbconvert_exporter": "python",
   "pygments_lexer": "ipython3",
   "version": "3.7.2"
  }
 },
 "nbformat": 4,
 "nbformat_minor": 2
}
