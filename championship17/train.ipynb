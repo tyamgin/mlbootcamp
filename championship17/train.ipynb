{
 "cells": [
  {
   "cell_type": "code",
   "execution_count": 1,
   "metadata": {},
   "outputs": [
    {
     "name": "stdout",
     "output_type": "stream",
     "text": [
      "Populating the interactive namespace from numpy and matplotlib\n"
     ]
    }
   ],
   "source": [
    "import sys\n",
    "sys.path.append('/f/Downloads/mroc-master/')\n",
    "\n",
    "import pandas as pd\n",
    "import numpy as np\n",
    "from lightgbm import LGBMClassifier, plot_importance\n",
    "from tqdm import tqdm\n",
    "import scipy.sparse as sparse\n",
    "from sklearn.model_selection import train_test_split\n",
    "from collections import defaultdict\n",
    "import pandas as pd\n",
    "import os\n",
    "import joblib\n",
    "import mroc\n",
    "from tqdm import tqdm_notebook\n",
    "from sklearn.metrics import roc_auc_score, accuracy_score\n",
    "import lightgbm as lgb\n",
    "%pylab inline"
   ]
  },
  {
   "cell_type": "code",
   "execution_count": 2,
   "metadata": {},
   "outputs": [],
   "source": [
    "def seed_everything(seed):\n",
    "    random.seed(seed)\n",
    "    os.environ['PYTHONHASHSEED'] = str(seed)\n",
    "    np.random.seed(seed)\n",
    "    #torch.manual_seed(seed)\n",
    "    #torch.cuda.manual_seed(seed)\n",
    "    #torch.backends.cudnn.deterministic = True\n",
    "    #tensorflow.set_random_seed(seed)"
   ]
  },
  {
   "cell_type": "code",
   "execution_count": 10,
   "metadata": {},
   "outputs": [
    {
     "name": "stderr",
     "output_type": "stream",
     "text": [
      "\r",
      "  0%|          | 0/1 [00:00<?, ?it/s]"
     ]
    },
    {
     "name": "stdout",
     "output_type": "stream",
     "text": [
      "Loading features\n"
     ]
    },
    {
     "name": "stderr",
     "output_type": "stream",
     "text": [
      "100%|██████████| 1/1 [00:01<00:00,  1.61s/it]\n"
     ]
    },
    {
     "name": "stdout",
     "output_type": "stream",
     "text": [
      "Stacking features\n",
      "Dividing on train/valid parts\n",
      "Done\n"
     ]
    }
   ],
   "source": [
    "folder = '../data/collabTrain_work/train'\n",
    "features = [\n",
    "     # 'ObjectSpec',\n",
    "#     'SimilarOwners',\n",
    "#     'OwnerReact',\n",
    "#     'SvdCols',\n",
    "#     'ResourceType',\n",
    "#     'AuditweightsMatrix',\n",
    "#     'AuditweightsCtrHigh',\n",
    "#     'AuditweightsNumLikes',\n",
    "#     'MetadataNumSymbols',\n",
    "#     'UserOwnerCounter',\n",
    "    'AuthorReact2'\n",
    "    ]\n",
    "X = []\n",
    "Y = joblib.load(os.path.join(folder, 'Target')).toarray().squeeze()\n",
    "uo = joblib.load(os.path.join(folder, 'UserIdObjectId')).toarray()\n",
    "user_ids, obj_ids = uo[:,0], uo[:,1]\n",
    "\n",
    "feature_names = []\n",
    "print('Loading features')\n",
    "for f in tqdm(features):\n",
    "    x = joblib.load(os.path.join(folder, f))\n",
    "    if len(x.shape)==1:\n",
    "        x = x.toarray().unsqueeze(0)\n",
    "    assert x.shape[0]==Y.shape[0], f'{f} has {len(x)}, Y has {len(Y)}'\n",
    "    X.append(x)\n",
    "    feature_names.extend([f]*x.shape[1])\n",
    "print('Stacking features')\n",
    "X = sparse.hstack(X)\n",
    "print('Dividing on train/valid parts')\n",
    "\n",
    "valid_count = int(X.shape[0]*0.1)\n",
    "X_train, X_valid = X[:valid_count], X[-valid_count:]\n",
    "Y_train, Y_valid = Y[:valid_count], Y[-valid_count:]\n",
    "user_id_train, user_id_valid = user_ids[:valid_count], user_ids[-valid_count:]\n",
    "\n",
    "print('Done')"
   ]
  },
  {
   "cell_type": "code",
   "execution_count": 11,
   "metadata": {},
   "outputs": [
    {
     "name": "stdout",
     "output_type": "stream",
     "text": [
      "[1]\tvalid_0's auc: 0.65402\n",
      "Training until validation scores don't improve for 5 rounds.\n",
      "[2]\tvalid_0's auc: 0.658769\n",
      "[3]\tvalid_0's auc: 0.660967\n",
      "[4]\tvalid_0's auc: 0.662791\n",
      "[5]\tvalid_0's auc: 0.664186\n",
      "[6]\tvalid_0's auc: 0.665831\n",
      "[7]\tvalid_0's auc: 0.666293\n",
      "[8]\tvalid_0's auc: 0.666993\n",
      "[9]\tvalid_0's auc: 0.668002\n",
      "[10]\tvalid_0's auc: 0.668554\n",
      "[11]\tvalid_0's auc: 0.668983\n",
      "[12]\tvalid_0's auc: 0.669442\n",
      "[13]\tvalid_0's auc: 0.669341\n",
      "[14]\tvalid_0's auc: 0.669992\n",
      "[15]\tvalid_0's auc: 0.671603\n",
      "[16]\tvalid_0's auc: 0.671821\n",
      "[17]\tvalid_0's auc: 0.673053\n",
      "[18]\tvalid_0's auc: 0.674283\n",
      "[19]\tvalid_0's auc: 0.675049\n",
      "[20]\tvalid_0's auc: 0.675577\n",
      "[21]\tvalid_0's auc: 0.676409\n",
      "[22]\tvalid_0's auc: 0.678951\n",
      "[23]\tvalid_0's auc: 0.679918\n",
      "[24]\tvalid_0's auc: 0.680531\n",
      "[25]\tvalid_0's auc: 0.6808\n",
      "[26]\tvalid_0's auc: 0.681969\n",
      "[27]\tvalid_0's auc: 0.682426\n",
      "[28]\tvalid_0's auc: 0.683245\n",
      "[29]\tvalid_0's auc: 0.683578\n",
      "[30]\tvalid_0's auc: 0.683805\n",
      "[31]\tvalid_0's auc: 0.684503\n",
      "[32]\tvalid_0's auc: 0.685566\n",
      "[33]\tvalid_0's auc: 0.685844\n",
      "[34]\tvalid_0's auc: 0.687118\n",
      "[35]\tvalid_0's auc: 0.687582\n",
      "[36]\tvalid_0's auc: 0.687883\n",
      "[37]\tvalid_0's auc: 0.688413\n",
      "[38]\tvalid_0's auc: 0.688996\n",
      "[39]\tvalid_0's auc: 0.689216\n",
      "[40]\tvalid_0's auc: 0.689727\n",
      "[41]\tvalid_0's auc: 0.690752\n",
      "[42]\tvalid_0's auc: 0.691015\n",
      "[43]\tvalid_0's auc: 0.691643\n",
      "[44]\tvalid_0's auc: 0.692904\n",
      "[45]\tvalid_0's auc: 0.693252\n",
      "[46]\tvalid_0's auc: 0.693553\n",
      "[47]\tvalid_0's auc: 0.69409\n",
      "[48]\tvalid_0's auc: 0.694295\n",
      "[49]\tvalid_0's auc: 0.694652\n",
      "[50]\tvalid_0's auc: 0.695882\n",
      "[51]\tvalid_0's auc: 0.696279\n",
      "[52]\tvalid_0's auc: 0.696823\n",
      "[53]\tvalid_0's auc: 0.696929\n",
      "[54]\tvalid_0's auc: 0.696973\n",
      "[55]\tvalid_0's auc: 0.697116\n",
      "[56]\tvalid_0's auc: 0.697237\n",
      "[57]\tvalid_0's auc: 0.697958\n",
      "[58]\tvalid_0's auc: 0.698125\n",
      "[59]\tvalid_0's auc: 0.69844\n",
      "[60]\tvalid_0's auc: 0.698857\n",
      "[61]\tvalid_0's auc: 0.699076\n",
      "[62]\tvalid_0's auc: 0.699831\n",
      "[63]\tvalid_0's auc: 0.699941\n",
      "[64]\tvalid_0's auc: 0.700332\n",
      "[65]\tvalid_0's auc: 0.700668\n",
      "[66]\tvalid_0's auc: 0.700872\n",
      "[67]\tvalid_0's auc: 0.700938\n",
      "[68]\tvalid_0's auc: 0.701639\n",
      "[69]\tvalid_0's auc: 0.701829\n",
      "[70]\tvalid_0's auc: 0.702512\n",
      "[71]\tvalid_0's auc: 0.702953\n",
      "[72]\tvalid_0's auc: 0.703389\n",
      "[73]\tvalid_0's auc: 0.703494\n",
      "[74]\tvalid_0's auc: 0.704315\n",
      "[75]\tvalid_0's auc: 0.704955\n",
      "[76]\tvalid_0's auc: 0.705452\n",
      "[77]\tvalid_0's auc: 0.705458\n",
      "[78]\tvalid_0's auc: 0.705494\n",
      "[79]\tvalid_0's auc: 0.705913\n",
      "[80]\tvalid_0's auc: 0.706391\n",
      "[81]\tvalid_0's auc: 0.706591\n",
      "[82]\tvalid_0's auc: 0.706601\n",
      "[83]\tvalid_0's auc: 0.706648\n",
      "[84]\tvalid_0's auc: 0.707564\n",
      "[85]\tvalid_0's auc: 0.707791\n",
      "[86]\tvalid_0's auc: 0.707491\n",
      "[87]\tvalid_0's auc: 0.707583\n",
      "[88]\tvalid_0's auc: 0.707243\n",
      "[89]\tvalid_0's auc: 0.70739\n",
      "[90]\tvalid_0's auc: 0.707602\n",
      "Early stopping, best iteration is:\n",
      "[85]\tvalid_0's auc: 0.707791\n"
     ]
    },
    {
     "data": {
      "text/plain": [
       "0.7053165934545744"
      ]
     },
     "execution_count": 11,
     "metadata": {},
     "output_type": "execute_result"
    }
   ],
   "source": [
    "seed_everything(6)\n",
    "model = LGBMClassifier()\n",
    "model.fit(X_train, Y_train, verbose=True, eval_set=(X_valid, Y_valid), eval_metric='auc',\n",
    "          early_stopping_rounds=5, feature_name = feature_names)\n",
    "\n",
    "mroc.mean_roc_auc(user_id_valid, Y_valid, model.predict_proba(X_valid)[:,1])"
   ]
  },
  {
   "cell_type": "code",
   "execution_count": 5,
   "metadata": {},
   "outputs": [
    {
     "data": {
      "text/plain": [
       "<matplotlib.axes._subplots.AxesSubplot at 0x7fcf502f02e8>"
      ]
     },
     "execution_count": 5,
     "metadata": {},
     "output_type": "execute_result"
    },
    {
     "data": {
      "image/png": "[encoded data removed]",
      "text/plain": [
       "<Figure size 432x288 with 1 Axes>"
      ]
     },
     "metadata": {
      "needs_background": "light"
     },
     "output_type": "display_data"
    }
   ],
   "source": [
    "plot_importance(model)"
   ]
  },
  {
   "cell_type": "markdown",
   "metadata": {},
   "source": [
    "## Valid"
   ]
  },
  {
   "cell_type": "code",
   "execution_count": null,
   "metadata": {},
   "outputs": [],
   "source": []
  },
  {
   "cell_type": "markdown",
   "metadata": {},
   "source": [
    "## Infer"
   ]
  },
  {
   "cell_type": "code",
   "execution_count": 8,
   "metadata": {},
   "outputs": [
    {
     "name": "stdout",
     "output_type": "stream",
     "text": [
      "Audit\t\t     ObjectSpec    SimilarOwners\r\n",
      "AuditweightsCtrHigh  OwnerReact    SvdCols\r\n",
      "AuditweightsMatrix   ResourceType  UserIdObjectId\r\n"
     ]
    }
   ],
   "source": [
    "! ls ../data/collabTrain_work/test"
   ]
  },
  {
   "cell_type": "code",
   "execution_count": 10,
   "metadata": {},
   "outputs": [
    {
     "data": {
      "text/plain": [
       "(1181443, 2)"
      ]
     },
     "execution_count": 10,
     "metadata": {},
     "output_type": "execute_result"
    }
   ],
   "source": [
    "X[0].shape"
   ]
  },
  {
   "cell_type": "code",
   "execution_count": 15,
   "metadata": {},
   "outputs": [
    {
     "data": {
      "text/plain": [
       "(1181443,)"
      ]
     },
     "execution_count": 15,
     "metadata": {},
     "output_type": "execute_result"
    }
   ],
   "source": [
    "obj_ids.shape"
   ]
  },
  {
   "cell_type": "code",
   "execution_count": 20,
   "metadata": {},
   "outputs": [
    {
     "data": {
      "text/plain": [
       "(array([5129604., 5129604., 5129604., 5129604., 5129604., 5129604.,\n",
       "        5129604., 5129604., 5129604., 5129604.]),\n",
       " array([31268404., 37281624., 32979002., 38236802., 20034016., 30812434.,\n",
       "        24193834., 20152524., 26281832., 34393219.]))"
      ]
     },
     "execution_count": 20,
     "metadata": {},
     "output_type": "execute_result"
    }
   ],
   "source": [
    "user_ids[:10], obj_ids[:10]"
   ]
  },
  {
   "cell_type": "code",
   "execution_count": 26,
   "metadata": {},
   "outputs": [
    {
     "data": {
      "text/plain": [
       "(array([7138812., 7138812., 7138812., 7139190., 7139190., 7139190.,\n",
       "        7139403., 7139403., 7140543., 7140543.]),\n",
       " array([16981818., 10654239.,  9474919., 38634914., 37947924., 33492019.,\n",
       "        24078331., 36232204., 23865017.,   606918.]))"
      ]
     },
     "execution_count": 26,
     "metadata": {},
     "output_type": "execute_result"
    }
   ],
   "source": [
    "user_ids[:10], obj_ids[:10]"
   ]
  },
  {
   "cell_type": "code",
   "execution_count": 9,
   "metadata": {},
   "outputs": [
    {
     "data": {
      "text/plain": [
       "(array([7138812., 7138812., 7138812., 7139190., 7139190., 7139190.,\n",
       "        7139403., 7139403., 7140543., 7140543.]),\n",
       " array([16981818., 10654239.,  9474919., 38634914., 37947924., 33492019.,\n",
       "        24078331., 36232204., 23865017.,   606918.]))"
      ]
     },
     "execution_count": 9,
     "metadata": {},
     "output_type": "execute_result"
    }
   ],
   "source": [
    "user_ids[:10], obj_ids[:10]"
   ]
  },
  {
   "cell_type": "code",
   "execution_count": 7,
   "metadata": {},
   "outputs": [
    {
     "name": "stderr",
     "output_type": "stream",
     "text": [
      "\r",
      "  0%|          | 0/11 [00:00<?, ?it/s]"
     ]
    },
    {
     "name": "stdout",
     "output_type": "stream",
     "text": [
      "Loading features\n"
     ]
    },
    {
     "name": "stderr",
     "output_type": "stream",
     "text": [
      "100%|██████████| 11/11 [00:00<00:00, 15.41it/s]\n"
     ]
    },
    {
     "name": "stdout",
     "output_type": "stream",
     "text": [
      "Stacking features\n"
     ]
    },
    {
     "name": "stderr",
     "output_type": "stream",
     "text": [
      "/opt/anaconda/lib/python3.7/site-packages/lightgbm/basic.py:478: UserWarning: Converting data to scipy sparse matrix.\n",
      "  warnings.warn('Converting data to scipy sparse matrix.')\n"
     ]
    },
    {
     "name": "stdout",
     "output_type": "stream",
     "text": [
      "                                                     0\n",
      "39            [35321415, 18936317, 38436621, 38345738]\n",
      "78                        [38727626, 549335, 14594128]\n",
      "135  [17738426, 17551814, 38102135, 27720022, 35113...\n",
      "180                               [35804715, 12537921]\n",
      "231             [30371401, 975302, 30978017, 34978207]\n"
     ]
    }
   ],
   "source": [
    "folder = '../data/collabTrain_work/test'\n",
    "out_file = '../data/collabTrain_work/submissions/submit.csv.gz'\n",
    "os.makedirs(os.path.dirname(out_file), exist_ok=True)\n",
    "X = []\n",
    "uo = joblib.load(os.path.join(folder, 'UserIdObjectId')).toarray()\n",
    "user_ids, obj_ids = uo[:,0], uo[:,1]\n",
    "\n",
    "print('Loading features')\n",
    "for f in tqdm(features):\n",
    "    X.append(joblib.load(os.path.join(folder, f)))\n",
    "print('Stacking features')\n",
    "X = sparse.hstack(X)\n",
    "assert len(user_ids)==X.shape[0]\n",
    "\n",
    "pred = model.predict_proba(X)[:,1]\n",
    "\n",
    "by_user = defaultdict(list)\n",
    "for user_id, obj_id, p in zip(user_ids, obj_ids, pred):\n",
    "    by_user[int(user_id)].append([int(obj_id), p])\n",
    "\n",
    "data = []\n",
    "index = []\n",
    "for k, v in by_user.items():\n",
    "    index.append(k)\n",
    "    data.append([item[0] for item in sorted(v, reverse=True, key=lambda x: x[1])])\n",
    "\n",
    "by_user = pd.DataFrame(data={'0': data}, index=index).sort_index()\n",
    "print(by_user.head())\n",
    "by_user.to_csv(out_file, header=False, compression='gzip')"
   ]
  },
  {
   "cell_type": "code",
   "execution_count": 8,
   "metadata": {},
   "outputs": [
    {
     "data": {
      "text/plain": [
       "array([0.13406835, 0.18125334, 0.11955963, ..., 0.40099543, 0.02154874,\n",
       "       0.43700664])"
      ]
     },
     "execution_count": 8,
     "metadata": {},
     "output_type": "execute_result"
    }
   ],
   "source": [
    "pred"
   ]
  },
  {
   "cell_type": "code",
   "execution_count": null,
   "metadata": {},
   "outputs": [],
   "source": []
  }
 ],
 "metadata": {
  "kernelspec": {
   "display_name": "Python 3",
   "language": "python",
   "name": "python3"
  },
  "language_info": {
   "codemirror_mode": {
    "name": "ipython",
    "version": 3
   },
   "file_extension": ".py",
   "mimetype": "text/x-python",
   "name": "python",
   "nbconvert_exporter": "python",
   "pygments_lexer": "ipython3",
   "version": "3.7.2"
  }
 },
 "nbformat": 4,
 "nbformat_minor": 2
}
