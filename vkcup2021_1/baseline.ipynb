{
 "cells": [
  {
   "cell_type": "markdown",
   "metadata": {},
   "source": [
    "Моё решение - это немгого улучшенный бейзлайн.\n",
    "Если почитать статью https://habr.com/ru/company/vk/blog/552162/, то можно подчерпнуть следующие идеи:\n",
    "- Для каждой пары (`v1`, `v2`) посчитаем `score(v1, v2)` - чем больше это число, тем вероятнее, что `v1` и `v2` подружатся. Для начала - это количество общих друзей.\n",
    "- Чем больше друзей у `v`, тем менее вероятно, что 2 случайных его друга подружатся. Поэтому теперь вес у общего друга `v1` и `v2` не `1`, а `1 / log(N(v))`, где `N(v)` - количество друзей `v`. \n",
    "- Нужно как-то использовать величину `h` — активность взаимодействия между пользователями. Чем больше активность - тем больше шансов этого друга с кем-то сдружить. Теперь скор будет `log((h1+1)*(h2+1)) / log(N(v))`\n",
    "- Нужно как-то использовать величину `t` - время, прошедшее с момента дружбы. Если 2 друга подружились давно, то, скорее всего, общие друзья у них уже устоялись. Для простоты поштрафуем `h` на величину `log(t + 1) - 2`. Если дружат давно с высоким `h`, то этот `h` будет чуть меньше влиять.\n",
    "Итоговая формула выйдет: `log((H1+1)*(H2+1)) / log(N(v))`,\n",
    "где `H1 = max(0, h1 - max(0, log(t1 + 1) - 2))` и `H2 = max(0, h2 - max(0, log(t2 + 1) - 2))` "
   ]
  },
  {
   "cell_type": "code",
   "execution_count": 2,
   "metadata": {},
   "outputs": [],
   "source": [
    "from itertools import groupby\n",
    "from collections import defaultdict\n",
    "\n",
    "import pandas as pnd\n",
    "import tqdm\n",
    "import numpy as np\n",
    "import gc\n",
    "import zipfile\n",
    "import math"
   ]
  },
  {
   "cell_type": "code",
   "execution_count": 3,
   "metadata": {},
   "outputs": [],
   "source": [
    "def load_graph(train_graph, train_future_friends):\n",
    "    future = pnd.read_csv(train_future_friends)\n",
    "    future_graph = defaultdict(list)\n",
    "    for row in tqdm.tqdm(future.itertuples(), total=len(future)):\n",
    "        future_graph[row.u].append(row.v)\n",
    "        future_graph[row.v].append(row.u)\n",
    "\n",
    "    for arr in future_graph.values():\n",
    "        arr.sort()\n",
    "    \n",
    "    train = pnd.read_csv(train_graph)\n",
    "    graph = defaultdict(list)\n",
    "    for row in tqdm.tqdm(train.itertuples(), total=len(train)):\n",
    "        graph[row.u].append((row.v, row.t, row.h))\n",
    "        graph[row.v].append((row.u, row.t, row.h))\n",
    "        \n",
    "    for arr in graph.values():\n",
    "        arr.sort()\n",
    "        \n",
    "    return graph, future_graph"
   ]
  },
  {
   "cell_type": "code",
   "execution_count": 4,
   "metadata": {},
   "outputs": [
    {
     "name": "stderr",
     "output_type": "stream",
     "text": [
      "100%|██████████| 11582/11582 [00:00<00:00, 179315.75it/s]\n",
      "100%|██████████| 17414510/17414510 [00:59<00:00, 290762.93it/s]\n"
     ]
    }
   ],
   "source": [
    "graph, future_graph = load_graph('~/Downloads/2021 VK Cup ML Qual/train.csv', '~/Downloads/2021 VK Cup ML Qual/val.csv')"
   ]
  },
  {
   "cell_type": "code",
   "execution_count": 5,
   "metadata": {},
   "outputs": [],
   "source": [
    "graph_bool = set((id1, id2) for id1, d in graph.items() for id2, _, _ in d)\n",
    "future_graph_bool = set((id1, id2) for id1, d in future_graph.items() for id2 in d)"
   ]
  },
  {
   "cell_type": "code",
   "execution_count": 6,
   "metadata": {},
   "outputs": [],
   "source": [
    "def solution(sample_id, sample_size, source_id, source_size, target_id, target_size):\n",
    "    score = defaultdict(lambda: defaultdict(float))\n",
    "    for id, lst in tqdm.tqdm(graph.items(), total=len(graph), position=0, leave=True):\n",
    "        den = math.log(len(lst))\n",
    "\n",
    "        h_scorer = lambda h, t: max(0, h - max(0, math.log(t + 1) - 2))\n",
    "        for v1, t1, h1 in lst:\n",
    "            if v1 % sample_size != sample_id:\n",
    "                continue\n",
    "            if v1 % source_size != source_id:\n",
    "                continue\n",
    "\n",
    "            h1 = h_scorer(h1, t1)\n",
    "            for v2, t2, h2 in lst:\n",
    "                if v2 <= v1:\n",
    "                    continue\n",
    "                if v2 % target_size != target_id:\n",
    "                    continue\n",
    "                    \n",
    "                h2 = h_scorer(h2, t2)\n",
    "                    \n",
    "                score[v1][v2] += ( math.log((h1+1)*(h2+1)) ) / den\n",
    "\n",
    "    return score"
   ]
  },
  {
   "cell_type": "code",
   "execution_count": 7,
   "metadata": {},
   "outputs": [],
   "source": [
    "def get_recall(res, future_graph_bool):\n",
    "    cnt = 0\n",
    "    for id1, lst in res.items():\n",
    "        for id2 in lst:\n",
    "            if (id1, id2) in future_graph_bool:\n",
    "                cnt += 1\n",
    "    return cnt"
   ]
  },
  {
   "cell_type": "code",
   "execution_count": 8,
   "metadata": {},
   "outputs": [],
   "source": [
    "def get_result(score):\n",
    "    result = {}\n",
    "    for id, dct in tqdm.tqdm(score.items(), total=len(score)):\n",
    "        vals = list((id2, sc) for id2, sc in dct.items() if (id, id2) not in graph_bool)\n",
    "        vals.sort(key=lambda x: -x[1])\n",
    "        vals = vals[0:10]\n",
    "        list_str = ','.join(str(id) for id, score in vals)\n",
    "        result[id] = tuple(id for id, score in vals)\n",
    "    return result\n",
    "    "
   ]
  },
  {
   "cell_type": "code",
   "execution_count": 9,
   "metadata": {},
   "outputs": [
    {
     "name": "stderr",
     "output_type": "stream",
     "text": [
      "100%|██████████| 3215720/3215720 [01:49<00:00, 29293.31it/s] \n",
      "100%|██████████| 113420/113420 [00:23<00:00, 4808.70it/s] \n"
     ]
    },
    {
     "data": {
      "text/plain": [
       "91"
      ]
     },
     "execution_count": 9,
     "metadata": {},
     "output_type": "execute_result"
    }
   ],
   "source": [
    "# Провалидируем решение с четными ID, для которых у нас есть ответы\n",
    "# Для ускорения подсчёта возьмем только 1/13 выборки\n",
    "gc.collect()\n",
    "score_train = solution(7, 13, 0, 2, 0, 2)\n",
    "res = get_result(score_train)\n",
    "get_recall(res, future_graph_bool)"
   ]
  },
  {
   "cell_type": "code",
   "execution_count": 10,
   "metadata": {},
   "outputs": [],
   "source": [
    "# Получили 91 попугай, неплохо"
   ]
  },
  {
   "cell_type": "code",
   "execution_count": 11,
   "metadata": {},
   "outputs": [
    {
     "name": "stderr",
     "output_type": "stream",
     "text": [
      "100%|██████████| 3215720/3215720 [01:21<00:00, 39245.76it/s] \n",
      "  0%|          | 19/73391 [00:00<08:33, 142.81it/s]"
     ]
    },
    {
     "name": "stdout",
     "output_type": "stream",
     "text": [
      "u_part=0: 73391\n"
     ]
    },
    {
     "name": "stderr",
     "output_type": "stream",
     "text": [
      "100%|██████████| 73391/73391 [00:16<00:00, 4487.57it/s] \n",
      "100%|██████████| 3215720/3215720 [01:27<00:00, 36808.51it/s] \n",
      "  0%|          | 14/73202 [00:00<08:49, 138.35it/s]"
     ]
    },
    {
     "name": "stdout",
     "output_type": "stream",
     "text": [
      "u_part=1: 73202\n"
     ]
    },
    {
     "name": "stderr",
     "output_type": "stream",
     "text": [
      "100%|██████████| 73202/73202 [00:20<00:00, 3491.55it/s] \n",
      "100%|██████████| 3215720/3215720 [01:27<00:00, 36544.66it/s] \n",
      "  0%|          | 0/73248 [00:00<?, ?it/s]"
     ]
    },
    {
     "name": "stdout",
     "output_type": "stream",
     "text": [
      "u_part=2: 73248\n"
     ]
    },
    {
     "name": "stderr",
     "output_type": "stream",
     "text": [
      "100%|██████████| 73248/73248 [00:17<00:00, 4079.76it/s] \n",
      "100%|██████████| 3215720/3215720 [01:27<00:00, 36573.80it/s] \n",
      "  0%|          | 0/73668 [00:00<?, ?it/s]"
     ]
    },
    {
     "name": "stdout",
     "output_type": "stream",
     "text": [
      "u_part=3: 73668\n"
     ]
    },
    {
     "name": "stderr",
     "output_type": "stream",
     "text": [
      "100%|██████████| 73668/73668 [00:20<00:00, 3561.14it/s] \n",
      "100%|██████████| 3215720/3215720 [01:28<00:00, 36504.44it/s] \n",
      "  0%|          | 12/73868 [00:00<13:46, 89.33it/s]"
     ]
    },
    {
     "name": "stdout",
     "output_type": "stream",
     "text": [
      "u_part=4: 73868\n"
     ]
    },
    {
     "name": "stderr",
     "output_type": "stream",
     "text": [
      "100%|██████████| 73868/73868 [00:17<00:00, 4256.46it/s] \n"
     ]
    }
   ],
   "source": [
    "# Так же, как и в бейзлайне, решаем задачу батчами, т.к. на компе мало памяти :(\n",
    "result = {}\n",
    "for u_part in range(5):\n",
    "    score = solution(u_part, 5, 1, 8, 1, 2)\n",
    "    print(f\"u_part={u_part}: {len(score)}\")\n",
    "    res = get_result(score)\n",
    "    result.update(res)"
   ]
  },
  {
   "cell_type": "code",
   "execution_count": 12,
   "metadata": {},
   "outputs": [],
   "source": [
    "res_path = '/Users/tyamgin/Projects/mlbootcamp/vkcup2021_1/res'\n",
    "with open(f\"{res_path}/res.txt\", 'w') as out:\n",
    "    out.write(\"\\n\".join(str(id) + \": \" + \",\".join(map(str, lst))\n",
    "                        for id, lst in result.items() \n",
    "                        if len(lst) > 0) + \"\\n\")\n",
    "\n",
    "with zipfile.ZipFile(f\"{res_path}/res.zip\", \"w\") as zf:\n",
    "    zf.write(f\"{res_path}/res.txt\", \"res.txt\")"
   ]
  }
 ],
 "metadata": {
  "kernelspec": {
   "display_name": "Python 3",
   "language": "python",
   "name": "python3"
  },
  "language_info": {
   "codemirror_mode": {
    "name": "ipython",
    "version": 3
   },
   "file_extension": ".py",
   "mimetype": "text/x-python",
   "name": "python",
   "nbconvert_exporter": "python",
   "pygments_lexer": "ipython3",
   "version": "3.9.5"
  }
 },
 "nbformat": 4,
 "nbformat_minor": 2
}
